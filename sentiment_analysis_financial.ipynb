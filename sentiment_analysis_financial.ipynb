{
 "cells": [
  {
   "cell_type": "markdown",
   "metadata": {},
   "source": [
    "## Sentiment analysis project"
   ]
  },
  {
   "cell_type": "markdown",
   "metadata": {},
   "source": [
    "This is a simple sentiment analysis project with standard ML models and RNN. Data was taken from [kaggle](https://www.kaggle.com/ankurzing/sentiment-analysis-for-financial-news)."
   ]
  },
  {
   "cell_type": "code",
   "execution_count": 4,
   "metadata": {},
   "outputs": [],
   "source": [
    "import pandas as pd\n",
    "import matplotlib.pyplot as plt\n",
    "import numpy as np\n",
    "import re\n",
    "import nltk\n",
    "import seaborn as sns\n",
    "import pickle\n",
    "from nltk.corpus import stopwords\n",
    "from nltk.stem import PorterStemmer\n",
    "from nltk.stem import WordNetLemmatizer\n",
    "from sklearn.preprocessing import FunctionTransformer\n",
    "from sklearn.pipeline import Pipeline\n",
    "from sklearn.model_selection import train_test_split\n",
    "from sklearn.feature_extraction.text import TfidfVectorizer\n",
    "from sklearn.linear_model import LogisticRegression\n",
    "from sklearn.ensemble import RandomForestClassifier, ExtraTreesClassifier, VotingClassifier\n",
    "from sklearn.svm import SVC\n",
    "from sklearn.neighbors import KNeighborsClassifier\n",
    "from xgboost import XGBClassifier\n",
    "from catboost import CatBoostClassifier\n",
    "from sklearn.metrics import classification_report, plot_confusion_matrix, accuracy_score, confusion_matrix\n",
    "from sklearn.model_selection import RandomizedSearchCV, GridSearchCV\n",
    "import os\n",
    "import random\n",
    "import random as python_random\n",
    "import tensorflow as tf\n",
    "from tensorflow import keras\n",
    "\n",
    "\n",
    "os.environ['PYTHONHASHSEED'] = '200'\n",
    "python_random.seed(200)\n",
    "np.random.seed(200)\n",
    "tf.random.set_seed(200)"
   ]
  },
  {
   "cell_type": "markdown",
   "metadata": {},
   "source": [
    "Lets first load our data and see how it looks like."
   ]
  },
  {
   "cell_type": "code",
   "execution_count": 5,
   "metadata": {},
   "outputs": [],
   "source": [
    "df = pd.read_csv('all-data.csv', engine='python')"
   ]
  },
  {
   "cell_type": "code",
   "execution_count": 6,
   "metadata": {},
   "outputs": [
    {
     "data": {
      "text/html": [
       "<div>\n",
       "<style scoped>\n",
       "    .dataframe tbody tr th:only-of-type {\n",
       "        vertical-align: middle;\n",
       "    }\n",
       "\n",
       "    .dataframe tbody tr th {\n",
       "        vertical-align: top;\n",
       "    }\n",
       "\n",
       "    .dataframe thead th {\n",
       "        text-align: right;\n",
       "    }\n",
       "</style>\n",
       "<table border=\"1\" class=\"dataframe\">\n",
       "  <thead>\n",
       "    <tr style=\"text-align: right;\">\n",
       "      <th></th>\n",
       "      <th>sentiment</th>\n",
       "      <th>review</th>\n",
       "    </tr>\n",
       "  </thead>\n",
       "  <tbody>\n",
       "    <tr>\n",
       "      <th>0</th>\n",
       "      <td>neutral</td>\n",
       "      <td>According to Gran , the company has no plans t...</td>\n",
       "    </tr>\n",
       "    <tr>\n",
       "      <th>1</th>\n",
       "      <td>neutral</td>\n",
       "      <td>Technopolis plans to develop in stages an area...</td>\n",
       "    </tr>\n",
       "    <tr>\n",
       "      <th>2</th>\n",
       "      <td>negative</td>\n",
       "      <td>The international electronic industry company ...</td>\n",
       "    </tr>\n",
       "    <tr>\n",
       "      <th>3</th>\n",
       "      <td>positive</td>\n",
       "      <td>With the new production plant the company woul...</td>\n",
       "    </tr>\n",
       "    <tr>\n",
       "      <th>4</th>\n",
       "      <td>positive</td>\n",
       "      <td>According to the company 's updated strategy f...</td>\n",
       "    </tr>\n",
       "  </tbody>\n",
       "</table>\n",
       "</div>"
      ],
      "text/plain": [
       "  sentiment                                             review\n",
       "0   neutral  According to Gran , the company has no plans t...\n",
       "1   neutral  Technopolis plans to develop in stages an area...\n",
       "2  negative  The international electronic industry company ...\n",
       "3  positive  With the new production plant the company woul...\n",
       "4  positive  According to the company 's updated strategy f..."
      ]
     },
     "execution_count": 6,
     "metadata": {},
     "output_type": "execute_result"
    }
   ],
   "source": [
    "df.head(5)"
   ]
  },
  {
   "cell_type": "markdown",
   "metadata": {},
   "source": [
    "We have 3 different classes to predict and the dataset is imbalanced as it is shown below."
   ]
  },
  {
   "cell_type": "code",
   "execution_count": 7,
   "metadata": {},
   "outputs": [
    {
     "data": {
      "text/plain": [
       "neutral     59.41\n",
       "positive    28.13\n",
       "negative    12.46\n",
       "Name: sentiment, dtype: float64"
      ]
     },
     "execution_count": 7,
     "metadata": {},
     "output_type": "execute_result"
    }
   ],
   "source": [
    "np.round(df['sentiment'].value_counts() * 100 / len(df), 2)"
   ]
  },
  {
   "cell_type": "code",
   "execution_count": 8,
   "metadata": {},
   "outputs": [
    {
     "data": {
      "text/plain": [
       "<matplotlib.axes._subplots.AxesSubplot at 0x22f8b2c0130>"
      ]
     },
     "execution_count": 8,
     "metadata": {},
     "output_type": "execute_result"
    },
    {
     "data": {
      "image/png": "[encoded data removed]",
      "text/plain": [
       "<Figure size 432x288 with 1 Axes>"
      ]
     },
     "metadata": {
      "needs_background": "light"
     },
     "output_type": "display_data"
    }
   ],
   "source": [
    "sns.countplot(data=df, x=df['sentiment'])"
   ]
  },
  {
   "cell_type": "markdown",
   "metadata": {},
   "source": [
    "Every review has to be preprocessed in some way before training. First we will clean all the texts using *regular expressions*. Then we will remove *stopwords* and use either a *stemmer* or a *lemmatizer*. The next step will be to encode reviews in some way. For the ML models I will use a *Tfidf* vectorizer and for the RNN a *TextVectorization* layer followed by an *Embedding* layer."
   ]
  },
  {
   "cell_type": "markdown",
   "metadata": {},
   "source": [
    "Below we can see that our reviews contain lots of numbers, prices, dates and symbols. Using regular expressions we can replace some patterns with the other. For this purpose we can define a function which will do the required replacements and then wrap it as a transfomer so that it can be saved for future preprocessing on the new instances."
   ]
  },
  {
   "cell_type": "code",
   "execution_count": 9,
   "metadata": {},
   "outputs": [
    {
     "data": {
      "text/plain": [
       "['According to Gran , the company has no plans to move all production to Russia , although that is where the company is growing .',\n",
       " 'Technopolis plans to develop in stages an area of no less than 100,000 square meters in order to host companies working in computer technologies and telecommunications , the statement said .',\n",
       " 'The international electronic industry company Elcoteq has laid off tens of employees from its Tallinn facility ; contrary to earlier layoffs the company contracted the ranks of its office workers , the daily Postimees reported .',\n",
       " 'With the new production plant the company would increase its capacity to meet the expected increase in demand and would improve the use of raw materials and therefore increase the production profitability .',\n",
       " \"According to the company 's updated strategy for the years 2009-2012 , Basware targets a long-term net sales growth in the range of 20 % -40 % with an operating profit margin of 10 % -20 % of net sales .\",\n",
       " \"FINANCING OF ASPOCOMP 'S GROWTH Aspocomp is aggressively pursuing its growth strategy by increasingly focusing on technologically more demanding HDI printed circuit boards PCBs .\",\n",
       " \"For the last quarter of 2010 , Componenta 's net sales doubled to EUR131m from EUR76m for the same period a year earlier , while it moved to a zero pre-tax profit from a pre-tax loss of EUR7m .\",\n",
       " 'In the third quarter of 2010 , net sales increased by 5.2 % to EUR 205.5 mn , and operating profit by 34.9 % to EUR 23.5 mn .',\n",
       " 'Operating profit rose to EUR 13.1 mn from EUR 8.7 mn in the corresponding period in 2007 representing 7.7 % of net sales .',\n",
       " 'Operating profit totalled EUR 21.1 mn , up from EUR 18.6 mn in 2007 , representing 9.7 % of net sales .']"
      ]
     },
     "execution_count": 9,
     "metadata": {},
     "output_type": "execute_result"
    }
   ],
   "source": [
    "list(df['review'])[:10]"
   ]
  },
  {
   "cell_type": "markdown",
   "metadata": {},
   "source": [
    "Before writing the function lets also split the data for features and targets with encoded labels."
   ]
  },
  {
   "cell_type": "code",
   "execution_count": 10,
   "metadata": {},
   "outputs": [],
   "source": [
    "classes_map = {'neutral': 0, 'positive': 1, 'negative': 2}\n",
    "df['sentiment'] = df['sentiment'].map(classes_map)\n",
    "X = df['review'].copy()\n",
    "y = df['sentiment'].copy()"
   ]
  },
  {
   "cell_type": "code",
   "execution_count": 11,
   "metadata": {},
   "outputs": [],
   "source": [
    "def apply_regex(X):\n",
    "    # replace any urls with \"url\"\n",
    "    X = [re.sub(r'http\\S+', ' url', r) for r in X]\n",
    "    \n",
    "    # replace any breakline and carriage return patterns with a space\n",
    "    X = [re.sub('[\\n\\r]', ' ', r) for r in X]\n",
    "    \n",
    "    # replace dates in the format day.month.year with a \"date\"\n",
    "    X = [re.sub('([0-2][0-9]|(3)[0-1])\\.(((0)[0-9])|((1)[0-2]))\\.\\d{2,4}', ' date ', r) for r in X]\n",
    "    \n",
    "    # replace year with a \"year\"\n",
    "    X = [re.sub(r'\\d{4}', 'year', r) for r in X]\n",
    "    \n",
    "    # replace %, $ and US$ patterns\n",
    "    X = [re.sub('[%]', 'percent', r) for r in X]\n",
    "    X = [re.sub('US\\$', 'USD', r) for r in X]\n",
    "    X = [re.sub('[$]', 'USD', r) for r in X]\n",
    "    \n",
    "    # replace any non word strings with a space\n",
    "    X = [re.sub('\\W', ' ', r) for r in X]\n",
    "\n",
    "    # remove additional whitespaces\n",
    "    X = [re.sub('\\s+', ' ', r) for r in X]\n",
    "    X = [re.sub('[ \\t]+$', '', r) for r in X]\n",
    "    \n",
    "    return X"
   ]
  },
  {
   "cell_type": "code",
   "execution_count": 12,
   "metadata": {},
   "outputs": [],
   "source": [
    "apply_regex_tf = FunctionTransformer(apply_regex)"
   ]
  },
  {
   "cell_type": "markdown",
   "metadata": {},
   "source": [
    "The next step is to remove stopwords from every review. To do this we first have to get the list of stopwords in english language and then write a simple function which can be again wrapped as a transformer."
   ]
  },
  {
   "cell_type": "code",
   "execution_count": 13,
   "metadata": {},
   "outputs": [],
   "source": [
    "eng_stopwords = stopwords.words('english')"
   ]
  },
  {
   "cell_type": "code",
   "execution_count": 14,
   "metadata": {},
   "outputs": [],
   "source": [
    "def stopwords_removal(X, cached_stopwords=eng_stopwords):\n",
    "    words = [[c.lower() for c in text.split() if c.lower() not in cached_stopwords] for text in X]\n",
    "    return [' '.join(i) for i in words]"
   ]
  },
  {
   "cell_type": "code",
   "execution_count": 15,
   "metadata": {},
   "outputs": [],
   "source": [
    "stopwords_remover_tf = FunctionTransformer(stopwords_removal, kw_args={'cached_stopwords':eng_stopwords})"
   ]
  },
  {
   "cell_type": "code",
   "execution_count": 16,
   "metadata": {},
   "outputs": [],
   "source": [
    "X_reg_stop = apply_regex_tf.fit_transform(X)"
   ]
  },
  {
   "cell_type": "code",
   "execution_count": 17,
   "metadata": {},
   "outputs": [
    {
     "data": {
      "text/plain": [
       "['According to Gran the company has no plans to move all production to Russia although that is where the company is growing',\n",
       " 'Technopolis plans to develop in stages an area of no less than 100 000 square meters in order to host companies working in computer technologies and telecommunications the statement said',\n",
       " 'The international electronic industry company Elcoteq has laid off tens of employees from its Tallinn facility contrary to earlier layoffs the company contracted the ranks of its office workers the daily Postimees reported',\n",
       " 'With the new production plant the company would increase its capacity to meet the expected increase in demand and would improve the use of raw materials and therefore increase the production profitability',\n",
       " 'According to the company s updated strategy for the years year year Basware targets a long term net sales growth in the range of 20 percent 40 percent with an operating profit margin of 10 percent 20 percent of net sales',\n",
       " 'FINANCING OF ASPOCOMP S GROWTH Aspocomp is aggressively pursuing its growth strategy by increasingly focusing on technologically more demanding HDI printed circuit boards PCBs',\n",
       " 'For the last quarter of year Componenta s net sales doubled to EUR131m from EUR76m for the same period a year earlier while it moved to a zero pre tax profit from a pre tax loss of EUR7m',\n",
       " 'In the third quarter of year net sales increased by 5 2 percent to EUR 205 5 mn and operating profit by 34 9 percent to EUR 23 5 mn',\n",
       " 'Operating profit rose to EUR 13 1 mn from EUR 8 7 mn in the corresponding period in year representing 7 7 percent of net sales',\n",
       " 'Operating profit totalled EUR 21 1 mn up from EUR 18 6 mn in year representing 9 7 percent of net sales']"
      ]
     },
     "execution_count": 17,
     "metadata": {},
     "output_type": "execute_result"
    }
   ],
   "source": [
    "X_reg_stop[:10]"
   ]
  },
  {
   "cell_type": "markdown",
   "metadata": {},
   "source": [
    "## Standard ML models - lemmatization"
   ]
  },
  {
   "cell_type": "markdown",
   "metadata": {},
   "source": [
    "Now we can either use lemmatization or stemming. Lets start with the first one. For this purpose we can use a *WordNetLemmatizer*. One has to specify the context in which every word should be lemmatized. Here we choose *verb*. Entire process is wrapped in the small function below. "
   ]
  },
  {
   "cell_type": "code",
   "execution_count": 450,
   "metadata": {},
   "outputs": [],
   "source": [
    "def lemmatization_process(X, lemmatizer=WordNetLemmatizer()):\n",
    "    words = [[lemmatizer.lemmatize(c, pos='v') for c in text.split()] for text in X]\n",
    "    return [' '.join(i) for i in words]"
   ]
  },
  {
   "cell_type": "code",
   "execution_count": 451,
   "metadata": {},
   "outputs": [],
   "source": [
    "lemmatization_process_tf = FunctionTransformer(lemmatization_process, kw_args={'lemmatizer':WordNetLemmatizer()})"
   ]
  },
  {
   "cell_type": "markdown",
   "metadata": {},
   "source": [
    "All 3 preprocessing steps were wrapped as the transformers and now we can simply put them all together and create a single preprocessing pipeline. The last step in the pipeline will be a *Tfidf* vectorization. Each review is encoded as a vector with the length of the vocabulary (automatically created) and for each word which is present in the review we get a score. This score is a ratio of the *term frequency* to the *inverse document frequency*. Term frequency -> how many times word occured in the review / total number of words in the review. Inverse document frequency -> total number of documents / number of documents in which this specific word occured. "
   ]
  },
  {
   "cell_type": "code",
   "execution_count": 466,
   "metadata": {},
   "outputs": [],
   "source": [
    "text_prep_pipeline = Pipeline([\n",
    "    ('regex', apply_regex_tf),\n",
    "    ('stopwords', stopwords_remover_tf),\n",
    "    ('lemmatization', lemmatization_process_tf),\n",
    "    ('vectorizer', TfidfVectorizer(stop_words=eng_stopwords))\n",
    "])"
   ]
  },
  {
   "cell_type": "code",
   "execution_count": 467,
   "metadata": {},
   "outputs": [],
   "source": [
    "X_prep = text_prep_pipeline.fit_transform(X)"
   ]
  },
  {
   "cell_type": "code",
   "execution_count": 468,
   "metadata": {},
   "outputs": [
    {
     "data": {
      "text/plain": [
       "<4846x8494 sparse matrix of type '<class 'numpy.float64'>'\n",
       "\twith 60165 stored elements in Compressed Sparse Row format>"
      ]
     },
     "execution_count": 468,
     "metadata": {},
     "output_type": "execute_result"
    }
   ],
   "source": [
    "X_prep"
   ]
  },
  {
   "cell_type": "code",
   "execution_count": 469,
   "metadata": {},
   "outputs": [],
   "source": [
    "X_train, X_test, y_train, y_test = train_test_split(X_prep, y, test_size=0.2, stratify=y, random_state=200)"
   ]
  },
  {
   "cell_type": "markdown",
   "metadata": {},
   "source": [
    "We will try couple of models to see what performance we can get."
   ]
  },
  {
   "cell_type": "code",
   "execution_count": 471,
   "metadata": {},
   "outputs": [
    {
     "name": "stderr",
     "output_type": "stream",
     "text": [
      "C:\\ProgramData\\Anaconda3\\lib\\site-packages\\xgboost\\sklearn.py:1146: UserWarning: The use of label encoder in XGBClassifier is deprecated and will be removed in a future release. To remove this warning, do the following: 1) Pass option use_label_encoder=False when constructing XGBClassifier object; and 2) Encode your labels (y) as integers starting with 0, i.e. 0, 1, 2, ..., [num_class - 1].\n",
      "  warnings.warn(label_encoder_deprecation_msg, UserWarning)\n"
     ]
    },
    {
     "name": "stdout",
     "output_type": "stream",
     "text": [
      "[18:40:52] WARNING: C:/Users/Administrator/workspace/xgboost-win64_release_1.4.0/src/learner.cc:1095: Starting in XGBoost 1.3.0, the default evaluation metric used with the objective 'multi:softprob' was changed from 'merror' to 'mlogloss'. Explicitly set eval_metric if you'd like to restore the old behavior.\n",
      "Learning rate set to 0.084787\n",
      "0:\tlearn: 1.0566923\ttotal: 112ms\tremaining: 1m 52s\n",
      "1:\tlearn: 1.0267853\ttotal: 175ms\tremaining: 1m 27s\n",
      "2:\tlearn: 0.9996117\ttotal: 238ms\tremaining: 1m 19s\n",
      "3:\tlearn: 0.9802544\ttotal: 302ms\tremaining: 1m 15s\n",
      "4:\tlearn: 0.9601368\ttotal: 365ms\tremaining: 1m 12s\n",
      "5:\tlearn: 0.9432358\ttotal: 432ms\tremaining: 1m 11s\n",
      "6:\tlearn: 0.9275209\ttotal: 495ms\tremaining: 1m 10s\n",
      "7:\tlearn: 0.9141004\ttotal: 555ms\tremaining: 1m 8s\n",
      "8:\tlearn: 0.9018989\ttotal: 621ms\tremaining: 1m 8s\n",
      "9:\tlearn: 0.8907620\ttotal: 686ms\tremaining: 1m 7s\n",
      "10:\tlearn: 0.8798963\ttotal: 750ms\tremaining: 1m 7s\n",
      "11:\tlearn: 0.8689757\ttotal: 815ms\tremaining: 1m 7s\n",
      "12:\tlearn: 0.8599072\ttotal: 873ms\tremaining: 1m 6s\n",
      "13:\tlearn: 0.8527457\ttotal: 932ms\tremaining: 1m 5s\n",
      "14:\tlearn: 0.8434587\ttotal: 999ms\tremaining: 1m 5s\n",
      "15:\tlearn: 0.8370538\ttotal: 1.06s\tremaining: 1m 5s\n",
      "16:\tlearn: 0.8310435\ttotal: 1.12s\tremaining: 1m 4s\n",
      "17:\tlearn: 0.8249002\ttotal: 1.18s\tremaining: 1m 4s\n",
      "18:\tlearn: 0.8199205\ttotal: 1.24s\tremaining: 1m 3s\n",
      "19:\tlearn: 0.8146989\ttotal: 1.29s\tremaining: 1m 3s\n",
      "20:\tlearn: 0.8094559\ttotal: 1.35s\tremaining: 1m 3s\n",
      "21:\tlearn: 0.8053503\ttotal: 1.41s\tremaining: 1m 2s\n",
      "22:\tlearn: 0.8007654\ttotal: 1.48s\tremaining: 1m 2s\n",
      "23:\tlearn: 0.7965437\ttotal: 1.54s\tremaining: 1m 2s\n",
      "24:\tlearn: 0.7924918\ttotal: 1.6s\tremaining: 1m 2s\n",
      "25:\tlearn: 0.7890013\ttotal: 1.67s\tremaining: 1m 2s\n",
      "26:\tlearn: 0.7858679\ttotal: 1.72s\tremaining: 1m 2s\n",
      "27:\tlearn: 0.7835814\ttotal: 1.78s\tremaining: 1m 1s\n",
      "28:\tlearn: 0.7807889\ttotal: 1.84s\tremaining: 1m 1s\n",
      "29:\tlearn: 0.7770977\ttotal: 1.91s\tremaining: 1m 1s\n",
      "30:\tlearn: 0.7739846\ttotal: 1.97s\tremaining: 1m 1s\n",
      "31:\tlearn: 0.7717533\ttotal: 2.03s\tremaining: 1m 1s\n",
      "32:\tlearn: 0.7686320\ttotal: 2.09s\tremaining: 1m 1s\n",
      "33:\tlearn: 0.7667227\ttotal: 2.15s\tremaining: 1m 1s\n",
      "34:\tlearn: 0.7641449\ttotal: 2.21s\tremaining: 1m\n",
      "35:\tlearn: 0.7614566\ttotal: 2.27s\tremaining: 1m\n",
      "36:\tlearn: 0.7589026\ttotal: 2.33s\tremaining: 1m\n",
      "37:\tlearn: 0.7571685\ttotal: 2.4s\tremaining: 1m\n",
      "38:\tlearn: 0.7551506\ttotal: 2.46s\tremaining: 1m\n",
      "39:\tlearn: 0.7534138\ttotal: 2.52s\tremaining: 1m\n",
      "40:\tlearn: 0.7514615\ttotal: 2.58s\tremaining: 1m\n",
      "41:\tlearn: 0.7505436\ttotal: 2.64s\tremaining: 1m\n",
      "42:\tlearn: 0.7489670\ttotal: 2.7s\tremaining: 1m\n",
      "43:\tlearn: 0.7468329\ttotal: 2.76s\tremaining: 60s\n",
      "44:\tlearn: 0.7449448\ttotal: 2.82s\tremaining: 59.9s\n",
      "45:\tlearn: 0.7433400\ttotal: 2.88s\tremaining: 59.8s\n",
      "46:\tlearn: 0.7413013\ttotal: 2.94s\tremaining: 59.7s\n",
      "47:\tlearn: 0.7396965\ttotal: 3s\tremaining: 59.5s\n",
      "48:\tlearn: 0.7380605\ttotal: 3.06s\tremaining: 59.4s\n",
      "49:\tlearn: 0.7367380\ttotal: 3.12s\tremaining: 59.2s\n",
      "50:\tlearn: 0.7348115\ttotal: 3.17s\tremaining: 59s\n",
      "51:\tlearn: 0.7331052\ttotal: 3.23s\tremaining: 58.9s\n",
      "52:\tlearn: 0.7321402\ttotal: 3.29s\tremaining: 58.8s\n",
      "53:\tlearn: 0.7307860\ttotal: 3.35s\tremaining: 58.6s\n",
      "54:\tlearn: 0.7295968\ttotal: 3.4s\tremaining: 58.5s\n",
      "55:\tlearn: 0.7286618\ttotal: 3.46s\tremaining: 58.4s\n",
      "56:\tlearn: 0.7272908\ttotal: 3.52s\tremaining: 58.3s\n",
      "57:\tlearn: 0.7257383\ttotal: 3.58s\tremaining: 58.2s\n",
      "58:\tlearn: 0.7247638\ttotal: 3.65s\tremaining: 58.2s\n",
      "59:\tlearn: 0.7237646\ttotal: 3.71s\tremaining: 58.1s\n",
      "60:\tlearn: 0.7220689\ttotal: 3.77s\tremaining: 58.1s\n",
      "61:\tlearn: 0.7207515\ttotal: 3.83s\tremaining: 58s\n",
      "62:\tlearn: 0.7194592\ttotal: 3.9s\tremaining: 58s\n",
      "63:\tlearn: 0.7183260\ttotal: 3.96s\tremaining: 57.9s\n",
      "64:\tlearn: 0.7175537\ttotal: 4.02s\tremaining: 57.8s\n",
      "65:\tlearn: 0.7161313\ttotal: 4.08s\tremaining: 57.8s\n",
      "66:\tlearn: 0.7151421\ttotal: 4.15s\tremaining: 57.8s\n",
      "67:\tlearn: 0.7138061\ttotal: 4.21s\tremaining: 57.8s\n",
      "68:\tlearn: 0.7128833\ttotal: 4.28s\tremaining: 57.7s\n",
      "69:\tlearn: 0.7113622\ttotal: 4.35s\tremaining: 57.8s\n",
      "70:\tlearn: 0.7100597\ttotal: 4.41s\tremaining: 57.7s\n",
      "71:\tlearn: 0.7087721\ttotal: 4.47s\tremaining: 57.6s\n",
      "72:\tlearn: 0.7078078\ttotal: 4.52s\tremaining: 57.4s\n",
      "73:\tlearn: 0.7067772\ttotal: 4.58s\tremaining: 57.3s\n",
      "74:\tlearn: 0.7058945\ttotal: 4.64s\tremaining: 57.2s\n",
      "75:\tlearn: 0.7043747\ttotal: 4.7s\tremaining: 57.1s\n",
      "76:\tlearn: 0.7036715\ttotal: 4.76s\tremaining: 57s\n",
      "77:\tlearn: 0.7024631\ttotal: 4.82s\tremaining: 56.9s\n",
      "78:\tlearn: 0.7013540\ttotal: 4.88s\tremaining: 56.8s\n",
      "79:\tlearn: 0.7004454\ttotal: 4.93s\tremaining: 56.7s\n",
      "80:\tlearn: 0.6994274\ttotal: 4.99s\tremaining: 56.6s\n",
      "81:\tlearn: 0.6986074\ttotal: 5.05s\tremaining: 56.5s\n",
      "82:\tlearn: 0.6975906\ttotal: 5.11s\tremaining: 56.4s\n",
      "83:\tlearn: 0.6963010\ttotal: 5.16s\tremaining: 56.3s\n",
      "84:\tlearn: 0.6956721\ttotal: 5.22s\tremaining: 56.2s\n",
      "85:\tlearn: 0.6945966\ttotal: 5.28s\tremaining: 56.1s\n",
      "86:\tlearn: 0.6934735\ttotal: 5.33s\tremaining: 56s\n",
      "87:\tlearn: 0.6922249\ttotal: 5.39s\tremaining: 55.9s\n",
      "88:\tlearn: 0.6912651\ttotal: 5.45s\tremaining: 55.8s\n",
      "89:\tlearn: 0.6906282\ttotal: 5.51s\tremaining: 55.7s\n",
      "90:\tlearn: 0.6896094\ttotal: 5.56s\tremaining: 55.6s\n",
      "91:\tlearn: 0.6891416\ttotal: 5.63s\tremaining: 55.5s\n",
      "92:\tlearn: 0.6880444\ttotal: 5.68s\tremaining: 55.4s\n",
      "93:\tlearn: 0.6870518\ttotal: 5.75s\tremaining: 55.4s\n",
      "94:\tlearn: 0.6860463\ttotal: 5.8s\tremaining: 55.3s\n",
      "95:\tlearn: 0.6848587\ttotal: 5.86s\tremaining: 55.2s\n",
      "96:\tlearn: 0.6834221\ttotal: 5.92s\tremaining: 55.1s\n",
      "97:\tlearn: 0.6823757\ttotal: 5.98s\tremaining: 55s\n",
      "98:\tlearn: 0.6814601\ttotal: 6.04s\tremaining: 55s\n",
      "99:\tlearn: 0.6806690\ttotal: 6.1s\tremaining: 54.9s\n",
      "100:\tlearn: 0.6795431\ttotal: 6.15s\tremaining: 54.8s\n",
      "101:\tlearn: 0.6787633\ttotal: 6.21s\tremaining: 54.7s\n",
      "102:\tlearn: 0.6781179\ttotal: 6.27s\tremaining: 54.6s\n",
      "103:\tlearn: 0.6772798\ttotal: 6.33s\tremaining: 54.5s\n",
      "104:\tlearn: 0.6761718\ttotal: 6.38s\tremaining: 54.4s\n",
      "105:\tlearn: 0.6752182\ttotal: 6.44s\tremaining: 54.3s\n",
      "106:\tlearn: 0.6741615\ttotal: 6.51s\tremaining: 54.3s\n",
      "107:\tlearn: 0.6732246\ttotal: 6.57s\tremaining: 54.3s\n",
      "108:\tlearn: 0.6723466\ttotal: 6.64s\tremaining: 54.3s\n",
      "109:\tlearn: 0.6712213\ttotal: 6.7s\tremaining: 54.2s\n",
      "110:\tlearn: 0.6702274\ttotal: 6.76s\tremaining: 54.2s\n",
      "111:\tlearn: 0.6691629\ttotal: 6.83s\tremaining: 54.1s\n",
      "112:\tlearn: 0.6682803\ttotal: 6.89s\tremaining: 54.1s\n",
      "113:\tlearn: 0.6674456\ttotal: 6.95s\tremaining: 54s\n",
      "114:\tlearn: 0.6668949\ttotal: 7.01s\tremaining: 54s\n",
      "115:\tlearn: 0.6654959\ttotal: 7.07s\tremaining: 53.9s\n",
      "116:\tlearn: 0.6645955\ttotal: 7.13s\tremaining: 53.8s\n",
      "117:\tlearn: 0.6633034\ttotal: 7.19s\tremaining: 53.7s\n",
      "118:\tlearn: 0.6627283\ttotal: 7.25s\tremaining: 53.7s\n",
      "119:\tlearn: 0.6618730\ttotal: 7.31s\tremaining: 53.6s\n",
      "120:\tlearn: 0.6612238\ttotal: 7.38s\tremaining: 53.6s\n",
      "121:\tlearn: 0.6602300\ttotal: 7.45s\tremaining: 53.6s\n",
      "122:\tlearn: 0.6594906\ttotal: 7.51s\tremaining: 53.6s\n",
      "123:\tlearn: 0.6586753\ttotal: 7.58s\tremaining: 53.5s\n",
      "124:\tlearn: 0.6574751\ttotal: 7.64s\tremaining: 53.5s\n",
      "125:\tlearn: 0.6569477\ttotal: 7.7s\tremaining: 53.4s\n",
      "126:\tlearn: 0.6553843\ttotal: 7.77s\tremaining: 53.4s\n",
      "127:\tlearn: 0.6547317\ttotal: 7.83s\tremaining: 53.4s\n",
      "128:\tlearn: 0.6536598\ttotal: 7.9s\tremaining: 53.3s\n",
      "129:\tlearn: 0.6524365\ttotal: 7.95s\tremaining: 53.2s\n",
      "130:\tlearn: 0.6518063\ttotal: 8.01s\tremaining: 53.2s\n",
      "131:\tlearn: 0.6506416\ttotal: 8.08s\tremaining: 53.1s\n",
      "132:\tlearn: 0.6495652\ttotal: 8.14s\tremaining: 53.1s\n",
      "133:\tlearn: 0.6490203\ttotal: 8.21s\tremaining: 53s\n",
      "134:\tlearn: 0.6483263\ttotal: 8.28s\tremaining: 53s\n",
      "135:\tlearn: 0.6473702\ttotal: 8.34s\tremaining: 53s\n",
      "136:\tlearn: 0.6467863\ttotal: 8.4s\tremaining: 52.9s\n",
      "137:\tlearn: 0.6456868\ttotal: 8.47s\tremaining: 52.9s\n",
      "138:\tlearn: 0.6448989\ttotal: 8.53s\tremaining: 52.9s\n",
      "139:\tlearn: 0.6442473\ttotal: 8.6s\tremaining: 52.8s\n",
      "140:\tlearn: 0.6433866\ttotal: 8.67s\tremaining: 52.8s\n",
      "141:\tlearn: 0.6426946\ttotal: 8.73s\tremaining: 52.8s\n",
      "142:\tlearn: 0.6418714\ttotal: 8.8s\tremaining: 52.7s\n",
      "143:\tlearn: 0.6411874\ttotal: 8.86s\tremaining: 52.7s\n",
      "144:\tlearn: 0.6405280\ttotal: 8.92s\tremaining: 52.6s\n",
      "145:\tlearn: 0.6394264\ttotal: 8.98s\tremaining: 52.5s\n",
      "146:\tlearn: 0.6386652\ttotal: 9.04s\tremaining: 52.4s\n",
      "147:\tlearn: 0.6382642\ttotal: 9.1s\tremaining: 52.4s\n",
      "148:\tlearn: 0.6375759\ttotal: 9.15s\tremaining: 52.3s\n",
      "149:\tlearn: 0.6363328\ttotal: 9.21s\tremaining: 52.2s\n",
      "150:\tlearn: 0.6358356\ttotal: 9.27s\tremaining: 52.1s\n",
      "151:\tlearn: 0.6347012\ttotal: 9.33s\tremaining: 52.1s\n",
      "152:\tlearn: 0.6341674\ttotal: 9.39s\tremaining: 52s\n",
      "153:\tlearn: 0.6334648\ttotal: 9.45s\tremaining: 51.9s\n",
      "154:\tlearn: 0.6324850\ttotal: 9.52s\tremaining: 51.9s\n",
      "155:\tlearn: 0.6318719\ttotal: 9.59s\tremaining: 51.9s\n",
      "156:\tlearn: 0.6314225\ttotal: 9.64s\tremaining: 51.8s\n"
     ]
    },
    {
     "name": "stdout",
     "output_type": "stream",
     "text": [
      "157:\tlearn: 0.6307297\ttotal: 9.7s\tremaining: 51.7s\n",
      "158:\tlearn: 0.6298473\ttotal: 9.76s\tremaining: 51.6s\n",
      "159:\tlearn: 0.6292683\ttotal: 9.82s\tremaining: 51.6s\n",
      "160:\tlearn: 0.6285712\ttotal: 9.88s\tremaining: 51.5s\n",
      "161:\tlearn: 0.6278273\ttotal: 9.94s\tremaining: 51.4s\n",
      "162:\tlearn: 0.6267085\ttotal: 10s\tremaining: 51.3s\n",
      "163:\tlearn: 0.6261216\ttotal: 10.1s\tremaining: 51.2s\n",
      "164:\tlearn: 0.6255146\ttotal: 10.1s\tremaining: 51.2s\n",
      "165:\tlearn: 0.6248523\ttotal: 10.2s\tremaining: 51.1s\n",
      "166:\tlearn: 0.6240877\ttotal: 10.2s\tremaining: 51s\n",
      "167:\tlearn: 0.6238028\ttotal: 10.3s\tremaining: 50.9s\n",
      "168:\tlearn: 0.6231187\ttotal: 10.3s\tremaining: 50.9s\n",
      "169:\tlearn: 0.6225154\ttotal: 10.4s\tremaining: 50.8s\n",
      "170:\tlearn: 0.6218299\ttotal: 10.5s\tremaining: 50.7s\n",
      "171:\tlearn: 0.6212715\ttotal: 10.5s\tremaining: 50.6s\n",
      "172:\tlearn: 0.6205646\ttotal: 10.6s\tremaining: 50.6s\n",
      "173:\tlearn: 0.6197029\ttotal: 10.6s\tremaining: 50.5s\n",
      "174:\tlearn: 0.6191496\ttotal: 10.7s\tremaining: 50.4s\n",
      "175:\tlearn: 0.6186577\ttotal: 10.8s\tremaining: 50.3s\n",
      "176:\tlearn: 0.6181345\ttotal: 10.8s\tremaining: 50.3s\n",
      "177:\tlearn: 0.6178064\ttotal: 10.9s\tremaining: 50.2s\n",
      "178:\tlearn: 0.6173421\ttotal: 10.9s\tremaining: 50.1s\n",
      "179:\tlearn: 0.6168979\ttotal: 11s\tremaining: 50s\n",
      "180:\tlearn: 0.6161506\ttotal: 11s\tremaining: 50s\n",
      "181:\tlearn: 0.6159296\ttotal: 11.1s\tremaining: 49.9s\n",
      "182:\tlearn: 0.6153539\ttotal: 11.2s\tremaining: 49.8s\n",
      "183:\tlearn: 0.6149707\ttotal: 11.2s\tremaining: 49.7s\n",
      "184:\tlearn: 0.6144340\ttotal: 11.3s\tremaining: 49.6s\n",
      "185:\tlearn: 0.6138260\ttotal: 11.3s\tremaining: 49.6s\n",
      "186:\tlearn: 0.6131900\ttotal: 11.4s\tremaining: 49.5s\n",
      "187:\tlearn: 0.6127297\ttotal: 11.4s\tremaining: 49.4s\n",
      "188:\tlearn: 0.6123207\ttotal: 11.5s\tremaining: 49.4s\n",
      "189:\tlearn: 0.6116161\ttotal: 11.6s\tremaining: 49.3s\n",
      "190:\tlearn: 0.6108733\ttotal: 11.6s\tremaining: 49.2s\n",
      "191:\tlearn: 0.6102957\ttotal: 11.7s\tremaining: 49.1s\n",
      "192:\tlearn: 0.6098181\ttotal: 11.7s\tremaining: 49s\n",
      "193:\tlearn: 0.6093402\ttotal: 11.8s\tremaining: 49s\n",
      "194:\tlearn: 0.6090003\ttotal: 11.8s\tremaining: 48.9s\n",
      "195:\tlearn: 0.6084355\ttotal: 11.9s\tremaining: 48.8s\n",
      "196:\tlearn: 0.6081022\ttotal: 12s\tremaining: 48.8s\n",
      "197:\tlearn: 0.6075628\ttotal: 12s\tremaining: 48.7s\n",
      "198:\tlearn: 0.6069887\ttotal: 12.1s\tremaining: 48.6s\n",
      "199:\tlearn: 0.6066493\ttotal: 12.1s\tremaining: 48.5s\n",
      "200:\tlearn: 0.6061112\ttotal: 12.2s\tremaining: 48.5s\n",
      "201:\tlearn: 0.6056414\ttotal: 12.2s\tremaining: 48.4s\n",
      "202:\tlearn: 0.6047989\ttotal: 12.3s\tremaining: 48.3s\n",
      "203:\tlearn: 0.6043968\ttotal: 12.4s\tremaining: 48.2s\n",
      "204:\tlearn: 0.6039927\ttotal: 12.4s\tremaining: 48.2s\n",
      "205:\tlearn: 0.6034773\ttotal: 12.5s\tremaining: 48.1s\n",
      "206:\tlearn: 0.6027972\ttotal: 12.5s\tremaining: 48s\n",
      "207:\tlearn: 0.6023438\ttotal: 12.6s\tremaining: 47.9s\n",
      "208:\tlearn: 0.6020181\ttotal: 12.7s\tremaining: 47.9s\n",
      "209:\tlearn: 0.6016501\ttotal: 12.7s\tremaining: 47.8s\n",
      "210:\tlearn: 0.6013521\ttotal: 12.8s\tremaining: 47.7s\n",
      "211:\tlearn: 0.6007074\ttotal: 12.8s\tremaining: 47.7s\n",
      "212:\tlearn: 0.6004149\ttotal: 12.9s\tremaining: 47.6s\n",
      "213:\tlearn: 0.5999172\ttotal: 12.9s\tremaining: 47.5s\n",
      "214:\tlearn: 0.5996291\ttotal: 13s\tremaining: 47.5s\n",
      "215:\tlearn: 0.5992336\ttotal: 13.1s\tremaining: 47.4s\n",
      "216:\tlearn: 0.5988469\ttotal: 13.1s\tremaining: 47.4s\n",
      "217:\tlearn: 0.5984402\ttotal: 13.2s\tremaining: 47.3s\n",
      "218:\tlearn: 0.5980020\ttotal: 13.2s\tremaining: 47.2s\n",
      "219:\tlearn: 0.5972499\ttotal: 13.3s\tremaining: 47.1s\n",
      "220:\tlearn: 0.5970358\ttotal: 13.4s\tremaining: 47.1s\n",
      "221:\tlearn: 0.5966237\ttotal: 13.4s\tremaining: 47s\n",
      "222:\tlearn: 0.5959943\ttotal: 13.5s\tremaining: 46.9s\n",
      "223:\tlearn: 0.5956048\ttotal: 13.5s\tremaining: 46.9s\n",
      "224:\tlearn: 0.5950618\ttotal: 13.6s\tremaining: 46.8s\n",
      "225:\tlearn: 0.5946882\ttotal: 13.6s\tremaining: 46.7s\n",
      "226:\tlearn: 0.5942815\ttotal: 13.7s\tremaining: 46.7s\n",
      "227:\tlearn: 0.5937257\ttotal: 13.8s\tremaining: 46.6s\n",
      "228:\tlearn: 0.5934187\ttotal: 13.8s\tremaining: 46.5s\n",
      "229:\tlearn: 0.5929764\ttotal: 13.9s\tremaining: 46.5s\n",
      "230:\tlearn: 0.5925621\ttotal: 13.9s\tremaining: 46.4s\n",
      "231:\tlearn: 0.5918722\ttotal: 14s\tremaining: 46.3s\n",
      "232:\tlearn: 0.5913686\ttotal: 14.1s\tremaining: 46.3s\n",
      "233:\tlearn: 0.5909128\ttotal: 14.1s\tremaining: 46.2s\n",
      "234:\tlearn: 0.5906266\ttotal: 14.2s\tremaining: 46.1s\n",
      "235:\tlearn: 0.5899452\ttotal: 14.2s\tremaining: 46s\n",
      "236:\tlearn: 0.5896578\ttotal: 14.3s\tremaining: 46s\n",
      "237:\tlearn: 0.5892391\ttotal: 14.3s\tremaining: 45.9s\n",
      "238:\tlearn: 0.5888630\ttotal: 14.4s\tremaining: 45.8s\n",
      "239:\tlearn: 0.5884134\ttotal: 14.5s\tremaining: 45.8s\n",
      "240:\tlearn: 0.5881507\ttotal: 14.5s\tremaining: 45.7s\n",
      "241:\tlearn: 0.5878211\ttotal: 14.6s\tremaining: 45.6s\n",
      "242:\tlearn: 0.5874924\ttotal: 14.6s\tremaining: 45.6s\n",
      "243:\tlearn: 0.5868931\ttotal: 14.7s\tremaining: 45.5s\n",
      "244:\tlearn: 0.5864206\ttotal: 14.7s\tremaining: 45.4s\n",
      "245:\tlearn: 0.5859715\ttotal: 14.8s\tremaining: 45.4s\n",
      "246:\tlearn: 0.5857283\ttotal: 14.9s\tremaining: 45.3s\n",
      "247:\tlearn: 0.5853579\ttotal: 14.9s\tremaining: 45.2s\n",
      "248:\tlearn: 0.5844752\ttotal: 15s\tremaining: 45.2s\n",
      "249:\tlearn: 0.5839860\ttotal: 15s\tremaining: 45.1s\n",
      "250:\tlearn: 0.5835014\ttotal: 15.1s\tremaining: 45s\n",
      "251:\tlearn: 0.5832102\ttotal: 15.2s\tremaining: 45s\n",
      "252:\tlearn: 0.5828084\ttotal: 15.2s\tremaining: 44.9s\n",
      "253:\tlearn: 0.5823215\ttotal: 15.3s\tremaining: 44.8s\n",
      "254:\tlearn: 0.5819333\ttotal: 15.3s\tremaining: 44.8s\n",
      "255:\tlearn: 0.5816164\ttotal: 15.4s\tremaining: 44.7s\n",
      "256:\tlearn: 0.5808366\ttotal: 15.4s\tremaining: 44.6s\n",
      "257:\tlearn: 0.5806366\ttotal: 15.5s\tremaining: 44.6s\n",
      "258:\tlearn: 0.5801777\ttotal: 15.6s\tremaining: 44.5s\n",
      "259:\tlearn: 0.5797798\ttotal: 15.6s\tremaining: 44.4s\n",
      "260:\tlearn: 0.5792016\ttotal: 15.7s\tremaining: 44.4s\n",
      "261:\tlearn: 0.5789861\ttotal: 15.7s\tremaining: 44.3s\n",
      "262:\tlearn: 0.5784151\ttotal: 15.8s\tremaining: 44.3s\n",
      "263:\tlearn: 0.5780425\ttotal: 15.8s\tremaining: 44.2s\n",
      "264:\tlearn: 0.5777090\ttotal: 15.9s\tremaining: 44.1s\n",
      "265:\tlearn: 0.5773148\ttotal: 16s\tremaining: 44.1s\n",
      "266:\tlearn: 0.5770201\ttotal: 16s\tremaining: 44s\n",
      "267:\tlearn: 0.5766453\ttotal: 16.1s\tremaining: 43.9s\n",
      "268:\tlearn: 0.5765186\ttotal: 16.1s\tremaining: 43.9s\n",
      "269:\tlearn: 0.5759173\ttotal: 16.2s\tremaining: 43.8s\n",
      "270:\tlearn: 0.5756605\ttotal: 16.3s\tremaining: 43.7s\n",
      "271:\tlearn: 0.5754421\ttotal: 16.3s\tremaining: 43.7s\n",
      "272:\tlearn: 0.5752501\ttotal: 16.4s\tremaining: 43.6s\n",
      "273:\tlearn: 0.5747874\ttotal: 16.4s\tremaining: 43.5s\n",
      "274:\tlearn: 0.5743545\ttotal: 16.5s\tremaining: 43.5s\n",
      "275:\tlearn: 0.5741214\ttotal: 16.5s\tremaining: 43.4s\n",
      "276:\tlearn: 0.5734777\ttotal: 16.6s\tremaining: 43.3s\n",
      "277:\tlearn: 0.5732581\ttotal: 16.7s\tremaining: 43.3s\n",
      "278:\tlearn: 0.5729319\ttotal: 16.7s\tremaining: 43.2s\n",
      "279:\tlearn: 0.5725477\ttotal: 16.8s\tremaining: 43.1s\n",
      "280:\tlearn: 0.5721982\ttotal: 16.8s\tremaining: 43.1s\n",
      "281:\tlearn: 0.5712868\ttotal: 16.9s\tremaining: 43s\n",
      "282:\tlearn: 0.5709320\ttotal: 16.9s\tremaining: 42.9s\n",
      "283:\tlearn: 0.5705485\ttotal: 17s\tremaining: 42.9s\n",
      "284:\tlearn: 0.5700072\ttotal: 17.1s\tremaining: 42.8s\n",
      "285:\tlearn: 0.5696048\ttotal: 17.1s\tremaining: 42.7s\n",
      "286:\tlearn: 0.5691724\ttotal: 17.2s\tremaining: 42.7s\n",
      "287:\tlearn: 0.5688707\ttotal: 17.2s\tremaining: 42.6s\n",
      "288:\tlearn: 0.5686851\ttotal: 17.3s\tremaining: 42.5s\n",
      "289:\tlearn: 0.5684113\ttotal: 17.3s\tremaining: 42.5s\n",
      "290:\tlearn: 0.5678484\ttotal: 17.4s\tremaining: 42.4s\n",
      "291:\tlearn: 0.5674456\ttotal: 17.5s\tremaining: 42.3s\n",
      "292:\tlearn: 0.5669947\ttotal: 17.5s\tremaining: 42.3s\n",
      "293:\tlearn: 0.5667921\ttotal: 17.6s\tremaining: 42.2s\n",
      "294:\tlearn: 0.5664954\ttotal: 17.6s\tremaining: 42.1s\n",
      "295:\tlearn: 0.5663421\ttotal: 17.7s\tremaining: 42.1s\n",
      "296:\tlearn: 0.5661147\ttotal: 17.8s\tremaining: 42s\n",
      "297:\tlearn: 0.5656368\ttotal: 17.8s\tremaining: 42s\n",
      "298:\tlearn: 0.5654974\ttotal: 17.9s\tremaining: 41.9s\n",
      "299:\tlearn: 0.5652818\ttotal: 17.9s\tremaining: 41.8s\n",
      "300:\tlearn: 0.5651494\ttotal: 18s\tremaining: 41.8s\n",
      "301:\tlearn: 0.5649281\ttotal: 18s\tremaining: 41.7s\n",
      "302:\tlearn: 0.5647237\ttotal: 18.1s\tremaining: 41.6s\n",
      "303:\tlearn: 0.5645204\ttotal: 18.2s\tremaining: 41.6s\n",
      "304:\tlearn: 0.5640316\ttotal: 18.2s\tremaining: 41.5s\n",
      "305:\tlearn: 0.5639159\ttotal: 18.3s\tremaining: 41.4s\n",
      "306:\tlearn: 0.5635638\ttotal: 18.3s\tremaining: 41.4s\n",
      "307:\tlearn: 0.5633937\ttotal: 18.4s\tremaining: 41.3s\n",
      "308:\tlearn: 0.5631228\ttotal: 18.4s\tremaining: 41.2s\n",
      "309:\tlearn: 0.5625394\ttotal: 18.5s\tremaining: 41.2s\n",
      "310:\tlearn: 0.5621941\ttotal: 18.6s\tremaining: 41.1s\n",
      "311:\tlearn: 0.5619611\ttotal: 18.6s\tremaining: 41s\n",
      "312:\tlearn: 0.5616459\ttotal: 18.7s\tremaining: 41s\n",
      "313:\tlearn: 0.5614199\ttotal: 18.7s\tremaining: 40.9s\n",
      "314:\tlearn: 0.5611725\ttotal: 18.8s\tremaining: 40.9s\n",
      "315:\tlearn: 0.5610426\ttotal: 18.8s\tremaining: 40.8s\n",
      "316:\tlearn: 0.5608973\ttotal: 18.9s\tremaining: 40.7s\n",
      "317:\tlearn: 0.5603992\ttotal: 19s\tremaining: 40.7s\n",
      "318:\tlearn: 0.5601395\ttotal: 19s\tremaining: 40.6s\n"
     ]
    },
    {
     "name": "stdout",
     "output_type": "stream",
     "text": [
      "319:\tlearn: 0.5596418\ttotal: 19.1s\tremaining: 40.5s\n",
      "320:\tlearn: 0.5592311\ttotal: 19.1s\tremaining: 40.5s\n",
      "321:\tlearn: 0.5590239\ttotal: 19.2s\tremaining: 40.4s\n",
      "322:\tlearn: 0.5588364\ttotal: 19.3s\tremaining: 40.4s\n",
      "323:\tlearn: 0.5584249\ttotal: 19.3s\tremaining: 40.3s\n",
      "324:\tlearn: 0.5579454\ttotal: 19.4s\tremaining: 40.2s\n",
      "325:\tlearn: 0.5576495\ttotal: 19.4s\tremaining: 40.2s\n",
      "326:\tlearn: 0.5573459\ttotal: 19.5s\tremaining: 40.1s\n",
      "327:\tlearn: 0.5570990\ttotal: 19.5s\tremaining: 40s\n",
      "328:\tlearn: 0.5567952\ttotal: 19.6s\tremaining: 40s\n",
      "329:\tlearn: 0.5565027\ttotal: 19.7s\tremaining: 39.9s\n",
      "330:\tlearn: 0.5562817\ttotal: 19.7s\tremaining: 39.8s\n",
      "331:\tlearn: 0.5559017\ttotal: 19.8s\tremaining: 39.8s\n",
      "332:\tlearn: 0.5556852\ttotal: 19.8s\tremaining: 39.7s\n",
      "333:\tlearn: 0.5553941\ttotal: 19.9s\tremaining: 39.7s\n",
      "334:\tlearn: 0.5551721\ttotal: 19.9s\tremaining: 39.6s\n",
      "335:\tlearn: 0.5550187\ttotal: 20s\tremaining: 39.5s\n",
      "336:\tlearn: 0.5547896\ttotal: 20.1s\tremaining: 39.5s\n",
      "337:\tlearn: 0.5545080\ttotal: 20.1s\tremaining: 39.4s\n",
      "338:\tlearn: 0.5543768\ttotal: 20.2s\tremaining: 39.3s\n",
      "339:\tlearn: 0.5539503\ttotal: 20.2s\tremaining: 39.3s\n",
      "340:\tlearn: 0.5538087\ttotal: 20.3s\tremaining: 39.2s\n",
      "341:\tlearn: 0.5533906\ttotal: 20.4s\tremaining: 39.2s\n",
      "342:\tlearn: 0.5530758\ttotal: 20.4s\tremaining: 39.1s\n",
      "343:\tlearn: 0.5527850\ttotal: 20.5s\tremaining: 39s\n",
      "344:\tlearn: 0.5526062\ttotal: 20.5s\tremaining: 39s\n",
      "345:\tlearn: 0.5525063\ttotal: 20.6s\tremaining: 38.9s\n",
      "346:\tlearn: 0.5522077\ttotal: 20.6s\tremaining: 38.9s\n",
      "347:\tlearn: 0.5520364\ttotal: 20.7s\tremaining: 38.8s\n",
      "348:\tlearn: 0.5517344\ttotal: 20.8s\tremaining: 38.7s\n",
      "349:\tlearn: 0.5514619\ttotal: 20.8s\tremaining: 38.7s\n",
      "350:\tlearn: 0.5510786\ttotal: 20.9s\tremaining: 38.6s\n",
      "351:\tlearn: 0.5508721\ttotal: 20.9s\tremaining: 38.5s\n",
      "352:\tlearn: 0.5505937\ttotal: 21s\tremaining: 38.5s\n",
      "353:\tlearn: 0.5502718\ttotal: 21s\tremaining: 38.4s\n",
      "354:\tlearn: 0.5499021\ttotal: 21.1s\tremaining: 38.3s\n",
      "355:\tlearn: 0.5497229\ttotal: 21.2s\tremaining: 38.3s\n",
      "356:\tlearn: 0.5495028\ttotal: 21.2s\tremaining: 38.2s\n",
      "357:\tlearn: 0.5492903\ttotal: 21.3s\tremaining: 38.2s\n",
      "358:\tlearn: 0.5490770\ttotal: 21.3s\tremaining: 38.1s\n",
      "359:\tlearn: 0.5488751\ttotal: 21.4s\tremaining: 38s\n",
      "360:\tlearn: 0.5487203\ttotal: 21.4s\tremaining: 38s\n",
      "361:\tlearn: 0.5484294\ttotal: 21.5s\tremaining: 37.9s\n",
      "362:\tlearn: 0.5481575\ttotal: 21.6s\tremaining: 37.8s\n",
      "363:\tlearn: 0.5479556\ttotal: 21.6s\tremaining: 37.8s\n",
      "364:\tlearn: 0.5478530\ttotal: 21.7s\tremaining: 37.7s\n",
      "365:\tlearn: 0.5476279\ttotal: 21.7s\tremaining: 37.6s\n",
      "366:\tlearn: 0.5472723\ttotal: 21.8s\tremaining: 37.6s\n",
      "367:\tlearn: 0.5468120\ttotal: 21.9s\tremaining: 37.5s\n",
      "368:\tlearn: 0.5466339\ttotal: 21.9s\tremaining: 37.5s\n",
      "369:\tlearn: 0.5464218\ttotal: 22s\tremaining: 37.4s\n",
      "370:\tlearn: 0.5461637\ttotal: 22s\tremaining: 37.3s\n",
      "371:\tlearn: 0.5458271\ttotal: 22.1s\tremaining: 37.3s\n",
      "372:\tlearn: 0.5456643\ttotal: 22.1s\tremaining: 37.2s\n",
      "373:\tlearn: 0.5453422\ttotal: 22.2s\tremaining: 37.2s\n",
      "374:\tlearn: 0.5451806\ttotal: 22.3s\tremaining: 37.1s\n",
      "375:\tlearn: 0.5449661\ttotal: 22.3s\tremaining: 37s\n",
      "376:\tlearn: 0.5448003\ttotal: 22.4s\tremaining: 37s\n",
      "377:\tlearn: 0.5445823\ttotal: 22.4s\tremaining: 36.9s\n",
      "378:\tlearn: 0.5440669\ttotal: 22.5s\tremaining: 36.8s\n",
      "379:\tlearn: 0.5438518\ttotal: 22.5s\tremaining: 36.8s\n",
      "380:\tlearn: 0.5434764\ttotal: 22.6s\tremaining: 36.7s\n",
      "381:\tlearn: 0.5432786\ttotal: 22.7s\tremaining: 36.7s\n",
      "382:\tlearn: 0.5430280\ttotal: 22.7s\tremaining: 36.6s\n",
      "383:\tlearn: 0.5426987\ttotal: 22.8s\tremaining: 36.6s\n",
      "384:\tlearn: 0.5425892\ttotal: 22.8s\tremaining: 36.5s\n",
      "385:\tlearn: 0.5420182\ttotal: 22.9s\tremaining: 36.4s\n",
      "386:\tlearn: 0.5417539\ttotal: 23s\tremaining: 36.4s\n",
      "387:\tlearn: 0.5414391\ttotal: 23s\tremaining: 36.3s\n",
      "388:\tlearn: 0.5411283\ttotal: 23.1s\tremaining: 36.2s\n",
      "389:\tlearn: 0.5409037\ttotal: 23.1s\tremaining: 36.2s\n",
      "390:\tlearn: 0.5407050\ttotal: 23.2s\tremaining: 36.1s\n",
      "391:\tlearn: 0.5402411\ttotal: 23.2s\tremaining: 36.1s\n",
      "392:\tlearn: 0.5399866\ttotal: 23.3s\tremaining: 36s\n",
      "393:\tlearn: 0.5398218\ttotal: 23.4s\tremaining: 35.9s\n",
      "394:\tlearn: 0.5396495\ttotal: 23.4s\tremaining: 35.9s\n",
      "395:\tlearn: 0.5392113\ttotal: 23.5s\tremaining: 35.8s\n",
      "396:\tlearn: 0.5389764\ttotal: 23.5s\tremaining: 35.8s\n",
      "397:\tlearn: 0.5388051\ttotal: 23.6s\tremaining: 35.7s\n",
      "398:\tlearn: 0.5387078\ttotal: 23.7s\tremaining: 35.6s\n",
      "399:\tlearn: 0.5384313\ttotal: 23.7s\tremaining: 35.6s\n",
      "400:\tlearn: 0.5383208\ttotal: 23.8s\tremaining: 35.5s\n",
      "401:\tlearn: 0.5380329\ttotal: 23.8s\tremaining: 35.5s\n",
      "402:\tlearn: 0.5378366\ttotal: 23.9s\tremaining: 35.4s\n",
      "403:\tlearn: 0.5377190\ttotal: 23.9s\tremaining: 35.3s\n",
      "404:\tlearn: 0.5374499\ttotal: 24s\tremaining: 35.3s\n",
      "405:\tlearn: 0.5371908\ttotal: 24.1s\tremaining: 35.2s\n",
      "406:\tlearn: 0.5370554\ttotal: 24.1s\tremaining: 35.2s\n",
      "407:\tlearn: 0.5367895\ttotal: 24.2s\tremaining: 35.1s\n",
      "408:\tlearn: 0.5364624\ttotal: 24.2s\tremaining: 35s\n",
      "409:\tlearn: 0.5363110\ttotal: 24.3s\tremaining: 35s\n",
      "410:\tlearn: 0.5362204\ttotal: 24.4s\tremaining: 34.9s\n",
      "411:\tlearn: 0.5359541\ttotal: 24.4s\tremaining: 34.8s\n",
      "412:\tlearn: 0.5357581\ttotal: 24.5s\tremaining: 34.8s\n",
      "413:\tlearn: 0.5355586\ttotal: 24.5s\tremaining: 34.7s\n",
      "414:\tlearn: 0.5353959\ttotal: 24.6s\tremaining: 34.7s\n",
      "415:\tlearn: 0.5352684\ttotal: 24.6s\tremaining: 34.6s\n",
      "416:\tlearn: 0.5351196\ttotal: 24.7s\tremaining: 34.5s\n",
      "417:\tlearn: 0.5348446\ttotal: 24.8s\tremaining: 34.5s\n",
      "418:\tlearn: 0.5345660\ttotal: 24.8s\tremaining: 34.4s\n",
      "419:\tlearn: 0.5343196\ttotal: 24.9s\tremaining: 34.4s\n",
      "420:\tlearn: 0.5340972\ttotal: 25s\tremaining: 34.3s\n",
      "421:\tlearn: 0.5339583\ttotal: 25s\tremaining: 34.3s\n",
      "422:\tlearn: 0.5337556\ttotal: 25.1s\tremaining: 34.2s\n",
      "423:\tlearn: 0.5336359\ttotal: 25.1s\tremaining: 34.1s\n",
      "424:\tlearn: 0.5333974\ttotal: 25.2s\tremaining: 34.1s\n",
      "425:\tlearn: 0.5332025\ttotal: 25.2s\tremaining: 34s\n",
      "426:\tlearn: 0.5329773\ttotal: 25.3s\tremaining: 34s\n",
      "427:\tlearn: 0.5327892\ttotal: 25.4s\tremaining: 33.9s\n",
      "428:\tlearn: 0.5325524\ttotal: 25.4s\tremaining: 33.8s\n",
      "429:\tlearn: 0.5323571\ttotal: 25.5s\tremaining: 33.8s\n",
      "430:\tlearn: 0.5320589\ttotal: 25.5s\tremaining: 33.7s\n",
      "431:\tlearn: 0.5317741\ttotal: 25.6s\tremaining: 33.6s\n",
      "432:\tlearn: 0.5316102\ttotal: 25.6s\tremaining: 33.6s\n",
      "433:\tlearn: 0.5313483\ttotal: 25.7s\tremaining: 33.5s\n",
      "434:\tlearn: 0.5311824\ttotal: 25.8s\tremaining: 33.5s\n",
      "435:\tlearn: 0.5310639\ttotal: 25.8s\tremaining: 33.4s\n",
      "436:\tlearn: 0.5308163\ttotal: 25.9s\tremaining: 33.3s\n",
      "437:\tlearn: 0.5305817\ttotal: 25.9s\tremaining: 33.3s\n",
      "438:\tlearn: 0.5304543\ttotal: 26s\tremaining: 33.2s\n",
      "439:\tlearn: 0.5302555\ttotal: 26.1s\tremaining: 33.2s\n",
      "440:\tlearn: 0.5300167\ttotal: 26.1s\tremaining: 33.1s\n",
      "441:\tlearn: 0.5297012\ttotal: 26.2s\tremaining: 33s\n",
      "442:\tlearn: 0.5295598\ttotal: 26.2s\tremaining: 33s\n",
      "443:\tlearn: 0.5293174\ttotal: 26.3s\tremaining: 32.9s\n",
      "444:\tlearn: 0.5291375\ttotal: 26.3s\tremaining: 32.8s\n",
      "445:\tlearn: 0.5288692\ttotal: 26.4s\tremaining: 32.8s\n",
      "446:\tlearn: 0.5287916\ttotal: 26.4s\tremaining: 32.7s\n",
      "447:\tlearn: 0.5285780\ttotal: 26.5s\tremaining: 32.7s\n",
      "448:\tlearn: 0.5283978\ttotal: 26.6s\tremaining: 32.6s\n",
      "449:\tlearn: 0.5280486\ttotal: 26.6s\tremaining: 32.5s\n",
      "450:\tlearn: 0.5278647\ttotal: 26.7s\tremaining: 32.5s\n",
      "451:\tlearn: 0.5276613\ttotal: 26.7s\tremaining: 32.4s\n",
      "452:\tlearn: 0.5275631\ttotal: 26.8s\tremaining: 32.4s\n",
      "453:\tlearn: 0.5273478\ttotal: 26.9s\tremaining: 32.3s\n",
      "454:\tlearn: 0.5271650\ttotal: 26.9s\tremaining: 32.2s\n",
      "455:\tlearn: 0.5269971\ttotal: 27s\tremaining: 32.2s\n",
      "456:\tlearn: 0.5268192\ttotal: 27s\tremaining: 32.1s\n",
      "457:\tlearn: 0.5265690\ttotal: 27.1s\tremaining: 32.1s\n",
      "458:\tlearn: 0.5264056\ttotal: 27.1s\tremaining: 32s\n",
      "459:\tlearn: 0.5262225\ttotal: 27.2s\tremaining: 31.9s\n",
      "460:\tlearn: 0.5260847\ttotal: 27.3s\tremaining: 31.9s\n",
      "461:\tlearn: 0.5259447\ttotal: 27.3s\tremaining: 31.8s\n",
      "462:\tlearn: 0.5256652\ttotal: 27.4s\tremaining: 31.8s\n",
      "463:\tlearn: 0.5255216\ttotal: 27.4s\tremaining: 31.7s\n",
      "464:\tlearn: 0.5253952\ttotal: 27.5s\tremaining: 31.6s\n",
      "465:\tlearn: 0.5251500\ttotal: 27.6s\tremaining: 31.6s\n",
      "466:\tlearn: 0.5249351\ttotal: 27.6s\tremaining: 31.5s\n",
      "467:\tlearn: 0.5248129\ttotal: 27.7s\tremaining: 31.5s\n",
      "468:\tlearn: 0.5245793\ttotal: 27.7s\tremaining: 31.4s\n",
      "469:\tlearn: 0.5244396\ttotal: 27.8s\tremaining: 31.3s\n",
      "470:\tlearn: 0.5240952\ttotal: 27.8s\tremaining: 31.3s\n",
      "471:\tlearn: 0.5237993\ttotal: 27.9s\tremaining: 31.2s\n",
      "472:\tlearn: 0.5231407\ttotal: 28s\tremaining: 31.2s\n",
      "473:\tlearn: 0.5228678\ttotal: 28s\tremaining: 31.1s\n",
      "474:\tlearn: 0.5226613\ttotal: 28.1s\tremaining: 31s\n",
      "475:\tlearn: 0.5224648\ttotal: 28.1s\tremaining: 31s\n",
      "476:\tlearn: 0.5222239\ttotal: 28.2s\tremaining: 30.9s\n",
      "477:\tlearn: 0.5221066\ttotal: 28.2s\tremaining: 30.8s\n"
     ]
    },
    {
     "name": "stdout",
     "output_type": "stream",
     "text": [
      "478:\tlearn: 0.5218752\ttotal: 28.3s\tremaining: 30.8s\n",
      "479:\tlearn: 0.5217087\ttotal: 28.4s\tremaining: 30.7s\n",
      "480:\tlearn: 0.5215679\ttotal: 28.4s\tremaining: 30.7s\n",
      "481:\tlearn: 0.5214454\ttotal: 28.5s\tremaining: 30.6s\n",
      "482:\tlearn: 0.5212776\ttotal: 28.5s\tremaining: 30.5s\n",
      "483:\tlearn: 0.5209373\ttotal: 28.6s\tremaining: 30.5s\n",
      "484:\tlearn: 0.5207085\ttotal: 28.7s\tremaining: 30.4s\n",
      "485:\tlearn: 0.5205576\ttotal: 28.7s\tremaining: 30.4s\n",
      "486:\tlearn: 0.5203803\ttotal: 28.8s\tremaining: 30.3s\n",
      "487:\tlearn: 0.5201104\ttotal: 28.8s\tremaining: 30.2s\n",
      "488:\tlearn: 0.5199816\ttotal: 28.9s\tremaining: 30.2s\n",
      "489:\tlearn: 0.5198595\ttotal: 28.9s\tremaining: 30.1s\n",
      "490:\tlearn: 0.5195514\ttotal: 29s\tremaining: 30.1s\n",
      "491:\tlearn: 0.5194029\ttotal: 29.1s\tremaining: 30s\n",
      "492:\tlearn: 0.5192133\ttotal: 29.1s\tremaining: 29.9s\n",
      "493:\tlearn: 0.5190694\ttotal: 29.2s\tremaining: 29.9s\n",
      "494:\tlearn: 0.5185413\ttotal: 29.2s\tremaining: 29.8s\n",
      "495:\tlearn: 0.5183897\ttotal: 29.3s\tremaining: 29.8s\n",
      "496:\tlearn: 0.5176006\ttotal: 29.3s\tremaining: 29.7s\n",
      "497:\tlearn: 0.5172852\ttotal: 29.4s\tremaining: 29.6s\n",
      "498:\tlearn: 0.5171516\ttotal: 29.5s\tremaining: 29.6s\n",
      "499:\tlearn: 0.5169602\ttotal: 29.5s\tremaining: 29.5s\n",
      "500:\tlearn: 0.5168336\ttotal: 29.6s\tremaining: 29.5s\n",
      "501:\tlearn: 0.5166829\ttotal: 29.6s\tremaining: 29.4s\n",
      "502:\tlearn: 0.5164607\ttotal: 29.7s\tremaining: 29.3s\n",
      "503:\tlearn: 0.5162557\ttotal: 29.8s\tremaining: 29.3s\n",
      "504:\tlearn: 0.5161192\ttotal: 29.8s\tremaining: 29.2s\n",
      "505:\tlearn: 0.5158807\ttotal: 29.9s\tremaining: 29.2s\n",
      "506:\tlearn: 0.5157759\ttotal: 29.9s\tremaining: 29.1s\n",
      "507:\tlearn: 0.5155435\ttotal: 30s\tremaining: 29s\n",
      "508:\tlearn: 0.5153701\ttotal: 30s\tremaining: 29s\n",
      "509:\tlearn: 0.5152163\ttotal: 30.1s\tremaining: 28.9s\n",
      "510:\tlearn: 0.5151074\ttotal: 30.2s\tremaining: 28.9s\n",
      "511:\tlearn: 0.5149681\ttotal: 30.2s\tremaining: 28.8s\n",
      "512:\tlearn: 0.5147050\ttotal: 30.3s\tremaining: 28.7s\n",
      "513:\tlearn: 0.5145854\ttotal: 30.3s\tremaining: 28.7s\n",
      "514:\tlearn: 0.5143900\ttotal: 30.4s\tremaining: 28.6s\n",
      "515:\tlearn: 0.5141905\ttotal: 30.5s\tremaining: 28.6s\n",
      "516:\tlearn: 0.5140826\ttotal: 30.5s\tremaining: 28.5s\n",
      "517:\tlearn: 0.5138829\ttotal: 30.6s\tremaining: 28.4s\n",
      "518:\tlearn: 0.5137361\ttotal: 30.6s\tremaining: 28.4s\n",
      "519:\tlearn: 0.5135681\ttotal: 30.7s\tremaining: 28.3s\n",
      "520:\tlearn: 0.5134018\ttotal: 30.8s\tremaining: 28.3s\n",
      "521:\tlearn: 0.5132514\ttotal: 30.8s\tremaining: 28.2s\n",
      "522:\tlearn: 0.5131356\ttotal: 30.9s\tremaining: 28.2s\n",
      "523:\tlearn: 0.5126876\ttotal: 30.9s\tremaining: 28.1s\n",
      "524:\tlearn: 0.5124752\ttotal: 31s\tremaining: 28s\n",
      "525:\tlearn: 0.5121926\ttotal: 31s\tremaining: 28s\n",
      "526:\tlearn: 0.5120392\ttotal: 31.1s\tremaining: 27.9s\n",
      "527:\tlearn: 0.5118572\ttotal: 31.2s\tremaining: 27.9s\n",
      "528:\tlearn: 0.5116953\ttotal: 31.2s\tremaining: 27.8s\n",
      "529:\tlearn: 0.5113077\ttotal: 31.3s\tremaining: 27.7s\n",
      "530:\tlearn: 0.5111274\ttotal: 31.3s\tremaining: 27.7s\n",
      "531:\tlearn: 0.5108975\ttotal: 31.4s\tremaining: 27.6s\n",
      "532:\tlearn: 0.5106566\ttotal: 31.4s\tremaining: 27.6s\n",
      "533:\tlearn: 0.5104116\ttotal: 31.5s\tremaining: 27.5s\n",
      "534:\tlearn: 0.5102336\ttotal: 31.6s\tremaining: 27.4s\n",
      "535:\tlearn: 0.5100775\ttotal: 31.6s\tremaining: 27.4s\n",
      "536:\tlearn: 0.5099989\ttotal: 31.7s\tremaining: 27.3s\n",
      "537:\tlearn: 0.5096688\ttotal: 31.7s\tremaining: 27.3s\n",
      "538:\tlearn: 0.5094222\ttotal: 31.8s\tremaining: 27.2s\n",
      "539:\tlearn: 0.5091617\ttotal: 31.9s\tremaining: 27.1s\n",
      "540:\tlearn: 0.5089909\ttotal: 31.9s\tremaining: 27.1s\n",
      "541:\tlearn: 0.5087756\ttotal: 32s\tremaining: 27s\n",
      "542:\tlearn: 0.5086478\ttotal: 32s\tremaining: 27s\n",
      "543:\tlearn: 0.5084379\ttotal: 32.1s\tremaining: 26.9s\n",
      "544:\tlearn: 0.5082117\ttotal: 32.2s\tremaining: 26.8s\n",
      "545:\tlearn: 0.5080299\ttotal: 32.2s\tremaining: 26.8s\n",
      "546:\tlearn: 0.5078663\ttotal: 32.3s\tremaining: 26.7s\n",
      "547:\tlearn: 0.5076963\ttotal: 32.3s\tremaining: 26.7s\n",
      "548:\tlearn: 0.5075146\ttotal: 32.4s\tremaining: 26.6s\n",
      "549:\tlearn: 0.5072953\ttotal: 32.4s\tremaining: 26.5s\n",
      "550:\tlearn: 0.5071675\ttotal: 32.5s\tremaining: 26.5s\n",
      "551:\tlearn: 0.5069990\ttotal: 32.6s\tremaining: 26.4s\n",
      "552:\tlearn: 0.5068427\ttotal: 32.6s\tremaining: 26.4s\n",
      "553:\tlearn: 0.5067090\ttotal: 32.7s\tremaining: 26.3s\n",
      "554:\tlearn: 0.5064339\ttotal: 32.7s\tremaining: 26.2s\n",
      "555:\tlearn: 0.5062745\ttotal: 32.8s\tremaining: 26.2s\n",
      "556:\tlearn: 0.5061993\ttotal: 32.9s\tremaining: 26.1s\n",
      "557:\tlearn: 0.5060112\ttotal: 32.9s\tremaining: 26.1s\n",
      "558:\tlearn: 0.5058191\ttotal: 33s\tremaining: 26s\n",
      "559:\tlearn: 0.5056689\ttotal: 33s\tremaining: 25.9s\n",
      "560:\tlearn: 0.5055607\ttotal: 33.1s\tremaining: 25.9s\n",
      "561:\tlearn: 0.5052647\ttotal: 33.1s\tremaining: 25.8s\n",
      "562:\tlearn: 0.5050596\ttotal: 33.2s\tremaining: 25.8s\n",
      "563:\tlearn: 0.5048353\ttotal: 33.3s\tremaining: 25.7s\n",
      "564:\tlearn: 0.5046906\ttotal: 33.3s\tremaining: 25.6s\n",
      "565:\tlearn: 0.5045384\ttotal: 33.4s\tremaining: 25.6s\n",
      "566:\tlearn: 0.5044275\ttotal: 33.4s\tremaining: 25.5s\n",
      "567:\tlearn: 0.5043422\ttotal: 33.5s\tremaining: 25.5s\n",
      "568:\tlearn: 0.5042198\ttotal: 33.5s\tremaining: 25.4s\n",
      "569:\tlearn: 0.5041352\ttotal: 33.6s\tremaining: 25.4s\n",
      "570:\tlearn: 0.5040564\ttotal: 33.7s\tremaining: 25.3s\n",
      "571:\tlearn: 0.5038603\ttotal: 33.7s\tremaining: 25.2s\n",
      "572:\tlearn: 0.5034931\ttotal: 33.8s\tremaining: 25.2s\n",
      "573:\tlearn: 0.5033233\ttotal: 33.8s\tremaining: 25.1s\n",
      "574:\tlearn: 0.5030802\ttotal: 33.9s\tremaining: 25.1s\n",
      "575:\tlearn: 0.5029073\ttotal: 34s\tremaining: 25s\n",
      "576:\tlearn: 0.5027546\ttotal: 34s\tremaining: 24.9s\n",
      "577:\tlearn: 0.5026134\ttotal: 34.1s\tremaining: 24.9s\n",
      "578:\tlearn: 0.5025256\ttotal: 34.2s\tremaining: 24.8s\n",
      "579:\tlearn: 0.5021933\ttotal: 34.2s\tremaining: 24.8s\n",
      "580:\tlearn: 0.5021090\ttotal: 34.3s\tremaining: 24.7s\n",
      "581:\tlearn: 0.5019983\ttotal: 34.3s\tremaining: 24.7s\n",
      "582:\tlearn: 0.5018576\ttotal: 34.4s\tremaining: 24.6s\n",
      "583:\tlearn: 0.5017211\ttotal: 34.5s\tremaining: 24.5s\n",
      "584:\tlearn: 0.5014841\ttotal: 34.5s\tremaining: 24.5s\n",
      "585:\tlearn: 0.5013145\ttotal: 34.6s\tremaining: 24.4s\n",
      "586:\tlearn: 0.5011909\ttotal: 34.6s\tremaining: 24.4s\n",
      "587:\tlearn: 0.5010665\ttotal: 34.7s\tremaining: 24.3s\n",
      "588:\tlearn: 0.5009385\ttotal: 34.7s\tremaining: 24.2s\n",
      "589:\tlearn: 0.5007875\ttotal: 34.8s\tremaining: 24.2s\n",
      "590:\tlearn: 0.5005942\ttotal: 34.9s\tremaining: 24.1s\n",
      "591:\tlearn: 0.5001921\ttotal: 34.9s\tremaining: 24.1s\n",
      "592:\tlearn: 0.5000149\ttotal: 35s\tremaining: 24s\n",
      "593:\tlearn: 0.4999157\ttotal: 35s\tremaining: 23.9s\n",
      "594:\tlearn: 0.4997705\ttotal: 35.1s\tremaining: 23.9s\n",
      "595:\tlearn: 0.4995792\ttotal: 35.2s\tremaining: 23.8s\n",
      "596:\tlearn: 0.4994534\ttotal: 35.2s\tremaining: 23.8s\n",
      "597:\tlearn: 0.4992885\ttotal: 35.3s\tremaining: 23.7s\n",
      "598:\tlearn: 0.4991431\ttotal: 35.3s\tremaining: 23.6s\n",
      "599:\tlearn: 0.4990089\ttotal: 35.4s\tremaining: 23.6s\n",
      "600:\tlearn: 0.4989147\ttotal: 35.4s\tremaining: 23.5s\n",
      "601:\tlearn: 0.4987076\ttotal: 35.5s\tremaining: 23.5s\n",
      "602:\tlearn: 0.4986085\ttotal: 35.6s\tremaining: 23.4s\n",
      "603:\tlearn: 0.4984461\ttotal: 35.6s\tremaining: 23.4s\n",
      "604:\tlearn: 0.4982797\ttotal: 35.7s\tremaining: 23.3s\n",
      "605:\tlearn: 0.4981246\ttotal: 35.7s\tremaining: 23.2s\n",
      "606:\tlearn: 0.4978418\ttotal: 35.8s\tremaining: 23.2s\n",
      "607:\tlearn: 0.4976638\ttotal: 35.9s\tremaining: 23.1s\n",
      "608:\tlearn: 0.4975270\ttotal: 35.9s\tremaining: 23.1s\n",
      "609:\tlearn: 0.4974217\ttotal: 36s\tremaining: 23s\n",
      "610:\tlearn: 0.4971455\ttotal: 36.1s\tremaining: 23s\n",
      "611:\tlearn: 0.4968239\ttotal: 36.1s\tremaining: 22.9s\n",
      "612:\tlearn: 0.4967040\ttotal: 36.2s\tremaining: 22.8s\n",
      "613:\tlearn: 0.4965255\ttotal: 36.2s\tremaining: 22.8s\n",
      "614:\tlearn: 0.4963688\ttotal: 36.3s\tremaining: 22.7s\n",
      "615:\tlearn: 0.4961474\ttotal: 36.4s\tremaining: 22.7s\n",
      "616:\tlearn: 0.4960354\ttotal: 36.4s\tremaining: 22.6s\n",
      "617:\tlearn: 0.4959049\ttotal: 36.5s\tremaining: 22.5s\n",
      "618:\tlearn: 0.4957842\ttotal: 36.5s\tremaining: 22.5s\n",
      "619:\tlearn: 0.4956019\ttotal: 36.6s\tremaining: 22.4s\n",
      "620:\tlearn: 0.4953596\ttotal: 36.6s\tremaining: 22.4s\n",
      "621:\tlearn: 0.4952370\ttotal: 36.7s\tremaining: 22.3s\n",
      "622:\tlearn: 0.4950857\ttotal: 36.8s\tremaining: 22.2s\n",
      "623:\tlearn: 0.4950032\ttotal: 36.8s\tremaining: 22.2s\n",
      "624:\tlearn: 0.4948718\ttotal: 36.9s\tremaining: 22.1s\n",
      "625:\tlearn: 0.4946881\ttotal: 36.9s\tremaining: 22.1s\n",
      "626:\tlearn: 0.4944906\ttotal: 37s\tremaining: 22s\n",
      "627:\tlearn: 0.4942522\ttotal: 37.1s\tremaining: 22s\n",
      "628:\tlearn: 0.4941676\ttotal: 37.1s\tremaining: 21.9s\n",
      "629:\tlearn: 0.4939556\ttotal: 37.2s\tremaining: 21.8s\n",
      "630:\tlearn: 0.4938235\ttotal: 37.2s\tremaining: 21.8s\n",
      "631:\tlearn: 0.4937011\ttotal: 37.3s\tremaining: 21.7s\n",
      "632:\tlearn: 0.4936231\ttotal: 37.4s\tremaining: 21.7s\n",
      "633:\tlearn: 0.4934395\ttotal: 37.4s\tremaining: 21.6s\n",
      "634:\tlearn: 0.4932539\ttotal: 37.5s\tremaining: 21.5s\n",
      "635:\tlearn: 0.4931252\ttotal: 37.5s\tremaining: 21.5s\n",
      "636:\tlearn: 0.4930096\ttotal: 37.6s\tremaining: 21.4s\n"
     ]
    },
    {
     "name": "stdout",
     "output_type": "stream",
     "text": [
      "637:\tlearn: 0.4928347\ttotal: 37.7s\tremaining: 21.4s\n",
      "638:\tlearn: 0.4927388\ttotal: 37.7s\tremaining: 21.3s\n",
      "639:\tlearn: 0.4925937\ttotal: 37.8s\tremaining: 21.3s\n",
      "640:\tlearn: 0.4924723\ttotal: 37.8s\tremaining: 21.2s\n",
      "641:\tlearn: 0.4922937\ttotal: 37.9s\tremaining: 21.1s\n",
      "642:\tlearn: 0.4921513\ttotal: 38s\tremaining: 21.1s\n",
      "643:\tlearn: 0.4920192\ttotal: 38s\tremaining: 21s\n",
      "644:\tlearn: 0.4919420\ttotal: 38.1s\tremaining: 21s\n",
      "645:\tlearn: 0.4916392\ttotal: 38.1s\tremaining: 20.9s\n",
      "646:\tlearn: 0.4915524\ttotal: 38.2s\tremaining: 20.8s\n",
      "647:\tlearn: 0.4913954\ttotal: 38.3s\tremaining: 20.8s\n",
      "648:\tlearn: 0.4912573\ttotal: 38.3s\tremaining: 20.7s\n",
      "649:\tlearn: 0.4910477\ttotal: 38.4s\tremaining: 20.7s\n",
      "650:\tlearn: 0.4909026\ttotal: 38.4s\tremaining: 20.6s\n",
      "651:\tlearn: 0.4908149\ttotal: 38.5s\tremaining: 20.6s\n",
      "652:\tlearn: 0.4906805\ttotal: 38.6s\tremaining: 20.5s\n",
      "653:\tlearn: 0.4904846\ttotal: 38.6s\tremaining: 20.4s\n",
      "654:\tlearn: 0.4903571\ttotal: 38.7s\tremaining: 20.4s\n",
      "655:\tlearn: 0.4902494\ttotal: 38.7s\tremaining: 20.3s\n",
      "656:\tlearn: 0.4900940\ttotal: 38.8s\tremaining: 20.3s\n",
      "657:\tlearn: 0.4899460\ttotal: 38.9s\tremaining: 20.2s\n",
      "658:\tlearn: 0.4898531\ttotal: 38.9s\tremaining: 20.1s\n",
      "659:\tlearn: 0.4894940\ttotal: 39s\tremaining: 20.1s\n",
      "660:\tlearn: 0.4894231\ttotal: 39s\tremaining: 20s\n",
      "661:\tlearn: 0.4893013\ttotal: 39.1s\tremaining: 20s\n",
      "662:\tlearn: 0.4891667\ttotal: 39.2s\tremaining: 19.9s\n",
      "663:\tlearn: 0.4890837\ttotal: 39.2s\tremaining: 19.9s\n",
      "664:\tlearn: 0.4888849\ttotal: 39.3s\tremaining: 19.8s\n",
      "665:\tlearn: 0.4887117\ttotal: 39.4s\tremaining: 19.8s\n",
      "666:\tlearn: 0.4885926\ttotal: 39.5s\tremaining: 19.7s\n",
      "667:\tlearn: 0.4885068\ttotal: 39.5s\tremaining: 19.6s\n",
      "668:\tlearn: 0.4884312\ttotal: 39.6s\tremaining: 19.6s\n",
      "669:\tlearn: 0.4882343\ttotal: 39.7s\tremaining: 19.5s\n",
      "670:\tlearn: 0.4880244\ttotal: 39.7s\tremaining: 19.5s\n",
      "671:\tlearn: 0.4878536\ttotal: 39.8s\tremaining: 19.4s\n",
      "672:\tlearn: 0.4877385\ttotal: 39.9s\tremaining: 19.4s\n",
      "673:\tlearn: 0.4876511\ttotal: 39.9s\tremaining: 19.3s\n",
      "674:\tlearn: 0.4875568\ttotal: 40s\tremaining: 19.2s\n",
      "675:\tlearn: 0.4872277\ttotal: 40s\tremaining: 19.2s\n",
      "676:\tlearn: 0.4869740\ttotal: 40.1s\tremaining: 19.1s\n",
      "677:\tlearn: 0.4868792\ttotal: 40.2s\tremaining: 19.1s\n",
      "678:\tlearn: 0.4867535\ttotal: 40.2s\tremaining: 19s\n",
      "679:\tlearn: 0.4864963\ttotal: 40.3s\tremaining: 19s\n",
      "680:\tlearn: 0.4863699\ttotal: 40.3s\tremaining: 18.9s\n",
      "681:\tlearn: 0.4862699\ttotal: 40.4s\tremaining: 18.8s\n",
      "682:\tlearn: 0.4861673\ttotal: 40.5s\tremaining: 18.8s\n",
      "683:\tlearn: 0.4860576\ttotal: 40.5s\tremaining: 18.7s\n",
      "684:\tlearn: 0.4859626\ttotal: 40.6s\tremaining: 18.7s\n",
      "685:\tlearn: 0.4857565\ttotal: 40.7s\tremaining: 18.6s\n",
      "686:\tlearn: 0.4856767\ttotal: 40.7s\tremaining: 18.6s\n",
      "687:\tlearn: 0.4855444\ttotal: 40.8s\tremaining: 18.5s\n",
      "688:\tlearn: 0.4853739\ttotal: 40.8s\tremaining: 18.4s\n",
      "689:\tlearn: 0.4852689\ttotal: 40.9s\tremaining: 18.4s\n",
      "690:\tlearn: 0.4850828\ttotal: 41s\tremaining: 18.3s\n",
      "691:\tlearn: 0.4849230\ttotal: 41s\tremaining: 18.3s\n",
      "692:\tlearn: 0.4848634\ttotal: 41.1s\tremaining: 18.2s\n",
      "693:\tlearn: 0.4847756\ttotal: 41.2s\tremaining: 18.1s\n",
      "694:\tlearn: 0.4846729\ttotal: 41.2s\tremaining: 18.1s\n",
      "695:\tlearn: 0.4845869\ttotal: 41.3s\tremaining: 18s\n",
      "696:\tlearn: 0.4843206\ttotal: 41.4s\tremaining: 18s\n",
      "697:\tlearn: 0.4841703\ttotal: 41.5s\tremaining: 17.9s\n",
      "698:\tlearn: 0.4840278\ttotal: 41.5s\tremaining: 17.9s\n",
      "699:\tlearn: 0.4839571\ttotal: 41.6s\tremaining: 17.8s\n",
      "700:\tlearn: 0.4838016\ttotal: 41.7s\tremaining: 17.8s\n",
      "701:\tlearn: 0.4836695\ttotal: 41.7s\tremaining: 17.7s\n",
      "702:\tlearn: 0.4835702\ttotal: 41.8s\tremaining: 17.7s\n",
      "703:\tlearn: 0.4834289\ttotal: 41.9s\tremaining: 17.6s\n",
      "704:\tlearn: 0.4832308\ttotal: 41.9s\tremaining: 17.5s\n",
      "705:\tlearn: 0.4831545\ttotal: 42s\tremaining: 17.5s\n",
      "706:\tlearn: 0.4830622\ttotal: 42s\tremaining: 17.4s\n",
      "707:\tlearn: 0.4829807\ttotal: 42.1s\tremaining: 17.4s\n",
      "708:\tlearn: 0.4828140\ttotal: 42.2s\tremaining: 17.3s\n",
      "709:\tlearn: 0.4826925\ttotal: 42.2s\tremaining: 17.3s\n",
      "710:\tlearn: 0.4825511\ttotal: 42.3s\tremaining: 17.2s\n",
      "711:\tlearn: 0.4823713\ttotal: 42.4s\tremaining: 17.1s\n",
      "712:\tlearn: 0.4822123\ttotal: 42.4s\tremaining: 17.1s\n",
      "713:\tlearn: 0.4819630\ttotal: 42.5s\tremaining: 17s\n",
      "714:\tlearn: 0.4817381\ttotal: 42.6s\tremaining: 17s\n",
      "715:\tlearn: 0.4814913\ttotal: 42.6s\tremaining: 16.9s\n",
      "716:\tlearn: 0.4813965\ttotal: 42.7s\tremaining: 16.8s\n",
      "717:\tlearn: 0.4812199\ttotal: 42.7s\tremaining: 16.8s\n",
      "718:\tlearn: 0.4809544\ttotal: 42.8s\tremaining: 16.7s\n",
      "719:\tlearn: 0.4808286\ttotal: 42.9s\tremaining: 16.7s\n",
      "720:\tlearn: 0.4806369\ttotal: 42.9s\tremaining: 16.6s\n",
      "721:\tlearn: 0.4805066\ttotal: 43s\tremaining: 16.6s\n",
      "722:\tlearn: 0.4803897\ttotal: 43.1s\tremaining: 16.5s\n",
      "723:\tlearn: 0.4802581\ttotal: 43.1s\tremaining: 16.4s\n",
      "724:\tlearn: 0.4801624\ttotal: 43.2s\tremaining: 16.4s\n",
      "725:\tlearn: 0.4800959\ttotal: 43.3s\tremaining: 16.3s\n",
      "726:\tlearn: 0.4799851\ttotal: 43.3s\tremaining: 16.3s\n",
      "727:\tlearn: 0.4796498\ttotal: 43.4s\tremaining: 16.2s\n",
      "728:\tlearn: 0.4794284\ttotal: 43.4s\tremaining: 16.2s\n",
      "729:\tlearn: 0.4793164\ttotal: 43.5s\tremaining: 16.1s\n",
      "730:\tlearn: 0.4792066\ttotal: 43.6s\tremaining: 16s\n",
      "731:\tlearn: 0.4790988\ttotal: 43.6s\tremaining: 16s\n",
      "732:\tlearn: 0.4790176\ttotal: 43.7s\tremaining: 15.9s\n",
      "733:\tlearn: 0.4785167\ttotal: 43.8s\tremaining: 15.9s\n",
      "734:\tlearn: 0.4783823\ttotal: 43.8s\tremaining: 15.8s\n",
      "735:\tlearn: 0.4781715\ttotal: 43.9s\tremaining: 15.7s\n",
      "736:\tlearn: 0.4780913\ttotal: 44s\tremaining: 15.7s\n",
      "737:\tlearn: 0.4780271\ttotal: 44s\tremaining: 15.6s\n",
      "738:\tlearn: 0.4778721\ttotal: 44.1s\tremaining: 15.6s\n",
      "739:\tlearn: 0.4776634\ttotal: 44.2s\tremaining: 15.5s\n",
      "740:\tlearn: 0.4775357\ttotal: 44.2s\tremaining: 15.5s\n",
      "741:\tlearn: 0.4774517\ttotal: 44.3s\tremaining: 15.4s\n",
      "742:\tlearn: 0.4773518\ttotal: 44.3s\tremaining: 15.3s\n",
      "743:\tlearn: 0.4771629\ttotal: 44.4s\tremaining: 15.3s\n",
      "744:\tlearn: 0.4770218\ttotal: 44.5s\tremaining: 15.2s\n",
      "745:\tlearn: 0.4769013\ttotal: 44.6s\tremaining: 15.2s\n",
      "746:\tlearn: 0.4768316\ttotal: 44.6s\tremaining: 15.1s\n",
      "747:\tlearn: 0.4767136\ttotal: 44.7s\tremaining: 15.1s\n",
      "748:\tlearn: 0.4765380\ttotal: 44.8s\tremaining: 15s\n",
      "749:\tlearn: 0.4764394\ttotal: 44.8s\tremaining: 14.9s\n",
      "750:\tlearn: 0.4763405\ttotal: 44.9s\tremaining: 14.9s\n",
      "751:\tlearn: 0.4762595\ttotal: 44.9s\tremaining: 14.8s\n",
      "752:\tlearn: 0.4760677\ttotal: 45s\tremaining: 14.8s\n",
      "753:\tlearn: 0.4758934\ttotal: 45s\tremaining: 14.7s\n",
      "754:\tlearn: 0.4756187\ttotal: 45.1s\tremaining: 14.6s\n",
      "755:\tlearn: 0.4755445\ttotal: 45.2s\tremaining: 14.6s\n",
      "756:\tlearn: 0.4753094\ttotal: 45.2s\tremaining: 14.5s\n",
      "757:\tlearn: 0.4749958\ttotal: 45.3s\tremaining: 14.5s\n",
      "758:\tlearn: 0.4747299\ttotal: 45.3s\tremaining: 14.4s\n",
      "759:\tlearn: 0.4746058\ttotal: 45.4s\tremaining: 14.3s\n",
      "760:\tlearn: 0.4744287\ttotal: 45.4s\tremaining: 14.3s\n",
      "761:\tlearn: 0.4743340\ttotal: 45.5s\tremaining: 14.2s\n",
      "762:\tlearn: 0.4742676\ttotal: 45.6s\tremaining: 14.2s\n",
      "763:\tlearn: 0.4741226\ttotal: 45.6s\tremaining: 14.1s\n",
      "764:\tlearn: 0.4736323\ttotal: 45.7s\tremaining: 14s\n",
      "765:\tlearn: 0.4735405\ttotal: 45.7s\tremaining: 14s\n",
      "766:\tlearn: 0.4733542\ttotal: 45.8s\tremaining: 13.9s\n",
      "767:\tlearn: 0.4731158\ttotal: 45.9s\tremaining: 13.9s\n",
      "768:\tlearn: 0.4730251\ttotal: 45.9s\tremaining: 13.8s\n",
      "769:\tlearn: 0.4728298\ttotal: 46s\tremaining: 13.7s\n",
      "770:\tlearn: 0.4726054\ttotal: 46.1s\tremaining: 13.7s\n",
      "771:\tlearn: 0.4725404\ttotal: 46.2s\tremaining: 13.6s\n",
      "772:\tlearn: 0.4724344\ttotal: 46.2s\tremaining: 13.6s\n",
      "773:\tlearn: 0.4723217\ttotal: 46.3s\tremaining: 13.5s\n",
      "774:\tlearn: 0.4722426\ttotal: 46.4s\tremaining: 13.5s\n",
      "775:\tlearn: 0.4721389\ttotal: 46.4s\tremaining: 13.4s\n",
      "776:\tlearn: 0.4720510\ttotal: 46.5s\tremaining: 13.3s\n",
      "777:\tlearn: 0.4719205\ttotal: 46.5s\tremaining: 13.3s\n",
      "778:\tlearn: 0.4718076\ttotal: 46.6s\tremaining: 13.2s\n",
      "779:\tlearn: 0.4716350\ttotal: 46.7s\tremaining: 13.2s\n",
      "780:\tlearn: 0.4714623\ttotal: 46.7s\tremaining: 13.1s\n",
      "781:\tlearn: 0.4713762\ttotal: 46.8s\tremaining: 13s\n",
      "782:\tlearn: 0.4712438\ttotal: 46.8s\tremaining: 13s\n",
      "783:\tlearn: 0.4711313\ttotal: 46.9s\tremaining: 12.9s\n",
      "784:\tlearn: 0.4710122\ttotal: 46.9s\tremaining: 12.9s\n",
      "785:\tlearn: 0.4708944\ttotal: 47s\tremaining: 12.8s\n",
      "786:\tlearn: 0.4707949\ttotal: 47.1s\tremaining: 12.7s\n",
      "787:\tlearn: 0.4706814\ttotal: 47.1s\tremaining: 12.7s\n",
      "788:\tlearn: 0.4705698\ttotal: 47.2s\tremaining: 12.6s\n",
      "789:\tlearn: 0.4704652\ttotal: 47.2s\tremaining: 12.6s\n",
      "790:\tlearn: 0.4703305\ttotal: 47.3s\tremaining: 12.5s\n",
      "791:\tlearn: 0.4702310\ttotal: 47.4s\tremaining: 12.4s\n",
      "792:\tlearn: 0.4699970\ttotal: 47.4s\tremaining: 12.4s\n",
      "793:\tlearn: 0.4698880\ttotal: 47.5s\tremaining: 12.3s\n",
      "794:\tlearn: 0.4697695\ttotal: 47.5s\tremaining: 12.3s\n",
      "795:\tlearn: 0.4696369\ttotal: 47.6s\tremaining: 12.2s\n",
      "796:\tlearn: 0.4694638\ttotal: 47.6s\tremaining: 12.1s\n",
      "797:\tlearn: 0.4693036\ttotal: 47.7s\tremaining: 12.1s\n",
      "798:\tlearn: 0.4691469\ttotal: 47.8s\tremaining: 12s\n"
     ]
    },
    {
     "name": "stdout",
     "output_type": "stream",
     "text": [
      "799:\tlearn: 0.4690685\ttotal: 47.8s\tremaining: 12s\n",
      "800:\tlearn: 0.4689202\ttotal: 47.9s\tremaining: 11.9s\n",
      "801:\tlearn: 0.4687722\ttotal: 47.9s\tremaining: 11.8s\n",
      "802:\tlearn: 0.4686925\ttotal: 48s\tremaining: 11.8s\n",
      "803:\tlearn: 0.4686009\ttotal: 48.1s\tremaining: 11.7s\n",
      "804:\tlearn: 0.4684625\ttotal: 48.1s\tremaining: 11.7s\n",
      "805:\tlearn: 0.4682422\ttotal: 48.2s\tremaining: 11.6s\n",
      "806:\tlearn: 0.4680185\ttotal: 48.2s\tremaining: 11.5s\n",
      "807:\tlearn: 0.4678419\ttotal: 48.3s\tremaining: 11.5s\n",
      "808:\tlearn: 0.4677245\ttotal: 48.3s\tremaining: 11.4s\n",
      "809:\tlearn: 0.4675758\ttotal: 48.4s\tremaining: 11.4s\n",
      "810:\tlearn: 0.4674887\ttotal: 48.5s\tremaining: 11.3s\n",
      "811:\tlearn: 0.4673371\ttotal: 48.5s\tremaining: 11.2s\n",
      "812:\tlearn: 0.4672148\ttotal: 48.6s\tremaining: 11.2s\n",
      "813:\tlearn: 0.4671429\ttotal: 48.6s\tremaining: 11.1s\n",
      "814:\tlearn: 0.4670223\ttotal: 48.7s\tremaining: 11.1s\n",
      "815:\tlearn: 0.4668393\ttotal: 48.8s\tremaining: 11s\n",
      "816:\tlearn: 0.4666967\ttotal: 48.8s\tremaining: 10.9s\n",
      "817:\tlearn: 0.4666147\ttotal: 48.9s\tremaining: 10.9s\n",
      "818:\tlearn: 0.4663995\ttotal: 48.9s\tremaining: 10.8s\n",
      "819:\tlearn: 0.4663370\ttotal: 49s\tremaining: 10.8s\n",
      "820:\tlearn: 0.4660819\ttotal: 49s\tremaining: 10.7s\n",
      "821:\tlearn: 0.4659026\ttotal: 49.1s\tremaining: 10.6s\n",
      "822:\tlearn: 0.4658263\ttotal: 49.2s\tremaining: 10.6s\n",
      "823:\tlearn: 0.4657287\ttotal: 49.2s\tremaining: 10.5s\n",
      "824:\tlearn: 0.4656029\ttotal: 49.3s\tremaining: 10.5s\n",
      "825:\tlearn: 0.4654863\ttotal: 49.3s\tremaining: 10.4s\n",
      "826:\tlearn: 0.4653613\ttotal: 49.4s\tremaining: 10.3s\n",
      "827:\tlearn: 0.4652061\ttotal: 49.5s\tremaining: 10.3s\n",
      "828:\tlearn: 0.4648027\ttotal: 49.5s\tremaining: 10.2s\n",
      "829:\tlearn: 0.4646838\ttotal: 49.6s\tremaining: 10.2s\n",
      "830:\tlearn: 0.4643623\ttotal: 49.6s\tremaining: 10.1s\n",
      "831:\tlearn: 0.4642568\ttotal: 49.7s\tremaining: 10s\n",
      "832:\tlearn: 0.4640725\ttotal: 49.7s\tremaining: 9.97s\n",
      "833:\tlearn: 0.4636270\ttotal: 49.8s\tremaining: 9.91s\n",
      "834:\tlearn: 0.4633724\ttotal: 49.9s\tremaining: 9.85s\n",
      "835:\tlearn: 0.4632649\ttotal: 49.9s\tremaining: 9.79s\n",
      "836:\tlearn: 0.4632069\ttotal: 50s\tremaining: 9.73s\n",
      "837:\tlearn: 0.4630981\ttotal: 50s\tremaining: 9.67s\n",
      "838:\tlearn: 0.4628815\ttotal: 50.1s\tremaining: 9.61s\n",
      "839:\tlearn: 0.4627953\ttotal: 50.2s\tremaining: 9.55s\n",
      "840:\tlearn: 0.4626544\ttotal: 50.2s\tremaining: 9.49s\n",
      "841:\tlearn: 0.4625545\ttotal: 50.3s\tremaining: 9.43s\n",
      "842:\tlearn: 0.4624560\ttotal: 50.3s\tremaining: 9.37s\n",
      "843:\tlearn: 0.4623468\ttotal: 50.4s\tremaining: 9.31s\n",
      "844:\tlearn: 0.4622338\ttotal: 50.4s\tremaining: 9.25s\n",
      "845:\tlearn: 0.4621440\ttotal: 50.5s\tremaining: 9.19s\n",
      "846:\tlearn: 0.4620620\ttotal: 50.6s\tremaining: 9.13s\n",
      "847:\tlearn: 0.4619498\ttotal: 50.6s\tremaining: 9.07s\n",
      "848:\tlearn: 0.4618516\ttotal: 50.7s\tremaining: 9.01s\n",
      "849:\tlearn: 0.4617255\ttotal: 50.7s\tremaining: 8.95s\n",
      "850:\tlearn: 0.4616378\ttotal: 50.8s\tremaining: 8.89s\n",
      "851:\tlearn: 0.4615148\ttotal: 50.9s\tremaining: 8.83s\n",
      "852:\tlearn: 0.4614418\ttotal: 50.9s\tremaining: 8.77s\n",
      "853:\tlearn: 0.4613689\ttotal: 51s\tremaining: 8.71s\n",
      "854:\tlearn: 0.4612405\ttotal: 51s\tremaining: 8.65s\n",
      "855:\tlearn: 0.4611299\ttotal: 51.1s\tremaining: 8.59s\n",
      "856:\tlearn: 0.4610325\ttotal: 51.1s\tremaining: 8.53s\n",
      "857:\tlearn: 0.4608863\ttotal: 51.2s\tremaining: 8.47s\n",
      "858:\tlearn: 0.4607929\ttotal: 51.3s\tremaining: 8.41s\n",
      "859:\tlearn: 0.4606213\ttotal: 51.3s\tremaining: 8.35s\n",
      "860:\tlearn: 0.4605479\ttotal: 51.4s\tremaining: 8.29s\n",
      "861:\tlearn: 0.4604106\ttotal: 51.4s\tremaining: 8.23s\n",
      "862:\tlearn: 0.4603437\ttotal: 51.5s\tremaining: 8.17s\n",
      "863:\tlearn: 0.4601785\ttotal: 51.6s\tremaining: 8.11s\n",
      "864:\tlearn: 0.4599381\ttotal: 51.6s\tremaining: 8.05s\n",
      "865:\tlearn: 0.4598698\ttotal: 51.7s\tremaining: 8s\n",
      "866:\tlearn: 0.4595008\ttotal: 51.7s\tremaining: 7.93s\n",
      "867:\tlearn: 0.4591693\ttotal: 51.8s\tremaining: 7.88s\n",
      "868:\tlearn: 0.4590898\ttotal: 51.8s\tremaining: 7.82s\n",
      "869:\tlearn: 0.4590129\ttotal: 51.9s\tremaining: 7.75s\n",
      "870:\tlearn: 0.4588138\ttotal: 52s\tremaining: 7.7s\n",
      "871:\tlearn: 0.4587486\ttotal: 52s\tremaining: 7.63s\n",
      "872:\tlearn: 0.4586704\ttotal: 52.1s\tremaining: 7.58s\n",
      "873:\tlearn: 0.4585403\ttotal: 52.1s\tremaining: 7.51s\n",
      "874:\tlearn: 0.4584334\ttotal: 52.2s\tremaining: 7.46s\n",
      "875:\tlearn: 0.4583713\ttotal: 52.3s\tremaining: 7.4s\n",
      "876:\tlearn: 0.4583185\ttotal: 52.3s\tremaining: 7.34s\n",
      "877:\tlearn: 0.4581926\ttotal: 52.4s\tremaining: 7.28s\n",
      "878:\tlearn: 0.4580970\ttotal: 52.4s\tremaining: 7.22s\n",
      "879:\tlearn: 0.4579937\ttotal: 52.5s\tremaining: 7.16s\n",
      "880:\tlearn: 0.4579161\ttotal: 52.5s\tremaining: 7.1s\n",
      "881:\tlearn: 0.4577277\ttotal: 52.6s\tremaining: 7.04s\n",
      "882:\tlearn: 0.4576716\ttotal: 52.7s\tremaining: 6.98s\n",
      "883:\tlearn: 0.4573016\ttotal: 52.7s\tremaining: 6.92s\n",
      "884:\tlearn: 0.4571752\ttotal: 52.8s\tremaining: 6.86s\n",
      "885:\tlearn: 0.4570612\ttotal: 52.8s\tremaining: 6.8s\n",
      "886:\tlearn: 0.4569916\ttotal: 52.9s\tremaining: 6.74s\n",
      "887:\tlearn: 0.4568519\ttotal: 53s\tremaining: 6.68s\n",
      "888:\tlearn: 0.4567446\ttotal: 53s\tremaining: 6.62s\n",
      "889:\tlearn: 0.4565808\ttotal: 53.1s\tremaining: 6.56s\n",
      "890:\tlearn: 0.4564519\ttotal: 53.1s\tremaining: 6.5s\n",
      "891:\tlearn: 0.4561325\ttotal: 53.2s\tremaining: 6.44s\n",
      "892:\tlearn: 0.4557128\ttotal: 53.2s\tremaining: 6.38s\n",
      "893:\tlearn: 0.4553657\ttotal: 53.3s\tremaining: 6.32s\n",
      "894:\tlearn: 0.4552975\ttotal: 53.4s\tremaining: 6.26s\n",
      "895:\tlearn: 0.4552348\ttotal: 53.4s\tremaining: 6.2s\n",
      "896:\tlearn: 0.4551653\ttotal: 53.5s\tremaining: 6.14s\n",
      "897:\tlearn: 0.4550515\ttotal: 53.5s\tremaining: 6.08s\n",
      "898:\tlearn: 0.4549741\ttotal: 53.6s\tremaining: 6.02s\n",
      "899:\tlearn: 0.4549047\ttotal: 53.7s\tremaining: 5.96s\n",
      "900:\tlearn: 0.4546837\ttotal: 53.7s\tremaining: 5.9s\n",
      "901:\tlearn: 0.4544829\ttotal: 53.8s\tremaining: 5.84s\n",
      "902:\tlearn: 0.4544331\ttotal: 53.9s\tremaining: 5.78s\n",
      "903:\tlearn: 0.4543180\ttotal: 53.9s\tremaining: 5.72s\n",
      "904:\tlearn: 0.4542560\ttotal: 54s\tremaining: 5.67s\n",
      "905:\tlearn: 0.4541070\ttotal: 54s\tremaining: 5.61s\n",
      "906:\tlearn: 0.4539884\ttotal: 54.1s\tremaining: 5.55s\n",
      "907:\tlearn: 0.4538493\ttotal: 54.2s\tremaining: 5.49s\n",
      "908:\tlearn: 0.4537476\ttotal: 54.2s\tremaining: 5.43s\n",
      "909:\tlearn: 0.4536863\ttotal: 54.3s\tremaining: 5.37s\n",
      "910:\tlearn: 0.4536175\ttotal: 54.3s\tremaining: 5.31s\n",
      "911:\tlearn: 0.4535498\ttotal: 54.4s\tremaining: 5.25s\n",
      "912:\tlearn: 0.4534761\ttotal: 54.5s\tremaining: 5.19s\n",
      "913:\tlearn: 0.4533509\ttotal: 54.5s\tremaining: 5.13s\n",
      "914:\tlearn: 0.4532091\ttotal: 54.6s\tremaining: 5.07s\n",
      "915:\tlearn: 0.4530542\ttotal: 54.6s\tremaining: 5.01s\n",
      "916:\tlearn: 0.4529662\ttotal: 54.7s\tremaining: 4.95s\n",
      "917:\tlearn: 0.4528773\ttotal: 54.8s\tremaining: 4.89s\n",
      "918:\tlearn: 0.4524549\ttotal: 54.8s\tremaining: 4.83s\n",
      "919:\tlearn: 0.4523667\ttotal: 54.9s\tremaining: 4.77s\n",
      "920:\tlearn: 0.4522908\ttotal: 54.9s\tremaining: 4.71s\n",
      "921:\tlearn: 0.4521755\ttotal: 55s\tremaining: 4.65s\n",
      "922:\tlearn: 0.4521202\ttotal: 55s\tremaining: 4.59s\n",
      "923:\tlearn: 0.4519715\ttotal: 55.1s\tremaining: 4.53s\n",
      "924:\tlearn: 0.4518814\ttotal: 55.2s\tremaining: 4.47s\n",
      "925:\tlearn: 0.4518053\ttotal: 55.2s\tremaining: 4.41s\n",
      "926:\tlearn: 0.4517322\ttotal: 55.3s\tremaining: 4.35s\n",
      "927:\tlearn: 0.4516481\ttotal: 55.3s\tremaining: 4.29s\n",
      "928:\tlearn: 0.4514906\ttotal: 55.4s\tremaining: 4.23s\n",
      "929:\tlearn: 0.4513930\ttotal: 55.5s\tremaining: 4.17s\n",
      "930:\tlearn: 0.4513088\ttotal: 55.5s\tremaining: 4.11s\n",
      "931:\tlearn: 0.4512272\ttotal: 55.6s\tremaining: 4.05s\n",
      "932:\tlearn: 0.4511683\ttotal: 55.6s\tremaining: 3.99s\n",
      "933:\tlearn: 0.4510490\ttotal: 55.7s\tremaining: 3.93s\n",
      "934:\tlearn: 0.4509676\ttotal: 55.7s\tremaining: 3.88s\n",
      "935:\tlearn: 0.4509168\ttotal: 55.8s\tremaining: 3.81s\n",
      "936:\tlearn: 0.4508480\ttotal: 55.9s\tremaining: 3.75s\n",
      "937:\tlearn: 0.4507890\ttotal: 55.9s\tremaining: 3.69s\n",
      "938:\tlearn: 0.4506455\ttotal: 56s\tremaining: 3.64s\n",
      "939:\tlearn: 0.4505052\ttotal: 56s\tremaining: 3.58s\n",
      "940:\tlearn: 0.4504255\ttotal: 56.1s\tremaining: 3.52s\n",
      "941:\tlearn: 0.4503519\ttotal: 56.1s\tremaining: 3.46s\n",
      "942:\tlearn: 0.4501910\ttotal: 56.2s\tremaining: 3.4s\n",
      "943:\tlearn: 0.4499594\ttotal: 56.3s\tremaining: 3.34s\n",
      "944:\tlearn: 0.4498670\ttotal: 56.4s\tremaining: 3.28s\n",
      "945:\tlearn: 0.4498060\ttotal: 56.4s\tremaining: 3.22s\n",
      "946:\tlearn: 0.4497033\ttotal: 56.5s\tremaining: 3.16s\n",
      "947:\tlearn: 0.4496633\ttotal: 56.6s\tremaining: 3.1s\n",
      "948:\tlearn: 0.4495446\ttotal: 56.6s\tremaining: 3.04s\n",
      "949:\tlearn: 0.4494929\ttotal: 56.7s\tremaining: 2.98s\n",
      "950:\tlearn: 0.4494233\ttotal: 56.7s\tremaining: 2.92s\n",
      "951:\tlearn: 0.4491919\ttotal: 56.8s\tremaining: 2.86s\n",
      "952:\tlearn: 0.4491224\ttotal: 56.9s\tremaining: 2.8s\n",
      "953:\tlearn: 0.4490212\ttotal: 56.9s\tremaining: 2.74s\n",
      "954:\tlearn: 0.4489231\ttotal: 57s\tremaining: 2.68s\n",
      "955:\tlearn: 0.4488486\ttotal: 57s\tremaining: 2.62s\n",
      "956:\tlearn: 0.4487675\ttotal: 57.1s\tremaining: 2.56s\n",
      "957:\tlearn: 0.4486156\ttotal: 57.1s\tremaining: 2.5s\n"
     ]
    },
    {
     "name": "stdout",
     "output_type": "stream",
     "text": [
      "958:\tlearn: 0.4485411\ttotal: 57.2s\tremaining: 2.44s\n",
      "959:\tlearn: 0.4484625\ttotal: 57.3s\tremaining: 2.39s\n",
      "960:\tlearn: 0.4484034\ttotal: 57.3s\tremaining: 2.33s\n",
      "961:\tlearn: 0.4482555\ttotal: 57.4s\tremaining: 2.27s\n",
      "962:\tlearn: 0.4481727\ttotal: 57.4s\tremaining: 2.21s\n",
      "963:\tlearn: 0.4481278\ttotal: 57.5s\tremaining: 2.15s\n",
      "964:\tlearn: 0.4479324\ttotal: 57.6s\tremaining: 2.09s\n",
      "965:\tlearn: 0.4477940\ttotal: 57.6s\tremaining: 2.03s\n",
      "966:\tlearn: 0.4476084\ttotal: 57.7s\tremaining: 1.97s\n",
      "967:\tlearn: 0.4475344\ttotal: 57.7s\tremaining: 1.91s\n",
      "968:\tlearn: 0.4474183\ttotal: 57.8s\tremaining: 1.85s\n",
      "969:\tlearn: 0.4473216\ttotal: 57.8s\tremaining: 1.79s\n",
      "970:\tlearn: 0.4471908\ttotal: 57.9s\tremaining: 1.73s\n",
      "971:\tlearn: 0.4471240\ttotal: 58s\tremaining: 1.67s\n",
      "972:\tlearn: 0.4470280\ttotal: 58s\tremaining: 1.61s\n",
      "973:\tlearn: 0.4469508\ttotal: 58.1s\tremaining: 1.55s\n",
      "974:\tlearn: 0.4468323\ttotal: 58.2s\tremaining: 1.49s\n",
      "975:\tlearn: 0.4467650\ttotal: 58.2s\tremaining: 1.43s\n",
      "976:\tlearn: 0.4466466\ttotal: 58.3s\tremaining: 1.37s\n",
      "977:\tlearn: 0.4465676\ttotal: 58.4s\tremaining: 1.31s\n",
      "978:\tlearn: 0.4464850\ttotal: 58.4s\tremaining: 1.25s\n",
      "979:\tlearn: 0.4464321\ttotal: 58.5s\tremaining: 1.19s\n",
      "980:\tlearn: 0.4463325\ttotal: 58.5s\tremaining: 1.13s\n",
      "981:\tlearn: 0.4462374\ttotal: 58.6s\tremaining: 1.07s\n",
      "982:\tlearn: 0.4461608\ttotal: 58.7s\tremaining: 1.01s\n",
      "983:\tlearn: 0.4460710\ttotal: 58.7s\tremaining: 955ms\n",
      "984:\tlearn: 0.4459190\ttotal: 58.8s\tremaining: 895ms\n",
      "985:\tlearn: 0.4458650\ttotal: 58.9s\tremaining: 836ms\n",
      "986:\tlearn: 0.4458126\ttotal: 58.9s\tremaining: 776ms\n",
      "987:\tlearn: 0.4456903\ttotal: 59s\tremaining: 717ms\n",
      "988:\tlearn: 0.4455552\ttotal: 59.1s\tremaining: 657ms\n",
      "989:\tlearn: 0.4454170\ttotal: 59.1s\tremaining: 597ms\n",
      "990:\tlearn: 0.4452681\ttotal: 59.2s\tremaining: 538ms\n",
      "991:\tlearn: 0.4451660\ttotal: 59.3s\tremaining: 478ms\n",
      "992:\tlearn: 0.4450972\ttotal: 59.3s\tremaining: 418ms\n",
      "993:\tlearn: 0.4449986\ttotal: 59.4s\tremaining: 358ms\n",
      "994:\tlearn: 0.4448355\ttotal: 59.5s\tremaining: 299ms\n",
      "995:\tlearn: 0.4447410\ttotal: 59.5s\tremaining: 239ms\n",
      "996:\tlearn: 0.4446549\ttotal: 59.6s\tremaining: 179ms\n",
      "997:\tlearn: 0.4445853\ttotal: 59.6s\tremaining: 120ms\n",
      "998:\tlearn: 0.4445229\ttotal: 59.7s\tremaining: 59.8ms\n",
      "999:\tlearn: 0.4444476\ttotal: 59.8s\tremaining: 0us\n"
     ]
    }
   ],
   "source": [
    "models = {\n",
    "    'lr': LogisticRegression(),\n",
    "    'rf': RandomForestClassifier(n_jobs=-1),\n",
    "    'knc': KNeighborsClassifier(n_jobs=-1),\n",
    "    'svc': SVC(),\n",
    "    'xgb': XGBClassifier(n_jobs=-1),\n",
    "    'cat': CatBoostClassifier(),\n",
    "    'extra': ExtraTreesClassifier(n_jobs=-1),\n",
    "}\n",
    "\n",
    "trained_models = {}\n",
    "\n",
    "for name, algo in models.items():\n",
    "    model = algo.fit(X_train, y_train)\n",
    "    trained_models[name] = model"
   ]
  },
  {
   "cell_type": "code",
   "execution_count": 474,
   "metadata": {},
   "outputs": [
    {
     "name": "stdout",
     "output_type": "stream",
     "text": [
      "lr 85.58\n",
      "rf 99.92\n",
      "knc 77.27\n",
      "svc 96.31\n",
      "xgb 92.57\n",
      "cat 84.0\n",
      "extra 99.92\n"
     ]
    }
   ],
   "source": [
    "for name, model in trained_models.items():\n",
    "    print(name, round(100 * accuracy_score(y_train, model.predict(X_train)), 2))"
   ]
  },
  {
   "cell_type": "code",
   "execution_count": 476,
   "metadata": {},
   "outputs": [
    {
     "name": "stdout",
     "output_type": "stream",
     "text": [
      "lr 71.86\n",
      "rf 71.65\n",
      "knc 66.6\n",
      "svc 71.34\n",
      "xgb 75.36\n",
      "cat 74.54\n",
      "extra 74.12\n"
     ]
    }
   ],
   "source": [
    "for name, model in trained_models.items():\n",
    "    print(name, round(100 * accuracy_score(y_test, model.predict(X_test)), 2))"
   ]
  },
  {
   "cell_type": "code",
   "execution_count": 477,
   "metadata": {},
   "outputs": [
    {
     "name": "stdout",
     "output_type": "stream",
     "text": [
      "lr\n",
      "              precision    recall  f1-score   support\n",
      "\n",
      "           0       0.72      0.96      0.82       576\n",
      "           1       0.71      0.38      0.50       273\n",
      "           2       0.68      0.34      0.45       121\n",
      "\n",
      "    accuracy                           0.72       970\n",
      "   macro avg       0.71      0.56      0.59       970\n",
      "weighted avg       0.71      0.72      0.69       970\n",
      "\n"
     ]
    },
    {
     "data": {
      "image/png": "[encoded data removed]",
      "text/plain": [
       "<Figure size 432x288 with 2 Axes>"
      ]
     },
     "metadata": {
      "needs_background": "light"
     },
     "output_type": "display_data"
    },
    {
     "name": "stdout",
     "output_type": "stream",
     "text": [
      "rf\n",
      "              precision    recall  f1-score   support\n",
      "\n",
      "           0       0.72      0.95      0.82       576\n",
      "           1       0.69      0.39      0.50       273\n",
      "           2       0.68      0.34      0.45       121\n",
      "\n",
      "    accuracy                           0.72       970\n",
      "   macro avg       0.70      0.56      0.59       970\n",
      "weighted avg       0.71      0.72      0.68       970\n",
      "\n"
     ]
    },
    {
     "data": {
      "image/png": "[encoded data removed]",
      "text/plain": [
       "<Figure size 432x288 with 2 Axes>"
      ]
     },
     "metadata": {
      "needs_background": "light"
     },
     "output_type": "display_data"
    },
    {
     "name": "stdout",
     "output_type": "stream",
     "text": [
      "knc\n",
      "              precision    recall  f1-score   support\n",
      "\n",
      "           0       0.70      0.94      0.80       576\n",
      "           1       0.57      0.29      0.39       273\n",
      "           2       0.49      0.22      0.31       121\n",
      "\n",
      "    accuracy                           0.67       970\n",
      "   macro avg       0.58      0.48      0.50       970\n",
      "weighted avg       0.63      0.67      0.62       970\n",
      "\n"
     ]
    },
    {
     "data": {
      "image/png": "[encoded data removed]",
      "text/plain": [
       "<Figure size 432x288 with 2 Axes>"
      ]
     },
     "metadata": {
      "needs_background": "light"
     },
     "output_type": "display_data"
    },
    {
     "name": "stdout",
     "output_type": "stream",
     "text": [
      "svc\n",
      "              precision    recall  f1-score   support\n",
      "\n",
      "           0       0.71      0.97      0.82       576\n",
      "           1       0.75      0.34      0.47       273\n",
      "           2       0.71      0.31      0.43       121\n",
      "\n",
      "    accuracy                           0.71       970\n",
      "   macro avg       0.72      0.54      0.57       970\n",
      "weighted avg       0.72      0.71      0.67       970\n",
      "\n"
     ]
    },
    {
     "data": {
      "image/png": "[encoded data removed]",
      "text/plain": [
       "<Figure size 432x288 with 2 Axes>"
      ]
     },
     "metadata": {
      "needs_background": "light"
     },
     "output_type": "display_data"
    },
    {
     "name": "stdout",
     "output_type": "stream",
     "text": [
      "xgb\n",
      "              precision    recall  f1-score   support\n",
      "\n",
      "           0       0.77      0.92      0.84       576\n",
      "           1       0.71      0.52      0.60       273\n",
      "           2       0.69      0.49      0.57       121\n",
      "\n",
      "    accuracy                           0.75       970\n",
      "   macro avg       0.72      0.64      0.67       970\n",
      "weighted avg       0.75      0.75      0.74       970\n",
      "\n"
     ]
    },
    {
     "data": {
      "image/png": "[encoded data removed]",
      "text/plain": [
       "<Figure size 432x288 with 2 Axes>"
      ]
     },
     "metadata": {
      "needs_background": "light"
     },
     "output_type": "display_data"
    },
    {
     "name": "stdout",
     "output_type": "stream",
     "text": [
      "cat\n",
      "              precision    recall  f1-score   support\n",
      "\n",
      "           0       0.75      0.94      0.83       576\n",
      "           1       0.73      0.46      0.56       273\n",
      "           2       0.73      0.49      0.58       121\n",
      "\n",
      "    accuracy                           0.75       970\n",
      "   macro avg       0.74      0.63      0.66       970\n",
      "weighted avg       0.74      0.75      0.73       970\n",
      "\n"
     ]
    },
    {
     "data": {
      "image/png": "[encoded data removed]",
      "text/plain": [
       "<Figure size 432x288 with 2 Axes>"
      ]
     },
     "metadata": {
      "needs_background": "light"
     },
     "output_type": "display_data"
    },
    {
     "name": "stdout",
     "output_type": "stream",
     "text": [
      "extra\n",
      "              precision    recall  f1-score   support\n",
      "\n",
      "           0       0.75      0.95      0.84       576\n",
      "           1       0.72      0.46      0.56       273\n",
      "           2       0.71      0.40      0.51       121\n",
      "\n",
      "    accuracy                           0.74       970\n",
      "   macro avg       0.72      0.60      0.63       970\n",
      "weighted avg       0.74      0.74      0.72       970\n",
      "\n"
     ]
    },
    {
     "data": {
      "image/png": "[encoded data removed]",
      "text/plain": [
       "<Figure size 432x288 with 2 Axes>"
      ]
     },
     "metadata": {
      "needs_background": "light"
     },
     "output_type": "display_data"
    }
   ],
   "source": [
    "for name, model in trained_models.items():\n",
    "    print(name)\n",
    "    print(classification_report(y_test, model.predict(X_test)))\n",
    "    plot_confusion_matrix(model, X_test, y_test)\n",
    "    plt.show()\n",
    "    plt.show()"
   ]
  },
  {
   "cell_type": "markdown",
   "metadata": {},
   "source": [
    "As we could see above, all of the models are strongly overfitting and dont generalize well so that the accuracy on the test set is roughly 20% less than on the train set. When we look at the confusion matrices there are no models which predicted more than 50% labels correctly for all 3 classes. Lets now look at the pipeline with stemmer."
   ]
  },
  {
   "cell_type": "markdown",
   "metadata": {},
   "source": [
    "## Standard ML models - stemming"
   ]
  },
  {
   "cell_type": "markdown",
   "metadata": {},
   "source": [
    "There are 2 possible english language stemmers to choose from *nltk* package, here we use a *PorterStemmer*. Then we can write a function which preprocess every word in every review."
   ]
  },
  {
   "cell_type": "code",
   "execution_count": 795,
   "metadata": {},
   "outputs": [],
   "source": [
    "def stemming_process(X, stemmer=PorterStemmer()):\n",
    "    words = [[stemmer.stem(c) for c in text.split()] for text in X]\n",
    "    return [' '.join(i) for i in words]"
   ]
  },
  {
   "cell_type": "code",
   "execution_count": 63,
   "metadata": {},
   "outputs": [],
   "source": [
    "stemming_process_tf = FunctionTransformer(stemming_process, kw_args={'stemmer':PorterStemmer()})"
   ]
  },
  {
   "cell_type": "code",
   "execution_count": 480,
   "metadata": {},
   "outputs": [],
   "source": [
    "text_prep_pipeline = Pipeline([\n",
    "    ('regex', apply_regex_tf),\n",
    "    ('stopwords', stopwords_remover_tf),\n",
    "    ('stemming', stemming_process_tf),\n",
    "    ('vectorizer', TfidfVectorizer(stop_words=eng_stopwords))\n",
    "])"
   ]
  },
  {
   "cell_type": "code",
   "execution_count": 481,
   "metadata": {},
   "outputs": [],
   "source": [
    "X_prep = text_prep_pipeline.fit_transform(X)"
   ]
  },
  {
   "cell_type": "code",
   "execution_count": 482,
   "metadata": {},
   "outputs": [
    {
     "data": {
      "text/plain": [
       "<4846x7596 sparse matrix of type '<class 'numpy.float64'>'\n",
       "\twith 59963 stored elements in Compressed Sparse Row format>"
      ]
     },
     "execution_count": 482,
     "metadata": {},
     "output_type": "execute_result"
    }
   ],
   "source": [
    "X_prep"
   ]
  },
  {
   "cell_type": "code",
   "execution_count": 483,
   "metadata": {},
   "outputs": [],
   "source": [
    "X_train, X_test, y_train, y_test = train_test_split(X_prep, y, test_size=0.2, stratify=y, random_state=200)"
   ]
  },
  {
   "cell_type": "code",
   "execution_count": 484,
   "metadata": {},
   "outputs": [
    {
     "name": "stderr",
     "output_type": "stream",
     "text": [
      "C:\\ProgramData\\Anaconda3\\lib\\site-packages\\xgboost\\sklearn.py:1146: UserWarning: The use of label encoder in XGBClassifier is deprecated and will be removed in a future release. To remove this warning, do the following: 1) Pass option use_label_encoder=False when constructing XGBClassifier object; and 2) Encode your labels (y) as integers starting with 0, i.e. 0, 1, 2, ..., [num_class - 1].\n",
      "  warnings.warn(label_encoder_deprecation_msg, UserWarning)\n"
     ]
    },
    {
     "name": "stdout",
     "output_type": "stream",
     "text": [
      "[18:55:56] WARNING: C:/Users/Administrator/workspace/xgboost-win64_release_1.4.0/src/learner.cc:1095: Starting in XGBoost 1.3.0, the default evaluation metric used with the objective 'multi:softprob' was changed from 'merror' to 'mlogloss'. Explicitly set eval_metric if you'd like to restore the old behavior.\n",
      "Learning rate set to 0.084787\n",
      "0:\tlearn: 1.0637994\ttotal: 90.1ms\tremaining: 1m 30s\n",
      "1:\tlearn: 1.0310513\ttotal: 151ms\tremaining: 1m 15s\n",
      "2:\tlearn: 1.0043441\ttotal: 213ms\tremaining: 1m 10s\n",
      "3:\tlearn: 0.9796640\ttotal: 271ms\tremaining: 1m 7s\n",
      "4:\tlearn: 0.9588315\ttotal: 330ms\tremaining: 1m 5s\n",
      "5:\tlearn: 0.9399501\ttotal: 394ms\tremaining: 1m 5s\n",
      "6:\tlearn: 0.9238794\ttotal: 456ms\tremaining: 1m 4s\n",
      "7:\tlearn: 0.9087674\ttotal: 518ms\tremaining: 1m 4s\n",
      "8:\tlearn: 0.8965223\ttotal: 581ms\tremaining: 1m 3s\n",
      "9:\tlearn: 0.8858574\ttotal: 639ms\tremaining: 1m 3s\n",
      "10:\tlearn: 0.8749567\ttotal: 696ms\tremaining: 1m 2s\n",
      "11:\tlearn: 0.8662289\ttotal: 754ms\tremaining: 1m 2s\n",
      "12:\tlearn: 0.8570982\ttotal: 812ms\tremaining: 1m 1s\n",
      "13:\tlearn: 0.8495529\ttotal: 871ms\tremaining: 1m 1s\n",
      "14:\tlearn: 0.8443778\ttotal: 927ms\tremaining: 1m\n",
      "15:\tlearn: 0.8378369\ttotal: 986ms\tremaining: 1m\n",
      "16:\tlearn: 0.8320350\ttotal: 1.05s\tremaining: 1m\n",
      "17:\tlearn: 0.8265500\ttotal: 1.1s\tremaining: 1m\n",
      "18:\tlearn: 0.8219552\ttotal: 1.16s\tremaining: 59.9s\n",
      "19:\tlearn: 0.8164651\ttotal: 1.22s\tremaining: 59.9s\n",
      "20:\tlearn: 0.8120552\ttotal: 1.28s\tremaining: 59.8s\n",
      "21:\tlearn: 0.8063621\ttotal: 1.34s\tremaining: 59.8s\n",
      "22:\tlearn: 0.8031656\ttotal: 1.41s\tremaining: 59.8s\n",
      "23:\tlearn: 0.7980651\ttotal: 1.47s\tremaining: 59.8s\n",
      "24:\tlearn: 0.7955122\ttotal: 1.53s\tremaining: 59.6s\n",
      "25:\tlearn: 0.7900912\ttotal: 1.58s\tremaining: 59.3s\n",
      "26:\tlearn: 0.7865170\ttotal: 1.64s\tremaining: 59.3s\n",
      "27:\tlearn: 0.7837056\ttotal: 1.71s\tremaining: 59.3s\n",
      "28:\tlearn: 0.7805563\ttotal: 1.77s\tremaining: 59.4s\n",
      "29:\tlearn: 0.7782084\ttotal: 1.83s\tremaining: 59.4s\n",
      "30:\tlearn: 0.7754585\ttotal: 1.91s\tremaining: 59.7s\n",
      "31:\tlearn: 0.7723737\ttotal: 1.97s\tremaining: 59.5s\n",
      "32:\tlearn: 0.7700957\ttotal: 2.02s\tremaining: 59.3s\n",
      "33:\tlearn: 0.7678131\ttotal: 2.09s\tremaining: 59.3s\n",
      "34:\tlearn: 0.7652944\ttotal: 2.15s\tremaining: 59.2s\n",
      "35:\tlearn: 0.7636050\ttotal: 2.21s\tremaining: 59.1s\n",
      "36:\tlearn: 0.7614837\ttotal: 2.27s\tremaining: 59s\n",
      "37:\tlearn: 0.7590094\ttotal: 2.33s\tremaining: 58.9s\n",
      "38:\tlearn: 0.7565731\ttotal: 2.38s\tremaining: 58.7s\n",
      "39:\tlearn: 0.7542279\ttotal: 2.45s\tremaining: 58.7s\n",
      "40:\tlearn: 0.7517297\ttotal: 2.51s\tremaining: 58.7s\n",
      "41:\tlearn: 0.7500392\ttotal: 2.57s\tremaining: 58.6s\n",
      "42:\tlearn: 0.7477936\ttotal: 2.63s\tremaining: 58.4s\n",
      "43:\tlearn: 0.7467633\ttotal: 2.68s\tremaining: 58.3s\n",
      "44:\tlearn: 0.7450093\ttotal: 2.74s\tremaining: 58.2s\n",
      "45:\tlearn: 0.7436274\ttotal: 2.8s\tremaining: 58s\n",
      "46:\tlearn: 0.7418878\ttotal: 2.86s\tremaining: 58s\n",
      "47:\tlearn: 0.7402600\ttotal: 2.92s\tremaining: 57.8s\n",
      "48:\tlearn: 0.7381317\ttotal: 2.97s\tremaining: 57.7s\n",
      "49:\tlearn: 0.7363158\ttotal: 3.03s\tremaining: 57.5s\n",
      "50:\tlearn: 0.7346840\ttotal: 3.08s\tremaining: 57.4s\n",
      "51:\tlearn: 0.7330446\ttotal: 3.14s\tremaining: 57.3s\n",
      "52:\tlearn: 0.7322468\ttotal: 3.19s\tremaining: 57.1s\n",
      "53:\tlearn: 0.7312779\ttotal: 3.25s\tremaining: 56.9s\n",
      "54:\tlearn: 0.7303068\ttotal: 3.31s\tremaining: 56.8s\n",
      "55:\tlearn: 0.7289388\ttotal: 3.36s\tremaining: 56.7s\n",
      "56:\tlearn: 0.7275983\ttotal: 3.42s\tremaining: 56.6s\n",
      "57:\tlearn: 0.7266588\ttotal: 3.47s\tremaining: 56.4s\n",
      "58:\tlearn: 0.7251354\ttotal: 3.53s\tremaining: 56.3s\n",
      "59:\tlearn: 0.7236126\ttotal: 3.58s\tremaining: 56.2s\n",
      "60:\tlearn: 0.7221511\ttotal: 3.65s\tremaining: 56.2s\n",
      "61:\tlearn: 0.7212973\ttotal: 3.71s\tremaining: 56.2s\n",
      "62:\tlearn: 0.7200303\ttotal: 3.78s\tremaining: 56.3s\n",
      "63:\tlearn: 0.7188644\ttotal: 3.84s\tremaining: 56.2s\n",
      "64:\tlearn: 0.7178615\ttotal: 3.9s\tremaining: 56.1s\n",
      "65:\tlearn: 0.7162824\ttotal: 3.95s\tremaining: 56s\n",
      "66:\tlearn: 0.7153919\ttotal: 4.01s\tremaining: 55.9s\n",
      "67:\tlearn: 0.7141617\ttotal: 4.07s\tremaining: 55.8s\n",
      "68:\tlearn: 0.7126093\ttotal: 4.13s\tremaining: 55.7s\n",
      "69:\tlearn: 0.7114377\ttotal: 4.18s\tremaining: 55.5s\n",
      "70:\tlearn: 0.7104154\ttotal: 4.24s\tremaining: 55.4s\n",
      "71:\tlearn: 0.7093580\ttotal: 4.29s\tremaining: 55.3s\n",
      "72:\tlearn: 0.7079466\ttotal: 4.35s\tremaining: 55.2s\n",
      "73:\tlearn: 0.7069154\ttotal: 4.4s\tremaining: 55.1s\n",
      "74:\tlearn: 0.7054537\ttotal: 4.46s\tremaining: 55s\n",
      "75:\tlearn: 0.7039821\ttotal: 4.51s\tremaining: 54.9s\n",
      "76:\tlearn: 0.7031647\ttotal: 4.57s\tremaining: 54.8s\n",
      "77:\tlearn: 0.7023900\ttotal: 4.62s\tremaining: 54.7s\n",
      "78:\tlearn: 0.7014654\ttotal: 4.68s\tremaining: 54.6s\n",
      "79:\tlearn: 0.7006121\ttotal: 4.74s\tremaining: 54.5s\n",
      "80:\tlearn: 0.6995049\ttotal: 4.79s\tremaining: 54.4s\n",
      "81:\tlearn: 0.6983373\ttotal: 4.85s\tremaining: 54.3s\n",
      "82:\tlearn: 0.6971408\ttotal: 4.91s\tremaining: 54.2s\n",
      "83:\tlearn: 0.6961148\ttotal: 4.96s\tremaining: 54.1s\n",
      "84:\tlearn: 0.6953901\ttotal: 5.02s\tremaining: 54s\n",
      "85:\tlearn: 0.6941908\ttotal: 5.08s\tremaining: 54s\n",
      "86:\tlearn: 0.6933076\ttotal: 5.13s\tremaining: 53.9s\n",
      "87:\tlearn: 0.6920667\ttotal: 5.19s\tremaining: 53.8s\n",
      "88:\tlearn: 0.6910094\ttotal: 5.24s\tremaining: 53.7s\n",
      "89:\tlearn: 0.6898096\ttotal: 5.3s\tremaining: 53.6s\n",
      "90:\tlearn: 0.6887950\ttotal: 5.35s\tremaining: 53.5s\n",
      "91:\tlearn: 0.6879457\ttotal: 5.41s\tremaining: 53.4s\n",
      "92:\tlearn: 0.6866793\ttotal: 5.46s\tremaining: 53.3s\n",
      "93:\tlearn: 0.6855831\ttotal: 5.52s\tremaining: 53.2s\n",
      "94:\tlearn: 0.6848039\ttotal: 5.58s\tremaining: 53.1s\n",
      "95:\tlearn: 0.6839493\ttotal: 5.63s\tremaining: 53s\n",
      "96:\tlearn: 0.6827461\ttotal: 5.69s\tremaining: 53s\n",
      "97:\tlearn: 0.6816356\ttotal: 5.74s\tremaining: 52.9s\n",
      "98:\tlearn: 0.6808813\ttotal: 5.8s\tremaining: 52.8s\n",
      "99:\tlearn: 0.6803607\ttotal: 5.87s\tremaining: 52.8s\n",
      "100:\tlearn: 0.6797984\ttotal: 5.93s\tremaining: 52.8s\n",
      "101:\tlearn: 0.6789141\ttotal: 5.99s\tremaining: 52.7s\n",
      "102:\tlearn: 0.6774840\ttotal: 6.06s\tremaining: 52.8s\n",
      "103:\tlearn: 0.6763249\ttotal: 6.12s\tremaining: 52.7s\n",
      "104:\tlearn: 0.6755646\ttotal: 6.17s\tremaining: 52.6s\n",
      "105:\tlearn: 0.6744398\ttotal: 6.23s\tremaining: 52.6s\n",
      "106:\tlearn: 0.6735408\ttotal: 6.29s\tremaining: 52.5s\n",
      "107:\tlearn: 0.6724830\ttotal: 6.36s\tremaining: 52.5s\n",
      "108:\tlearn: 0.6713831\ttotal: 6.42s\tremaining: 52.5s\n",
      "109:\tlearn: 0.6703454\ttotal: 6.48s\tremaining: 52.4s\n",
      "110:\tlearn: 0.6693895\ttotal: 6.54s\tremaining: 52.3s\n",
      "111:\tlearn: 0.6678255\ttotal: 6.6s\tremaining: 52.3s\n",
      "112:\tlearn: 0.6667172\ttotal: 6.67s\tremaining: 52.4s\n",
      "113:\tlearn: 0.6658148\ttotal: 6.73s\tremaining: 52.3s\n",
      "114:\tlearn: 0.6648620\ttotal: 6.79s\tremaining: 52.3s\n",
      "115:\tlearn: 0.6635757\ttotal: 6.86s\tremaining: 52.3s\n",
      "116:\tlearn: 0.6625614\ttotal: 6.92s\tremaining: 52.3s\n",
      "117:\tlearn: 0.6615738\ttotal: 6.99s\tremaining: 52.3s\n",
      "118:\tlearn: 0.6607523\ttotal: 7.06s\tremaining: 52.3s\n",
      "119:\tlearn: 0.6602155\ttotal: 7.12s\tremaining: 52.2s\n",
      "120:\tlearn: 0.6583429\ttotal: 7.19s\tremaining: 52.2s\n",
      "121:\tlearn: 0.6575950\ttotal: 7.25s\tremaining: 52.2s\n",
      "122:\tlearn: 0.6567334\ttotal: 7.31s\tremaining: 52.1s\n",
      "123:\tlearn: 0.6558404\ttotal: 7.38s\tremaining: 52.1s\n",
      "124:\tlearn: 0.6548856\ttotal: 7.44s\tremaining: 52.1s\n",
      "125:\tlearn: 0.6537975\ttotal: 7.5s\tremaining: 52s\n",
      "126:\tlearn: 0.6529975\ttotal: 7.56s\tremaining: 52s\n",
      "127:\tlearn: 0.6519731\ttotal: 7.63s\tremaining: 52s\n",
      "128:\tlearn: 0.6506134\ttotal: 7.69s\tremaining: 51.9s\n",
      "129:\tlearn: 0.6498469\ttotal: 7.75s\tremaining: 51.9s\n",
      "130:\tlearn: 0.6489271\ttotal: 7.81s\tremaining: 51.8s\n",
      "131:\tlearn: 0.6483372\ttotal: 7.88s\tremaining: 51.8s\n",
      "132:\tlearn: 0.6477635\ttotal: 7.95s\tremaining: 51.8s\n",
      "133:\tlearn: 0.6473846\ttotal: 8.03s\tremaining: 51.9s\n",
      "134:\tlearn: 0.6460204\ttotal: 8.11s\tremaining: 51.9s\n",
      "135:\tlearn: 0.6452757\ttotal: 8.16s\tremaining: 51.9s\n",
      "136:\tlearn: 0.6446777\ttotal: 8.22s\tremaining: 51.8s\n",
      "137:\tlearn: 0.6439666\ttotal: 8.28s\tremaining: 51.7s\n",
      "138:\tlearn: 0.6430891\ttotal: 8.34s\tremaining: 51.6s\n",
      "139:\tlearn: 0.6424253\ttotal: 8.39s\tremaining: 51.6s\n",
      "140:\tlearn: 0.6413755\ttotal: 8.46s\tremaining: 51.5s\n",
      "141:\tlearn: 0.6405050\ttotal: 8.52s\tremaining: 51.5s\n",
      "142:\tlearn: 0.6396738\ttotal: 8.59s\tremaining: 51.5s\n",
      "143:\tlearn: 0.6389547\ttotal: 8.65s\tremaining: 51.4s\n",
      "144:\tlearn: 0.6380128\ttotal: 8.71s\tremaining: 51.4s\n",
      "145:\tlearn: 0.6374947\ttotal: 8.78s\tremaining: 51.4s\n",
      "146:\tlearn: 0.6367095\ttotal: 8.84s\tremaining: 51.3s\n",
      "147:\tlearn: 0.6359660\ttotal: 8.9s\tremaining: 51.3s\n",
      "148:\tlearn: 0.6349119\ttotal: 8.97s\tremaining: 51.2s\n",
      "149:\tlearn: 0.6341493\ttotal: 9.02s\tremaining: 51.1s\n",
      "150:\tlearn: 0.6333654\ttotal: 9.08s\tremaining: 51.1s\n",
      "151:\tlearn: 0.6328684\ttotal: 9.14s\tremaining: 51s\n",
      "152:\tlearn: 0.6322090\ttotal: 9.2s\tremaining: 50.9s\n",
      "153:\tlearn: 0.6318281\ttotal: 9.26s\tremaining: 50.9s\n",
      "154:\tlearn: 0.6313147\ttotal: 9.32s\tremaining: 50.8s\n",
      "155:\tlearn: 0.6307141\ttotal: 9.38s\tremaining: 50.8s\n"
     ]
    },
    {
     "name": "stdout",
     "output_type": "stream",
     "text": [
      "156:\tlearn: 0.6301217\ttotal: 9.45s\tremaining: 50.7s\n",
      "157:\tlearn: 0.6295944\ttotal: 9.5s\tremaining: 50.7s\n",
      "158:\tlearn: 0.6291185\ttotal: 9.57s\tremaining: 50.6s\n",
      "159:\tlearn: 0.6286448\ttotal: 9.64s\tremaining: 50.6s\n",
      "160:\tlearn: 0.6280866\ttotal: 9.71s\tremaining: 50.6s\n",
      "161:\tlearn: 0.6272499\ttotal: 9.77s\tremaining: 50.6s\n",
      "162:\tlearn: 0.6265202\ttotal: 9.84s\tremaining: 50.5s\n",
      "163:\tlearn: 0.6257732\ttotal: 9.9s\tremaining: 50.5s\n",
      "164:\tlearn: 0.6250404\ttotal: 9.97s\tremaining: 50.5s\n",
      "165:\tlearn: 0.6245225\ttotal: 10s\tremaining: 50.4s\n",
      "166:\tlearn: 0.6237776\ttotal: 10.1s\tremaining: 50.4s\n",
      "167:\tlearn: 0.6232581\ttotal: 10.2s\tremaining: 50.4s\n",
      "168:\tlearn: 0.6227451\ttotal: 10.2s\tremaining: 50.3s\n",
      "169:\tlearn: 0.6222246\ttotal: 10.3s\tremaining: 50.2s\n",
      "170:\tlearn: 0.6217418\ttotal: 10.3s\tremaining: 50.1s\n",
      "171:\tlearn: 0.6211965\ttotal: 10.4s\tremaining: 50.1s\n",
      "172:\tlearn: 0.6208558\ttotal: 10.5s\tremaining: 50s\n",
      "173:\tlearn: 0.6203074\ttotal: 10.5s\tremaining: 50s\n",
      "174:\tlearn: 0.6198173\ttotal: 10.6s\tremaining: 49.9s\n",
      "175:\tlearn: 0.6190520\ttotal: 10.7s\tremaining: 49.9s\n",
      "176:\tlearn: 0.6184327\ttotal: 10.7s\tremaining: 49.9s\n",
      "177:\tlearn: 0.6179056\ttotal: 10.8s\tremaining: 49.8s\n",
      "178:\tlearn: 0.6175383\ttotal: 10.8s\tremaining: 49.7s\n",
      "179:\tlearn: 0.6166486\ttotal: 10.9s\tremaining: 49.7s\n",
      "180:\tlearn: 0.6160629\ttotal: 11s\tremaining: 49.6s\n",
      "181:\tlearn: 0.6156796\ttotal: 11s\tremaining: 49.5s\n",
      "182:\tlearn: 0.6150554\ttotal: 11.1s\tremaining: 49.5s\n",
      "183:\tlearn: 0.6145719\ttotal: 11.2s\tremaining: 49.5s\n",
      "184:\tlearn: 0.6135548\ttotal: 11.2s\tremaining: 49.4s\n",
      "185:\tlearn: 0.6130017\ttotal: 11.3s\tremaining: 49.3s\n",
      "186:\tlearn: 0.6125173\ttotal: 11.3s\tremaining: 49.3s\n",
      "187:\tlearn: 0.6119678\ttotal: 11.4s\tremaining: 49.2s\n",
      "188:\tlearn: 0.6112662\ttotal: 11.5s\tremaining: 49.2s\n",
      "189:\tlearn: 0.6103723\ttotal: 11.5s\tremaining: 49.1s\n",
      "190:\tlearn: 0.6098687\ttotal: 11.6s\tremaining: 49.1s\n",
      "191:\tlearn: 0.6091768\ttotal: 11.7s\tremaining: 49s\n",
      "192:\tlearn: 0.6088048\ttotal: 11.7s\tremaining: 49s\n",
      "193:\tlearn: 0.6084389\ttotal: 11.8s\tremaining: 49s\n",
      "194:\tlearn: 0.6077436\ttotal: 11.8s\tremaining: 48.9s\n",
      "195:\tlearn: 0.6074701\ttotal: 11.9s\tremaining: 48.9s\n",
      "196:\tlearn: 0.6069191\ttotal: 12s\tremaining: 48.8s\n",
      "197:\tlearn: 0.6064506\ttotal: 12s\tremaining: 48.8s\n",
      "198:\tlearn: 0.6058803\ttotal: 12.1s\tremaining: 48.7s\n",
      "199:\tlearn: 0.6056186\ttotal: 12.2s\tremaining: 48.7s\n",
      "200:\tlearn: 0.6049328\ttotal: 12.2s\tremaining: 48.6s\n",
      "201:\tlearn: 0.6042860\ttotal: 12.3s\tremaining: 48.5s\n",
      "202:\tlearn: 0.6038159\ttotal: 12.3s\tremaining: 48.5s\n",
      "203:\tlearn: 0.6031694\ttotal: 12.4s\tremaining: 48.4s\n",
      "204:\tlearn: 0.6026818\ttotal: 12.5s\tremaining: 48.4s\n",
      "205:\tlearn: 0.6023433\ttotal: 12.5s\tremaining: 48.3s\n",
      "206:\tlearn: 0.6018916\ttotal: 12.6s\tremaining: 48.3s\n",
      "207:\tlearn: 0.6014882\ttotal: 12.7s\tremaining: 48.2s\n",
      "208:\tlearn: 0.6009793\ttotal: 12.7s\tremaining: 48.1s\n",
      "209:\tlearn: 0.6003258\ttotal: 12.8s\tremaining: 48.1s\n",
      "210:\tlearn: 0.5996002\ttotal: 12.8s\tremaining: 48s\n",
      "211:\tlearn: 0.5989646\ttotal: 12.9s\tremaining: 48s\n",
      "212:\tlearn: 0.5981296\ttotal: 13s\tremaining: 47.9s\n",
      "213:\tlearn: 0.5977070\ttotal: 13s\tremaining: 47.8s\n",
      "214:\tlearn: 0.5972291\ttotal: 13.1s\tremaining: 47.8s\n",
      "215:\tlearn: 0.5967120\ttotal: 13.2s\tremaining: 47.8s\n",
      "216:\tlearn: 0.5963081\ttotal: 13.2s\tremaining: 47.8s\n",
      "217:\tlearn: 0.5959850\ttotal: 13.3s\tremaining: 47.7s\n",
      "218:\tlearn: 0.5955415\ttotal: 13.4s\tremaining: 47.7s\n",
      "219:\tlearn: 0.5952511\ttotal: 13.4s\tremaining: 47.6s\n",
      "220:\tlearn: 0.5948180\ttotal: 13.5s\tremaining: 47.6s\n",
      "221:\tlearn: 0.5944188\ttotal: 13.5s\tremaining: 47.5s\n",
      "222:\tlearn: 0.5940521\ttotal: 13.6s\tremaining: 47.4s\n",
      "223:\tlearn: 0.5935757\ttotal: 13.7s\tremaining: 47.3s\n",
      "224:\tlearn: 0.5932265\ttotal: 13.7s\tremaining: 47.3s\n",
      "225:\tlearn: 0.5927279\ttotal: 13.8s\tremaining: 47.3s\n",
      "226:\tlearn: 0.5924615\ttotal: 13.9s\tremaining: 47.2s\n",
      "227:\tlearn: 0.5920030\ttotal: 13.9s\tremaining: 47.2s\n",
      "228:\tlearn: 0.5917035\ttotal: 14s\tremaining: 47.1s\n",
      "229:\tlearn: 0.5910722\ttotal: 14.1s\tremaining: 47.1s\n",
      "230:\tlearn: 0.5905493\ttotal: 14.1s\tremaining: 47s\n",
      "231:\tlearn: 0.5902640\ttotal: 14.2s\tremaining: 47.1s\n",
      "232:\tlearn: 0.5899333\ttotal: 14.3s\tremaining: 47s\n",
      "233:\tlearn: 0.5895520\ttotal: 14.3s\tremaining: 46.9s\n",
      "234:\tlearn: 0.5891995\ttotal: 14.4s\tremaining: 46.8s\n",
      "235:\tlearn: 0.5885231\ttotal: 14.4s\tremaining: 46.8s\n",
      "236:\tlearn: 0.5881760\ttotal: 14.5s\tremaining: 46.7s\n",
      "237:\tlearn: 0.5878516\ttotal: 14.6s\tremaining: 46.6s\n",
      "238:\tlearn: 0.5873519\ttotal: 14.6s\tremaining: 46.6s\n",
      "239:\tlearn: 0.5869745\ttotal: 14.7s\tremaining: 46.5s\n",
      "240:\tlearn: 0.5864533\ttotal: 14.7s\tremaining: 46.4s\n",
      "241:\tlearn: 0.5861382\ttotal: 14.8s\tremaining: 46.4s\n",
      "242:\tlearn: 0.5858054\ttotal: 14.9s\tremaining: 46.3s\n",
      "243:\tlearn: 0.5855721\ttotal: 14.9s\tremaining: 46.3s\n",
      "244:\tlearn: 0.5852929\ttotal: 15s\tremaining: 46.2s\n",
      "245:\tlearn: 0.5849367\ttotal: 15s\tremaining: 46.1s\n",
      "246:\tlearn: 0.5845026\ttotal: 15.1s\tremaining: 46s\n",
      "247:\tlearn: 0.5841997\ttotal: 15.2s\tremaining: 46s\n",
      "248:\tlearn: 0.5837743\ttotal: 15.2s\tremaining: 45.9s\n",
      "249:\tlearn: 0.5834183\ttotal: 15.3s\tremaining: 45.8s\n",
      "250:\tlearn: 0.5831531\ttotal: 15.3s\tremaining: 45.8s\n",
      "251:\tlearn: 0.5827824\ttotal: 15.4s\tremaining: 45.7s\n",
      "252:\tlearn: 0.5825271\ttotal: 15.4s\tremaining: 45.6s\n",
      "253:\tlearn: 0.5821033\ttotal: 15.5s\tremaining: 45.5s\n",
      "254:\tlearn: 0.5818091\ttotal: 15.6s\tremaining: 45.5s\n",
      "255:\tlearn: 0.5814083\ttotal: 15.6s\tremaining: 45.4s\n",
      "256:\tlearn: 0.5810781\ttotal: 15.7s\tremaining: 45.3s\n",
      "257:\tlearn: 0.5807526\ttotal: 15.7s\tremaining: 45.3s\n",
      "258:\tlearn: 0.5805308\ttotal: 15.8s\tremaining: 45.2s\n",
      "259:\tlearn: 0.5798588\ttotal: 15.9s\tremaining: 45.2s\n",
      "260:\tlearn: 0.5794853\ttotal: 15.9s\tremaining: 45.1s\n",
      "261:\tlearn: 0.5789280\ttotal: 16s\tremaining: 45.1s\n",
      "262:\tlearn: 0.5786826\ttotal: 16.1s\tremaining: 45s\n",
      "263:\tlearn: 0.5783008\ttotal: 16.1s\tremaining: 45s\n",
      "264:\tlearn: 0.5779512\ttotal: 16.2s\tremaining: 44.9s\n",
      "265:\tlearn: 0.5777168\ttotal: 16.2s\tremaining: 44.8s\n",
      "266:\tlearn: 0.5774302\ttotal: 16.3s\tremaining: 44.8s\n",
      "267:\tlearn: 0.5770390\ttotal: 16.4s\tremaining: 44.7s\n",
      "268:\tlearn: 0.5767114\ttotal: 16.4s\tremaining: 44.6s\n",
      "269:\tlearn: 0.5761593\ttotal: 16.5s\tremaining: 44.5s\n",
      "270:\tlearn: 0.5756738\ttotal: 16.5s\tremaining: 44.5s\n",
      "271:\tlearn: 0.5754398\ttotal: 16.6s\tremaining: 44.4s\n",
      "272:\tlearn: 0.5751594\ttotal: 16.7s\tremaining: 44.4s\n",
      "273:\tlearn: 0.5747119\ttotal: 16.7s\tremaining: 44.3s\n",
      "274:\tlearn: 0.5744357\ttotal: 16.8s\tremaining: 44.3s\n",
      "275:\tlearn: 0.5738805\ttotal: 16.8s\tremaining: 44.2s\n",
      "276:\tlearn: 0.5736917\ttotal: 16.9s\tremaining: 44.1s\n",
      "277:\tlearn: 0.5731998\ttotal: 17s\tremaining: 44.1s\n",
      "278:\tlearn: 0.5727711\ttotal: 17s\tremaining: 44s\n",
      "279:\tlearn: 0.5726275\ttotal: 17.1s\tremaining: 44s\n",
      "280:\tlearn: 0.5722914\ttotal: 17.2s\tremaining: 43.9s\n",
      "281:\tlearn: 0.5719723\ttotal: 17.2s\tremaining: 43.8s\n",
      "282:\tlearn: 0.5716661\ttotal: 17.3s\tremaining: 43.8s\n",
      "283:\tlearn: 0.5714439\ttotal: 17.3s\tremaining: 43.7s\n",
      "284:\tlearn: 0.5710320\ttotal: 17.4s\tremaining: 43.7s\n",
      "285:\tlearn: 0.5706697\ttotal: 17.5s\tremaining: 43.6s\n",
      "286:\tlearn: 0.5704609\ttotal: 17.5s\tremaining: 43.5s\n",
      "287:\tlearn: 0.5703159\ttotal: 17.6s\tremaining: 43.5s\n",
      "288:\tlearn: 0.5701132\ttotal: 17.6s\tremaining: 43.4s\n",
      "289:\tlearn: 0.5697474\ttotal: 17.7s\tremaining: 43.4s\n",
      "290:\tlearn: 0.5694994\ttotal: 17.8s\tremaining: 43.3s\n",
      "291:\tlearn: 0.5692921\ttotal: 17.8s\tremaining: 43.2s\n",
      "292:\tlearn: 0.5689077\ttotal: 17.9s\tremaining: 43.2s\n",
      "293:\tlearn: 0.5682180\ttotal: 18s\tremaining: 43.2s\n",
      "294:\tlearn: 0.5678449\ttotal: 18s\tremaining: 43.1s\n",
      "295:\tlearn: 0.5674257\ttotal: 18.1s\tremaining: 43s\n",
      "296:\tlearn: 0.5669390\ttotal: 18.2s\tremaining: 43s\n",
      "297:\tlearn: 0.5666749\ttotal: 18.2s\tremaining: 42.9s\n",
      "298:\tlearn: 0.5663529\ttotal: 18.3s\tremaining: 42.8s\n",
      "299:\tlearn: 0.5660319\ttotal: 18.3s\tremaining: 42.8s\n",
      "300:\tlearn: 0.5656315\ttotal: 18.4s\tremaining: 42.7s\n",
      "301:\tlearn: 0.5653906\ttotal: 18.5s\tremaining: 42.7s\n",
      "302:\tlearn: 0.5649859\ttotal: 18.5s\tremaining: 42.6s\n",
      "303:\tlearn: 0.5645843\ttotal: 18.6s\tremaining: 42.6s\n",
      "304:\tlearn: 0.5643399\ttotal: 18.7s\tremaining: 42.5s\n",
      "305:\tlearn: 0.5638303\ttotal: 18.7s\tremaining: 42.5s\n",
      "306:\tlearn: 0.5632383\ttotal: 18.8s\tremaining: 42.4s\n",
      "307:\tlearn: 0.5630129\ttotal: 18.9s\tremaining: 42.4s\n",
      "308:\tlearn: 0.5624891\ttotal: 18.9s\tremaining: 42.3s\n",
      "309:\tlearn: 0.5620747\ttotal: 19s\tremaining: 42.2s\n",
      "310:\tlearn: 0.5619089\ttotal: 19s\tremaining: 42.2s\n",
      "311:\tlearn: 0.5614339\ttotal: 19.1s\tremaining: 42.1s\n",
      "312:\tlearn: 0.5610499\ttotal: 19.2s\tremaining: 42s\n",
      "313:\tlearn: 0.5607776\ttotal: 19.2s\tremaining: 42s\n",
      "314:\tlearn: 0.5606023\ttotal: 19.3s\tremaining: 41.9s\n"
     ]
    },
    {
     "name": "stdout",
     "output_type": "stream",
     "text": [
      "315:\tlearn: 0.5604890\ttotal: 19.3s\tremaining: 41.9s\n",
      "316:\tlearn: 0.5600743\ttotal: 19.4s\tremaining: 41.8s\n",
      "317:\tlearn: 0.5598695\ttotal: 19.5s\tremaining: 41.7s\n",
      "318:\tlearn: 0.5596852\ttotal: 19.5s\tremaining: 41.7s\n",
      "319:\tlearn: 0.5594458\ttotal: 19.6s\tremaining: 41.6s\n",
      "320:\tlearn: 0.5592811\ttotal: 19.6s\tremaining: 41.5s\n",
      "321:\tlearn: 0.5590207\ttotal: 19.7s\tremaining: 41.5s\n",
      "322:\tlearn: 0.5588483\ttotal: 19.8s\tremaining: 41.4s\n",
      "323:\tlearn: 0.5584511\ttotal: 19.8s\tremaining: 41.4s\n",
      "324:\tlearn: 0.5579041\ttotal: 19.9s\tremaining: 41.3s\n",
      "325:\tlearn: 0.5576938\ttotal: 19.9s\tremaining: 41.2s\n",
      "326:\tlearn: 0.5574245\ttotal: 20s\tremaining: 41.2s\n",
      "327:\tlearn: 0.5571698\ttotal: 20.1s\tremaining: 41.1s\n",
      "328:\tlearn: 0.5564878\ttotal: 20.1s\tremaining: 41s\n",
      "329:\tlearn: 0.5561850\ttotal: 20.2s\tremaining: 41s\n",
      "330:\tlearn: 0.5558211\ttotal: 20.2s\tremaining: 40.9s\n",
      "331:\tlearn: 0.5555113\ttotal: 20.3s\tremaining: 40.8s\n",
      "332:\tlearn: 0.5553361\ttotal: 20.4s\tremaining: 40.8s\n",
      "333:\tlearn: 0.5550144\ttotal: 20.4s\tremaining: 40.7s\n",
      "334:\tlearn: 0.5547538\ttotal: 20.5s\tremaining: 40.7s\n",
      "335:\tlearn: 0.5545125\ttotal: 20.6s\tremaining: 40.6s\n",
      "336:\tlearn: 0.5542542\ttotal: 20.6s\tremaining: 40.6s\n",
      "337:\tlearn: 0.5541073\ttotal: 20.7s\tremaining: 40.6s\n",
      "338:\tlearn: 0.5539120\ttotal: 20.8s\tremaining: 40.5s\n",
      "339:\tlearn: 0.5536162\ttotal: 20.9s\tremaining: 40.5s\n",
      "340:\tlearn: 0.5533694\ttotal: 20.9s\tremaining: 40.4s\n",
      "341:\tlearn: 0.5531215\ttotal: 21s\tremaining: 40.4s\n",
      "342:\tlearn: 0.5528989\ttotal: 21.1s\tremaining: 40.3s\n",
      "343:\tlearn: 0.5526570\ttotal: 21.1s\tremaining: 40.3s\n",
      "344:\tlearn: 0.5524945\ttotal: 21.2s\tremaining: 40.2s\n",
      "345:\tlearn: 0.5522647\ttotal: 21.2s\tremaining: 40.1s\n",
      "346:\tlearn: 0.5520800\ttotal: 21.3s\tremaining: 40.1s\n",
      "347:\tlearn: 0.5513723\ttotal: 21.4s\tremaining: 40s\n",
      "348:\tlearn: 0.5511264\ttotal: 21.4s\tremaining: 40s\n",
      "349:\tlearn: 0.5509225\ttotal: 21.5s\tremaining: 39.9s\n",
      "350:\tlearn: 0.5505382\ttotal: 21.6s\tremaining: 39.9s\n",
      "351:\tlearn: 0.5501805\ttotal: 21.6s\tremaining: 39.8s\n",
      "352:\tlearn: 0.5498559\ttotal: 21.7s\tremaining: 39.7s\n",
      "353:\tlearn: 0.5496763\ttotal: 21.7s\tremaining: 39.7s\n",
      "354:\tlearn: 0.5494073\ttotal: 21.8s\tremaining: 39.6s\n",
      "355:\tlearn: 0.5490927\ttotal: 21.9s\tremaining: 39.6s\n",
      "356:\tlearn: 0.5486010\ttotal: 21.9s\tremaining: 39.5s\n",
      "357:\tlearn: 0.5482470\ttotal: 22s\tremaining: 39.4s\n",
      "358:\tlearn: 0.5478223\ttotal: 22.1s\tremaining: 39.4s\n",
      "359:\tlearn: 0.5477168\ttotal: 22.1s\tremaining: 39.3s\n",
      "360:\tlearn: 0.5474739\ttotal: 22.2s\tremaining: 39.3s\n",
      "361:\tlearn: 0.5473057\ttotal: 22.3s\tremaining: 39.2s\n",
      "362:\tlearn: 0.5472292\ttotal: 22.3s\tremaining: 39.2s\n",
      "363:\tlearn: 0.5470877\ttotal: 22.4s\tremaining: 39.1s\n",
      "364:\tlearn: 0.5468968\ttotal: 22.4s\tremaining: 39s\n",
      "365:\tlearn: 0.5465407\ttotal: 22.5s\tremaining: 39s\n",
      "366:\tlearn: 0.5463610\ttotal: 22.5s\tremaining: 38.9s\n",
      "367:\tlearn: 0.5461683\ttotal: 22.6s\tremaining: 38.8s\n",
      "368:\tlearn: 0.5459119\ttotal: 22.7s\tremaining: 38.8s\n",
      "369:\tlearn: 0.5457723\ttotal: 22.7s\tremaining: 38.7s\n",
      "370:\tlearn: 0.5456331\ttotal: 22.8s\tremaining: 38.7s\n",
      "371:\tlearn: 0.5454129\ttotal: 22.9s\tremaining: 38.6s\n",
      "372:\tlearn: 0.5451820\ttotal: 22.9s\tremaining: 38.5s\n",
      "373:\tlearn: 0.5449581\ttotal: 23s\tremaining: 38.5s\n",
      "374:\tlearn: 0.5447279\ttotal: 23s\tremaining: 38.4s\n",
      "375:\tlearn: 0.5443909\ttotal: 23.1s\tremaining: 38.3s\n",
      "376:\tlearn: 0.5436666\ttotal: 23.2s\tremaining: 38.3s\n",
      "377:\tlearn: 0.5434473\ttotal: 23.2s\tremaining: 38.2s\n",
      "378:\tlearn: 0.5432648\ttotal: 23.3s\tremaining: 38.2s\n",
      "379:\tlearn: 0.5430565\ttotal: 23.4s\tremaining: 38.1s\n",
      "380:\tlearn: 0.5425652\ttotal: 23.4s\tremaining: 38s\n",
      "381:\tlearn: 0.5422895\ttotal: 23.5s\tremaining: 38s\n",
      "382:\tlearn: 0.5420101\ttotal: 23.5s\tremaining: 37.9s\n",
      "383:\tlearn: 0.5418378\ttotal: 23.6s\tremaining: 37.9s\n",
      "384:\tlearn: 0.5416247\ttotal: 23.7s\tremaining: 37.9s\n",
      "385:\tlearn: 0.5414091\ttotal: 23.8s\tremaining: 37.8s\n",
      "386:\tlearn: 0.5408678\ttotal: 23.8s\tremaining: 37.8s\n",
      "387:\tlearn: 0.5406750\ttotal: 23.9s\tremaining: 37.7s\n",
      "388:\tlearn: 0.5404477\ttotal: 24s\tremaining: 37.6s\n",
      "389:\tlearn: 0.5400967\ttotal: 24s\tremaining: 37.6s\n",
      "390:\tlearn: 0.5398318\ttotal: 24.1s\tremaining: 37.5s\n",
      "391:\tlearn: 0.5395903\ttotal: 24.2s\tremaining: 37.5s\n",
      "392:\tlearn: 0.5393343\ttotal: 24.2s\tremaining: 37.4s\n",
      "393:\tlearn: 0.5391881\ttotal: 24.3s\tremaining: 37.4s\n",
      "394:\tlearn: 0.5388100\ttotal: 24.4s\tremaining: 37.3s\n",
      "395:\tlearn: 0.5385213\ttotal: 24.4s\tremaining: 37.3s\n",
      "396:\tlearn: 0.5382031\ttotal: 24.5s\tremaining: 37.2s\n",
      "397:\tlearn: 0.5379130\ttotal: 24.5s\tremaining: 37.1s\n",
      "398:\tlearn: 0.5376623\ttotal: 24.6s\tremaining: 37.1s\n",
      "399:\tlearn: 0.5375451\ttotal: 24.7s\tremaining: 37s\n",
      "400:\tlearn: 0.5370208\ttotal: 24.7s\tremaining: 37s\n",
      "401:\tlearn: 0.5367799\ttotal: 24.8s\tremaining: 36.9s\n",
      "402:\tlearn: 0.5365817\ttotal: 24.9s\tremaining: 36.9s\n",
      "403:\tlearn: 0.5363929\ttotal: 24.9s\tremaining: 36.8s\n",
      "404:\tlearn: 0.5361728\ttotal: 25s\tremaining: 36.7s\n",
      "405:\tlearn: 0.5360254\ttotal: 25.1s\tremaining: 36.7s\n",
      "406:\tlearn: 0.5357114\ttotal: 25.1s\tremaining: 36.6s\n",
      "407:\tlearn: 0.5356228\ttotal: 25.2s\tremaining: 36.5s\n",
      "408:\tlearn: 0.5353903\ttotal: 25.2s\tremaining: 36.5s\n",
      "409:\tlearn: 0.5351007\ttotal: 25.3s\tremaining: 36.4s\n",
      "410:\tlearn: 0.5349409\ttotal: 25.4s\tremaining: 36.4s\n",
      "411:\tlearn: 0.5346947\ttotal: 25.4s\tremaining: 36.3s\n",
      "412:\tlearn: 0.5345275\ttotal: 25.5s\tremaining: 36.3s\n",
      "413:\tlearn: 0.5340929\ttotal: 25.6s\tremaining: 36.2s\n",
      "414:\tlearn: 0.5338947\ttotal: 25.7s\tremaining: 36.2s\n",
      "415:\tlearn: 0.5336460\ttotal: 25.7s\tremaining: 36.1s\n",
      "416:\tlearn: 0.5335001\ttotal: 25.8s\tremaining: 36s\n",
      "417:\tlearn: 0.5332901\ttotal: 25.8s\tremaining: 36s\n",
      "418:\tlearn: 0.5331680\ttotal: 25.9s\tremaining: 35.9s\n",
      "419:\tlearn: 0.5330159\ttotal: 26s\tremaining: 35.8s\n",
      "420:\tlearn: 0.5327799\ttotal: 26s\tremaining: 35.8s\n",
      "421:\tlearn: 0.5326970\ttotal: 26.1s\tremaining: 35.7s\n",
      "422:\tlearn: 0.5324431\ttotal: 26.1s\tremaining: 35.7s\n",
      "423:\tlearn: 0.5322252\ttotal: 26.2s\tremaining: 35.6s\n",
      "424:\tlearn: 0.5317355\ttotal: 26.3s\tremaining: 35.5s\n",
      "425:\tlearn: 0.5315977\ttotal: 26.3s\tremaining: 35.5s\n",
      "426:\tlearn: 0.5312785\ttotal: 26.4s\tremaining: 35.4s\n",
      "427:\tlearn: 0.5310871\ttotal: 26.5s\tremaining: 35.4s\n",
      "428:\tlearn: 0.5310195\ttotal: 26.5s\tremaining: 35.3s\n",
      "429:\tlearn: 0.5307256\ttotal: 26.6s\tremaining: 35.2s\n",
      "430:\tlearn: 0.5306114\ttotal: 26.7s\tremaining: 35.2s\n",
      "431:\tlearn: 0.5304545\ttotal: 26.7s\tremaining: 35.1s\n",
      "432:\tlearn: 0.5303259\ttotal: 26.8s\tremaining: 35.1s\n",
      "433:\tlearn: 0.5301860\ttotal: 26.9s\tremaining: 35s\n",
      "434:\tlearn: 0.5299679\ttotal: 26.9s\tremaining: 35s\n",
      "435:\tlearn: 0.5297196\ttotal: 27s\tremaining: 34.9s\n",
      "436:\tlearn: 0.5295190\ttotal: 27s\tremaining: 34.8s\n",
      "437:\tlearn: 0.5292923\ttotal: 27.1s\tremaining: 34.8s\n",
      "438:\tlearn: 0.5290944\ttotal: 27.2s\tremaining: 34.7s\n",
      "439:\tlearn: 0.5288279\ttotal: 27.2s\tremaining: 34.7s\n",
      "440:\tlearn: 0.5286503\ttotal: 27.3s\tremaining: 34.6s\n",
      "441:\tlearn: 0.5285132\ttotal: 27.4s\tremaining: 34.5s\n",
      "442:\tlearn: 0.5283331\ttotal: 27.4s\tremaining: 34.5s\n",
      "443:\tlearn: 0.5281340\ttotal: 27.5s\tremaining: 34.4s\n",
      "444:\tlearn: 0.5279389\ttotal: 27.5s\tremaining: 34.3s\n",
      "445:\tlearn: 0.5277845\ttotal: 27.6s\tremaining: 34.3s\n",
      "446:\tlearn: 0.5275913\ttotal: 27.7s\tremaining: 34.2s\n",
      "447:\tlearn: 0.5274082\ttotal: 27.7s\tremaining: 34.2s\n",
      "448:\tlearn: 0.5272159\ttotal: 27.8s\tremaining: 34.1s\n",
      "449:\tlearn: 0.5271052\ttotal: 27.8s\tremaining: 34s\n",
      "450:\tlearn: 0.5268952\ttotal: 27.9s\tremaining: 34s\n",
      "451:\tlearn: 0.5265965\ttotal: 28s\tremaining: 33.9s\n",
      "452:\tlearn: 0.5264892\ttotal: 28.1s\tremaining: 33.9s\n",
      "453:\tlearn: 0.5262719\ttotal: 28.1s\tremaining: 33.8s\n",
      "454:\tlearn: 0.5260162\ttotal: 28.2s\tremaining: 33.7s\n",
      "455:\tlearn: 0.5258091\ttotal: 28.2s\tremaining: 33.7s\n",
      "456:\tlearn: 0.5253969\ttotal: 28.3s\tremaining: 33.6s\n",
      "457:\tlearn: 0.5252481\ttotal: 28.3s\tremaining: 33.5s\n",
      "458:\tlearn: 0.5251332\ttotal: 28.4s\tremaining: 33.5s\n",
      "459:\tlearn: 0.5249817\ttotal: 28.5s\tremaining: 33.4s\n",
      "460:\tlearn: 0.5248039\ttotal: 28.5s\tremaining: 33.3s\n",
      "461:\tlearn: 0.5247143\ttotal: 28.6s\tremaining: 33.3s\n",
      "462:\tlearn: 0.5245881\ttotal: 28.6s\tremaining: 33.2s\n",
      "463:\tlearn: 0.5243219\ttotal: 28.7s\tremaining: 33.1s\n",
      "464:\tlearn: 0.5241720\ttotal: 28.8s\tremaining: 33.1s\n",
      "465:\tlearn: 0.5240794\ttotal: 28.8s\tremaining: 33s\n",
      "466:\tlearn: 0.5239150\ttotal: 28.9s\tremaining: 33s\n",
      "467:\tlearn: 0.5236096\ttotal: 29s\tremaining: 32.9s\n",
      "468:\tlearn: 0.5234485\ttotal: 29s\tremaining: 32.9s\n",
      "469:\tlearn: 0.5232657\ttotal: 29.1s\tremaining: 32.8s\n",
      "470:\tlearn: 0.5231389\ttotal: 29.2s\tremaining: 32.8s\n",
      "471:\tlearn: 0.5229583\ttotal: 29.2s\tremaining: 32.7s\n",
      "472:\tlearn: 0.5227938\ttotal: 29.3s\tremaining: 32.6s\n",
      "473:\tlearn: 0.5226757\ttotal: 29.3s\tremaining: 32.6s\n",
      "474:\tlearn: 0.5223996\ttotal: 29.4s\tremaining: 32.5s\n",
      "475:\tlearn: 0.5222157\ttotal: 29.5s\tremaining: 32.4s\n"
     ]
    },
    {
     "name": "stdout",
     "output_type": "stream",
     "text": [
      "476:\tlearn: 0.5220752\ttotal: 29.5s\tremaining: 32.4s\n",
      "477:\tlearn: 0.5219303\ttotal: 29.6s\tremaining: 32.3s\n",
      "478:\tlearn: 0.5217876\ttotal: 29.7s\tremaining: 32.3s\n",
      "479:\tlearn: 0.5214213\ttotal: 29.7s\tremaining: 32.2s\n",
      "480:\tlearn: 0.5212611\ttotal: 29.8s\tremaining: 32.2s\n",
      "481:\tlearn: 0.5208391\ttotal: 29.9s\tremaining: 32.1s\n",
      "482:\tlearn: 0.5204956\ttotal: 30s\tremaining: 32.1s\n",
      "483:\tlearn: 0.5204162\ttotal: 30s\tremaining: 32s\n",
      "484:\tlearn: 0.5202797\ttotal: 30.1s\tremaining: 31.9s\n",
      "485:\tlearn: 0.5201186\ttotal: 30.1s\tremaining: 31.9s\n",
      "486:\tlearn: 0.5200014\ttotal: 30.2s\tremaining: 31.9s\n",
      "487:\tlearn: 0.5198857\ttotal: 30.3s\tremaining: 31.8s\n",
      "488:\tlearn: 0.5196145\ttotal: 30.4s\tremaining: 31.7s\n",
      "489:\tlearn: 0.5194815\ttotal: 30.4s\tremaining: 31.7s\n",
      "490:\tlearn: 0.5193425\ttotal: 30.5s\tremaining: 31.6s\n",
      "491:\tlearn: 0.5191808\ttotal: 30.6s\tremaining: 31.6s\n",
      "492:\tlearn: 0.5190037\ttotal: 30.6s\tremaining: 31.5s\n",
      "493:\tlearn: 0.5188454\ttotal: 30.7s\tremaining: 31.4s\n",
      "494:\tlearn: 0.5183639\ttotal: 30.8s\tremaining: 31.4s\n",
      "495:\tlearn: 0.5181742\ttotal: 30.8s\tremaining: 31.3s\n",
      "496:\tlearn: 0.5180344\ttotal: 30.9s\tremaining: 31.2s\n",
      "497:\tlearn: 0.5178470\ttotal: 30.9s\tremaining: 31.2s\n",
      "498:\tlearn: 0.5176173\ttotal: 31s\tremaining: 31.1s\n",
      "499:\tlearn: 0.5175328\ttotal: 31.1s\tremaining: 31.1s\n",
      "500:\tlearn: 0.5173905\ttotal: 31.1s\tremaining: 31s\n",
      "501:\tlearn: 0.5172115\ttotal: 31.2s\tremaining: 30.9s\n",
      "502:\tlearn: 0.5169968\ttotal: 31.2s\tremaining: 30.8s\n",
      "503:\tlearn: 0.5168389\ttotal: 31.3s\tremaining: 30.8s\n",
      "504:\tlearn: 0.5167436\ttotal: 31.3s\tremaining: 30.7s\n",
      "505:\tlearn: 0.5165573\ttotal: 31.4s\tremaining: 30.6s\n",
      "506:\tlearn: 0.5163810\ttotal: 31.4s\tremaining: 30.6s\n",
      "507:\tlearn: 0.5161804\ttotal: 31.5s\tremaining: 30.5s\n",
      "508:\tlearn: 0.5159180\ttotal: 31.6s\tremaining: 30.4s\n",
      "509:\tlearn: 0.5156291\ttotal: 31.6s\tremaining: 30.4s\n",
      "510:\tlearn: 0.5154434\ttotal: 31.7s\tremaining: 30.3s\n",
      "511:\tlearn: 0.5151327\ttotal: 31.7s\tremaining: 30.3s\n",
      "512:\tlearn: 0.5150139\ttotal: 31.8s\tremaining: 30.2s\n",
      "513:\tlearn: 0.5148283\ttotal: 31.9s\tremaining: 30.1s\n",
      "514:\tlearn: 0.5146953\ttotal: 31.9s\tremaining: 30.1s\n",
      "515:\tlearn: 0.5146071\ttotal: 32s\tremaining: 30s\n",
      "516:\tlearn: 0.5144458\ttotal: 32s\tremaining: 29.9s\n",
      "517:\tlearn: 0.5142763\ttotal: 32.1s\tremaining: 29.8s\n",
      "518:\tlearn: 0.5140724\ttotal: 32.1s\tremaining: 29.8s\n",
      "519:\tlearn: 0.5138791\ttotal: 32.2s\tremaining: 29.7s\n",
      "520:\tlearn: 0.5137510\ttotal: 32.2s\tremaining: 29.6s\n",
      "521:\tlearn: 0.5136149\ttotal: 32.3s\tremaining: 29.6s\n",
      "522:\tlearn: 0.5133037\ttotal: 32.4s\tremaining: 29.5s\n",
      "523:\tlearn: 0.5132106\ttotal: 32.4s\tremaining: 29.4s\n",
      "524:\tlearn: 0.5129329\ttotal: 32.5s\tremaining: 29.4s\n",
      "525:\tlearn: 0.5127702\ttotal: 32.5s\tremaining: 29.3s\n",
      "526:\tlearn: 0.5126710\ttotal: 32.6s\tremaining: 29.2s\n",
      "527:\tlearn: 0.5125567\ttotal: 32.6s\tremaining: 29.2s\n",
      "528:\tlearn: 0.5123236\ttotal: 32.7s\tremaining: 29.1s\n",
      "529:\tlearn: 0.5121566\ttotal: 32.8s\tremaining: 29s\n",
      "530:\tlearn: 0.5119639\ttotal: 32.8s\tremaining: 29s\n",
      "531:\tlearn: 0.5118512\ttotal: 32.9s\tremaining: 28.9s\n",
      "532:\tlearn: 0.5116672\ttotal: 32.9s\tremaining: 28.9s\n",
      "533:\tlearn: 0.5115274\ttotal: 33s\tremaining: 28.8s\n",
      "534:\tlearn: 0.5113604\ttotal: 33.1s\tremaining: 28.7s\n",
      "535:\tlearn: 0.5111330\ttotal: 33.1s\tremaining: 28.7s\n",
      "536:\tlearn: 0.5107855\ttotal: 33.2s\tremaining: 28.6s\n",
      "537:\tlearn: 0.5105515\ttotal: 33.2s\tremaining: 28.5s\n",
      "538:\tlearn: 0.5104061\ttotal: 33.3s\tremaining: 28.5s\n",
      "539:\tlearn: 0.5101573\ttotal: 33.4s\tremaining: 28.4s\n",
      "540:\tlearn: 0.5098759\ttotal: 33.4s\tremaining: 28.4s\n",
      "541:\tlearn: 0.5096315\ttotal: 33.5s\tremaining: 28.3s\n",
      "542:\tlearn: 0.5094454\ttotal: 33.6s\tremaining: 28.2s\n",
      "543:\tlearn: 0.5093134\ttotal: 33.6s\tremaining: 28.2s\n",
      "544:\tlearn: 0.5091381\ttotal: 33.7s\tremaining: 28.1s\n",
      "545:\tlearn: 0.5088544\ttotal: 33.8s\tremaining: 28.1s\n",
      "546:\tlearn: 0.5087371\ttotal: 33.8s\tremaining: 28s\n",
      "547:\tlearn: 0.5084700\ttotal: 33.9s\tremaining: 28s\n",
      "548:\tlearn: 0.5081574\ttotal: 34s\tremaining: 27.9s\n",
      "549:\tlearn: 0.5080109\ttotal: 34s\tremaining: 27.8s\n",
      "550:\tlearn: 0.5077724\ttotal: 34.1s\tremaining: 27.8s\n",
      "551:\tlearn: 0.5076122\ttotal: 34.1s\tremaining: 27.7s\n",
      "552:\tlearn: 0.5074890\ttotal: 34.2s\tremaining: 27.6s\n",
      "553:\tlearn: 0.5073504\ttotal: 34.2s\tremaining: 27.6s\n",
      "554:\tlearn: 0.5070660\ttotal: 34.3s\tremaining: 27.5s\n",
      "555:\tlearn: 0.5064968\ttotal: 34.4s\tremaining: 27.4s\n",
      "556:\tlearn: 0.5063801\ttotal: 34.4s\tremaining: 27.4s\n",
      "557:\tlearn: 0.5062703\ttotal: 34.5s\tremaining: 27.3s\n",
      "558:\tlearn: 0.5061850\ttotal: 34.5s\tremaining: 27.2s\n",
      "559:\tlearn: 0.5060970\ttotal: 34.6s\tremaining: 27.2s\n",
      "560:\tlearn: 0.5059883\ttotal: 34.6s\tremaining: 27.1s\n",
      "561:\tlearn: 0.5057367\ttotal: 34.7s\tremaining: 27.1s\n",
      "562:\tlearn: 0.5055882\ttotal: 34.8s\tremaining: 27s\n",
      "563:\tlearn: 0.5052476\ttotal: 34.9s\tremaining: 26.9s\n",
      "564:\tlearn: 0.5050584\ttotal: 34.9s\tremaining: 26.9s\n",
      "565:\tlearn: 0.5049547\ttotal: 35s\tremaining: 26.8s\n",
      "566:\tlearn: 0.5047836\ttotal: 35s\tremaining: 26.8s\n",
      "567:\tlearn: 0.5046783\ttotal: 35.1s\tremaining: 26.7s\n",
      "568:\tlearn: 0.5045764\ttotal: 35.1s\tremaining: 26.6s\n",
      "569:\tlearn: 0.5043781\ttotal: 35.2s\tremaining: 26.6s\n",
      "570:\tlearn: 0.5041260\ttotal: 35.3s\tremaining: 26.5s\n",
      "571:\tlearn: 0.5040095\ttotal: 35.3s\tremaining: 26.4s\n",
      "572:\tlearn: 0.5036089\ttotal: 35.4s\tremaining: 26.4s\n",
      "573:\tlearn: 0.5031342\ttotal: 35.5s\tremaining: 26.3s\n",
      "574:\tlearn: 0.5028427\ttotal: 35.5s\tremaining: 26.3s\n",
      "575:\tlearn: 0.5026823\ttotal: 35.6s\tremaining: 26.2s\n",
      "576:\tlearn: 0.5025410\ttotal: 35.7s\tremaining: 26.1s\n",
      "577:\tlearn: 0.5022750\ttotal: 35.7s\tremaining: 26.1s\n",
      "578:\tlearn: 0.5020261\ttotal: 35.8s\tremaining: 26s\n",
      "579:\tlearn: 0.5018656\ttotal: 35.9s\tremaining: 26s\n",
      "580:\tlearn: 0.5017348\ttotal: 35.9s\tremaining: 25.9s\n",
      "581:\tlearn: 0.5015329\ttotal: 36s\tremaining: 25.8s\n",
      "582:\tlearn: 0.5013651\ttotal: 36s\tremaining: 25.8s\n",
      "583:\tlearn: 0.5012325\ttotal: 36.1s\tremaining: 25.7s\n",
      "584:\tlearn: 0.5010862\ttotal: 36.2s\tremaining: 25.7s\n",
      "585:\tlearn: 0.5009590\ttotal: 36.2s\tremaining: 25.6s\n",
      "586:\tlearn: 0.5008209\ttotal: 36.3s\tremaining: 25.5s\n",
      "587:\tlearn: 0.5007125\ttotal: 36.4s\tremaining: 25.5s\n",
      "588:\tlearn: 0.5006267\ttotal: 36.4s\tremaining: 25.4s\n",
      "589:\tlearn: 0.5003934\ttotal: 36.5s\tremaining: 25.4s\n",
      "590:\tlearn: 0.5002203\ttotal: 36.5s\tremaining: 25.3s\n",
      "591:\tlearn: 0.5001279\ttotal: 36.6s\tremaining: 25.2s\n",
      "592:\tlearn: 0.4999927\ttotal: 36.7s\tremaining: 25.2s\n",
      "593:\tlearn: 0.4997687\ttotal: 36.7s\tremaining: 25.1s\n",
      "594:\tlearn: 0.4996610\ttotal: 36.8s\tremaining: 25s\n",
      "595:\tlearn: 0.4995435\ttotal: 36.9s\tremaining: 25s\n",
      "596:\tlearn: 0.4994176\ttotal: 36.9s\tremaining: 24.9s\n",
      "597:\tlearn: 0.4993448\ttotal: 37s\tremaining: 24.9s\n",
      "598:\tlearn: 0.4989191\ttotal: 37s\tremaining: 24.8s\n",
      "599:\tlearn: 0.4988148\ttotal: 37.1s\tremaining: 24.7s\n",
      "600:\tlearn: 0.4986524\ttotal: 37.2s\tremaining: 24.7s\n",
      "601:\tlearn: 0.4985396\ttotal: 37.2s\tremaining: 24.6s\n",
      "602:\tlearn: 0.4983334\ttotal: 37.3s\tremaining: 24.5s\n",
      "603:\tlearn: 0.4980169\ttotal: 37.3s\tremaining: 24.5s\n",
      "604:\tlearn: 0.4979212\ttotal: 37.4s\tremaining: 24.4s\n",
      "605:\tlearn: 0.4977261\ttotal: 37.4s\tremaining: 24.3s\n",
      "606:\tlearn: 0.4976268\ttotal: 37.5s\tremaining: 24.3s\n",
      "607:\tlearn: 0.4973927\ttotal: 37.5s\tremaining: 24.2s\n",
      "608:\tlearn: 0.4972034\ttotal: 37.6s\tremaining: 24.1s\n",
      "609:\tlearn: 0.4970477\ttotal: 37.7s\tremaining: 24.1s\n",
      "610:\tlearn: 0.4968580\ttotal: 37.7s\tremaining: 24s\n",
      "611:\tlearn: 0.4967342\ttotal: 37.8s\tremaining: 24s\n",
      "612:\tlearn: 0.4965983\ttotal: 37.9s\tremaining: 23.9s\n",
      "613:\tlearn: 0.4964129\ttotal: 37.9s\tremaining: 23.8s\n",
      "614:\tlearn: 0.4963291\ttotal: 38s\tremaining: 23.8s\n",
      "615:\tlearn: 0.4962446\ttotal: 38s\tremaining: 23.7s\n",
      "616:\tlearn: 0.4958374\ttotal: 38.1s\tremaining: 23.7s\n",
      "617:\tlearn: 0.4957308\ttotal: 38.2s\tremaining: 23.6s\n",
      "618:\tlearn: 0.4954603\ttotal: 38.2s\tremaining: 23.5s\n",
      "619:\tlearn: 0.4953171\ttotal: 38.3s\tremaining: 23.5s\n",
      "620:\tlearn: 0.4951035\ttotal: 38.3s\tremaining: 23.4s\n",
      "621:\tlearn: 0.4949707\ttotal: 38.4s\tremaining: 23.3s\n",
      "622:\tlearn: 0.4948176\ttotal: 38.5s\tremaining: 23.3s\n",
      "623:\tlearn: 0.4947317\ttotal: 38.5s\tremaining: 23.2s\n",
      "624:\tlearn: 0.4945278\ttotal: 38.6s\tremaining: 23.2s\n",
      "625:\tlearn: 0.4944019\ttotal: 38.7s\tremaining: 23.1s\n",
      "626:\tlearn: 0.4939977\ttotal: 38.7s\tremaining: 23s\n",
      "627:\tlearn: 0.4937527\ttotal: 38.8s\tremaining: 23s\n",
      "628:\tlearn: 0.4936550\ttotal: 38.8s\tremaining: 22.9s\n",
      "629:\tlearn: 0.4935547\ttotal: 38.9s\tremaining: 22.8s\n",
      "630:\tlearn: 0.4932849\ttotal: 39s\tremaining: 22.8s\n",
      "631:\tlearn: 0.4929695\ttotal: 39s\tremaining: 22.7s\n",
      "632:\tlearn: 0.4928555\ttotal: 39.1s\tremaining: 22.7s\n",
      "633:\tlearn: 0.4927807\ttotal: 39.1s\tremaining: 22.6s\n",
      "634:\tlearn: 0.4926922\ttotal: 39.2s\tremaining: 22.5s\n"
     ]
    },
    {
     "name": "stdout",
     "output_type": "stream",
     "text": [
      "635:\tlearn: 0.4925851\ttotal: 39.2s\tremaining: 22.5s\n",
      "636:\tlearn: 0.4924468\ttotal: 39.3s\tremaining: 22.4s\n",
      "637:\tlearn: 0.4923593\ttotal: 39.4s\tremaining: 22.3s\n",
      "638:\tlearn: 0.4915400\ttotal: 39.4s\tremaining: 22.3s\n",
      "639:\tlearn: 0.4912709\ttotal: 39.5s\tremaining: 22.2s\n",
      "640:\tlearn: 0.4911741\ttotal: 39.5s\tremaining: 22.1s\n",
      "641:\tlearn: 0.4910553\ttotal: 39.6s\tremaining: 22.1s\n",
      "642:\tlearn: 0.4909264\ttotal: 39.6s\tremaining: 22s\n",
      "643:\tlearn: 0.4906809\ttotal: 39.7s\tremaining: 21.9s\n",
      "644:\tlearn: 0.4903908\ttotal: 39.8s\tremaining: 21.9s\n",
      "645:\tlearn: 0.4902900\ttotal: 39.8s\tremaining: 21.8s\n",
      "646:\tlearn: 0.4901110\ttotal: 39.9s\tremaining: 21.7s\n",
      "647:\tlearn: 0.4899436\ttotal: 39.9s\tremaining: 21.7s\n",
      "648:\tlearn: 0.4898815\ttotal: 40s\tremaining: 21.6s\n",
      "649:\tlearn: 0.4897376\ttotal: 40s\tremaining: 21.6s\n",
      "650:\tlearn: 0.4895259\ttotal: 40.1s\tremaining: 21.5s\n",
      "651:\tlearn: 0.4891987\ttotal: 40.1s\tremaining: 21.4s\n",
      "652:\tlearn: 0.4891286\ttotal: 40.2s\tremaining: 21.4s\n",
      "653:\tlearn: 0.4889469\ttotal: 40.3s\tremaining: 21.3s\n",
      "654:\tlearn: 0.4888617\ttotal: 40.3s\tremaining: 21.2s\n",
      "655:\tlearn: 0.4887120\ttotal: 40.4s\tremaining: 21.2s\n",
      "656:\tlearn: 0.4885925\ttotal: 40.4s\tremaining: 21.1s\n",
      "657:\tlearn: 0.4885234\ttotal: 40.5s\tremaining: 21s\n",
      "658:\tlearn: 0.4881808\ttotal: 40.5s\tremaining: 21s\n",
      "659:\tlearn: 0.4880164\ttotal: 40.6s\tremaining: 20.9s\n",
      "660:\tlearn: 0.4879077\ttotal: 40.6s\tremaining: 20.8s\n",
      "661:\tlearn: 0.4877717\ttotal: 40.7s\tremaining: 20.8s\n",
      "662:\tlearn: 0.4876299\ttotal: 40.8s\tremaining: 20.7s\n",
      "663:\tlearn: 0.4875370\ttotal: 40.8s\tremaining: 20.7s\n",
      "664:\tlearn: 0.4874139\ttotal: 40.9s\tremaining: 20.6s\n",
      "665:\tlearn: 0.4873054\ttotal: 40.9s\tremaining: 20.5s\n",
      "666:\tlearn: 0.4871525\ttotal: 41s\tremaining: 20.5s\n",
      "667:\tlearn: 0.4870629\ttotal: 41s\tremaining: 20.4s\n",
      "668:\tlearn: 0.4869152\ttotal: 41.1s\tremaining: 20.3s\n",
      "669:\tlearn: 0.4868108\ttotal: 41.1s\tremaining: 20.3s\n",
      "670:\tlearn: 0.4859258\ttotal: 41.2s\tremaining: 20.2s\n",
      "671:\tlearn: 0.4857648\ttotal: 41.3s\tremaining: 20.1s\n",
      "672:\tlearn: 0.4856708\ttotal: 41.3s\tremaining: 20.1s\n",
      "673:\tlearn: 0.4854343\ttotal: 41.4s\tremaining: 20s\n",
      "674:\tlearn: 0.4853300\ttotal: 41.4s\tremaining: 19.9s\n",
      "675:\tlearn: 0.4851528\ttotal: 41.5s\tremaining: 19.9s\n",
      "676:\tlearn: 0.4850085\ttotal: 41.5s\tremaining: 19.8s\n",
      "677:\tlearn: 0.4848527\ttotal: 41.6s\tremaining: 19.8s\n",
      "678:\tlearn: 0.4847778\ttotal: 41.6s\tremaining: 19.7s\n",
      "679:\tlearn: 0.4843751\ttotal: 41.7s\tremaining: 19.6s\n",
      "680:\tlearn: 0.4842733\ttotal: 41.8s\tremaining: 19.6s\n",
      "681:\tlearn: 0.4840093\ttotal: 41.8s\tremaining: 19.5s\n",
      "682:\tlearn: 0.4836580\ttotal: 41.9s\tremaining: 19.4s\n",
      "683:\tlearn: 0.4835545\ttotal: 41.9s\tremaining: 19.4s\n",
      "684:\tlearn: 0.4834521\ttotal: 42s\tremaining: 19.3s\n",
      "685:\tlearn: 0.4833612\ttotal: 42s\tremaining: 19.2s\n",
      "686:\tlearn: 0.4831967\ttotal: 42.1s\tremaining: 19.2s\n",
      "687:\tlearn: 0.4830822\ttotal: 42.1s\tremaining: 19.1s\n",
      "688:\tlearn: 0.4829887\ttotal: 42.2s\tremaining: 19s\n",
      "689:\tlearn: 0.4827630\ttotal: 42.3s\tremaining: 19s\n",
      "690:\tlearn: 0.4826299\ttotal: 42.3s\tremaining: 18.9s\n",
      "691:\tlearn: 0.4824609\ttotal: 42.4s\tremaining: 18.9s\n",
      "692:\tlearn: 0.4823397\ttotal: 42.4s\tremaining: 18.8s\n",
      "693:\tlearn: 0.4822008\ttotal: 42.5s\tremaining: 18.7s\n",
      "694:\tlearn: 0.4817295\ttotal: 42.5s\tremaining: 18.7s\n",
      "695:\tlearn: 0.4816165\ttotal: 42.6s\tremaining: 18.6s\n",
      "696:\tlearn: 0.4814285\ttotal: 42.6s\tremaining: 18.5s\n",
      "697:\tlearn: 0.4812495\ttotal: 42.7s\tremaining: 18.5s\n",
      "698:\tlearn: 0.4811942\ttotal: 42.8s\tremaining: 18.4s\n",
      "699:\tlearn: 0.4811127\ttotal: 42.8s\tremaining: 18.3s\n",
      "700:\tlearn: 0.4810334\ttotal: 42.9s\tremaining: 18.3s\n",
      "701:\tlearn: 0.4807180\ttotal: 42.9s\tremaining: 18.2s\n",
      "702:\tlearn: 0.4806273\ttotal: 43s\tremaining: 18.2s\n",
      "703:\tlearn: 0.4805142\ttotal: 43s\tremaining: 18.1s\n",
      "704:\tlearn: 0.4802482\ttotal: 43.1s\tremaining: 18s\n",
      "705:\tlearn: 0.4800562\ttotal: 43.1s\tremaining: 18s\n",
      "706:\tlearn: 0.4799614\ttotal: 43.2s\tremaining: 17.9s\n",
      "707:\tlearn: 0.4798778\ttotal: 43.3s\tremaining: 17.8s\n",
      "708:\tlearn: 0.4797738\ttotal: 43.3s\tremaining: 17.8s\n",
      "709:\tlearn: 0.4795363\ttotal: 43.4s\tremaining: 17.7s\n",
      "710:\tlearn: 0.4794614\ttotal: 43.4s\tremaining: 17.6s\n",
      "711:\tlearn: 0.4792131\ttotal: 43.5s\tremaining: 17.6s\n",
      "712:\tlearn: 0.4791319\ttotal: 43.5s\tremaining: 17.5s\n",
      "713:\tlearn: 0.4790588\ttotal: 43.6s\tremaining: 17.5s\n",
      "714:\tlearn: 0.4788001\ttotal: 43.6s\tremaining: 17.4s\n",
      "715:\tlearn: 0.4786569\ttotal: 43.7s\tremaining: 17.3s\n",
      "716:\tlearn: 0.4785271\ttotal: 43.8s\tremaining: 17.3s\n",
      "717:\tlearn: 0.4782698\ttotal: 43.8s\tremaining: 17.2s\n",
      "718:\tlearn: 0.4781234\ttotal: 43.9s\tremaining: 17.1s\n",
      "719:\tlearn: 0.4780254\ttotal: 43.9s\tremaining: 17.1s\n",
      "720:\tlearn: 0.4779250\ttotal: 44s\tremaining: 17s\n",
      "721:\tlearn: 0.4778007\ttotal: 44s\tremaining: 17s\n",
      "722:\tlearn: 0.4774999\ttotal: 44.1s\tremaining: 16.9s\n",
      "723:\tlearn: 0.4773177\ttotal: 44.1s\tremaining: 16.8s\n",
      "724:\tlearn: 0.4770984\ttotal: 44.2s\tremaining: 16.8s\n",
      "725:\tlearn: 0.4770081\ttotal: 44.3s\tremaining: 16.7s\n",
      "726:\tlearn: 0.4769266\ttotal: 44.3s\tremaining: 16.6s\n",
      "727:\tlearn: 0.4768229\ttotal: 44.4s\tremaining: 16.6s\n",
      "728:\tlearn: 0.4766295\ttotal: 44.4s\tremaining: 16.5s\n",
      "729:\tlearn: 0.4764811\ttotal: 44.5s\tremaining: 16.5s\n",
      "730:\tlearn: 0.4763528\ttotal: 44.5s\tremaining: 16.4s\n",
      "731:\tlearn: 0.4763013\ttotal: 44.6s\tremaining: 16.3s\n",
      "732:\tlearn: 0.4761728\ttotal: 44.7s\tremaining: 16.3s\n",
      "733:\tlearn: 0.4759990\ttotal: 44.7s\tremaining: 16.2s\n",
      "734:\tlearn: 0.4758328\ttotal: 44.8s\tremaining: 16.1s\n",
      "735:\tlearn: 0.4757655\ttotal: 44.8s\tremaining: 16.1s\n",
      "736:\tlearn: 0.4756475\ttotal: 44.9s\tremaining: 16s\n",
      "737:\tlearn: 0.4755156\ttotal: 44.9s\tremaining: 16s\n",
      "738:\tlearn: 0.4753663\ttotal: 45s\tremaining: 15.9s\n",
      "739:\tlearn: 0.4752717\ttotal: 45s\tremaining: 15.8s\n",
      "740:\tlearn: 0.4751695\ttotal: 45.1s\tremaining: 15.8s\n",
      "741:\tlearn: 0.4749979\ttotal: 45.2s\tremaining: 15.7s\n",
      "742:\tlearn: 0.4749293\ttotal: 45.2s\tremaining: 15.6s\n",
      "743:\tlearn: 0.4748332\ttotal: 45.3s\tremaining: 15.6s\n",
      "744:\tlearn: 0.4745672\ttotal: 45.3s\tremaining: 15.5s\n",
      "745:\tlearn: 0.4744908\ttotal: 45.4s\tremaining: 15.4s\n",
      "746:\tlearn: 0.4744205\ttotal: 45.4s\tremaining: 15.4s\n",
      "747:\tlearn: 0.4742653\ttotal: 45.5s\tremaining: 15.3s\n",
      "748:\tlearn: 0.4741340\ttotal: 45.5s\tremaining: 15.3s\n",
      "749:\tlearn: 0.4740357\ttotal: 45.6s\tremaining: 15.2s\n",
      "750:\tlearn: 0.4739668\ttotal: 45.7s\tremaining: 15.1s\n",
      "751:\tlearn: 0.4739132\ttotal: 45.7s\tremaining: 15.1s\n",
      "752:\tlearn: 0.4737939\ttotal: 45.8s\tremaining: 15s\n",
      "753:\tlearn: 0.4735080\ttotal: 45.8s\tremaining: 14.9s\n",
      "754:\tlearn: 0.4734478\ttotal: 45.9s\tremaining: 14.9s\n",
      "755:\tlearn: 0.4731805\ttotal: 45.9s\tremaining: 14.8s\n",
      "756:\tlearn: 0.4729029\ttotal: 46s\tremaining: 14.8s\n",
      "757:\tlearn: 0.4727704\ttotal: 46s\tremaining: 14.7s\n",
      "758:\tlearn: 0.4726975\ttotal: 46.1s\tremaining: 14.6s\n",
      "759:\tlearn: 0.4724146\ttotal: 46.2s\tremaining: 14.6s\n",
      "760:\tlearn: 0.4723313\ttotal: 46.2s\tremaining: 14.5s\n",
      "761:\tlearn: 0.4721805\ttotal: 46.3s\tremaining: 14.5s\n",
      "762:\tlearn: 0.4720695\ttotal: 46.3s\tremaining: 14.4s\n",
      "763:\tlearn: 0.4719943\ttotal: 46.4s\tremaining: 14.3s\n",
      "764:\tlearn: 0.4718689\ttotal: 46.4s\tremaining: 14.3s\n",
      "765:\tlearn: 0.4717944\ttotal: 46.5s\tremaining: 14.2s\n",
      "766:\tlearn: 0.4717108\ttotal: 46.6s\tremaining: 14.1s\n",
      "767:\tlearn: 0.4716142\ttotal: 46.6s\tremaining: 14.1s\n",
      "768:\tlearn: 0.4714336\ttotal: 46.7s\tremaining: 14s\n",
      "769:\tlearn: 0.4712911\ttotal: 46.7s\tremaining: 14s\n",
      "770:\tlearn: 0.4711858\ttotal: 46.8s\tremaining: 13.9s\n",
      "771:\tlearn: 0.4710866\ttotal: 46.8s\tremaining: 13.8s\n",
      "772:\tlearn: 0.4710164\ttotal: 46.9s\tremaining: 13.8s\n",
      "773:\tlearn: 0.4709343\ttotal: 47s\tremaining: 13.7s\n",
      "774:\tlearn: 0.4707765\ttotal: 47s\tremaining: 13.6s\n",
      "775:\tlearn: 0.4697108\ttotal: 47.1s\tremaining: 13.6s\n",
      "776:\tlearn: 0.4696214\ttotal: 47.1s\tremaining: 13.5s\n",
      "777:\tlearn: 0.4694882\ttotal: 47.2s\tremaining: 13.5s\n",
      "778:\tlearn: 0.4693925\ttotal: 47.2s\tremaining: 13.4s\n",
      "779:\tlearn: 0.4692573\ttotal: 47.3s\tremaining: 13.3s\n",
      "780:\tlearn: 0.4691834\ttotal: 47.4s\tremaining: 13.3s\n",
      "781:\tlearn: 0.4691205\ttotal: 47.4s\tremaining: 13.2s\n",
      "782:\tlearn: 0.4689889\ttotal: 47.5s\tremaining: 13.2s\n",
      "783:\tlearn: 0.4689391\ttotal: 47.5s\tremaining: 13.1s\n",
      "784:\tlearn: 0.4688025\ttotal: 47.6s\tremaining: 13s\n",
      "785:\tlearn: 0.4686314\ttotal: 47.7s\tremaining: 13s\n",
      "786:\tlearn: 0.4685349\ttotal: 47.7s\tremaining: 12.9s\n",
      "787:\tlearn: 0.4684376\ttotal: 47.8s\tremaining: 12.9s\n",
      "788:\tlearn: 0.4683691\ttotal: 47.8s\tremaining: 12.8s\n",
      "789:\tlearn: 0.4682400\ttotal: 47.9s\tremaining: 12.7s\n",
      "790:\tlearn: 0.4681762\ttotal: 48s\tremaining: 12.7s\n",
      "791:\tlearn: 0.4679078\ttotal: 48s\tremaining: 12.6s\n",
      "792:\tlearn: 0.4677720\ttotal: 48.1s\tremaining: 12.6s\n",
      "793:\tlearn: 0.4677163\ttotal: 48.2s\tremaining: 12.5s\n",
      "794:\tlearn: 0.4673545\ttotal: 48.2s\tremaining: 12.4s\n",
      "795:\tlearn: 0.4672297\ttotal: 48.3s\tremaining: 12.4s\n",
      "796:\tlearn: 0.4671432\ttotal: 48.3s\tremaining: 12.3s\n"
     ]
    },
    {
     "name": "stdout",
     "output_type": "stream",
     "text": [
      "797:\tlearn: 0.4670612\ttotal: 48.4s\tremaining: 12.3s\n",
      "798:\tlearn: 0.4667983\ttotal: 48.5s\tremaining: 12.2s\n",
      "799:\tlearn: 0.4667229\ttotal: 48.5s\tremaining: 12.1s\n",
      "800:\tlearn: 0.4664116\ttotal: 48.6s\tremaining: 12.1s\n",
      "801:\tlearn: 0.4663478\ttotal: 48.6s\tremaining: 12s\n",
      "802:\tlearn: 0.4662451\ttotal: 48.7s\tremaining: 11.9s\n",
      "803:\tlearn: 0.4661583\ttotal: 48.8s\tremaining: 11.9s\n",
      "804:\tlearn: 0.4660811\ttotal: 48.8s\tremaining: 11.8s\n",
      "805:\tlearn: 0.4659671\ttotal: 48.9s\tremaining: 11.8s\n",
      "806:\tlearn: 0.4658504\ttotal: 48.9s\tremaining: 11.7s\n",
      "807:\tlearn: 0.4657528\ttotal: 49s\tremaining: 11.6s\n",
      "808:\tlearn: 0.4656378\ttotal: 49s\tremaining: 11.6s\n",
      "809:\tlearn: 0.4655281\ttotal: 49.1s\tremaining: 11.5s\n",
      "810:\tlearn: 0.4654300\ttotal: 49.2s\tremaining: 11.5s\n",
      "811:\tlearn: 0.4653716\ttotal: 49.3s\tremaining: 11.4s\n",
      "812:\tlearn: 0.4652029\ttotal: 49.4s\tremaining: 11.4s\n",
      "813:\tlearn: 0.4650881\ttotal: 49.4s\tremaining: 11.3s\n",
      "814:\tlearn: 0.4648629\ttotal: 49.5s\tremaining: 11.2s\n",
      "815:\tlearn: 0.4647592\ttotal: 49.6s\tremaining: 11.2s\n",
      "816:\tlearn: 0.4646690\ttotal: 49.6s\tremaining: 11.1s\n",
      "817:\tlearn: 0.4644918\ttotal: 49.7s\tremaining: 11.1s\n",
      "818:\tlearn: 0.4643738\ttotal: 49.8s\tremaining: 11s\n",
      "819:\tlearn: 0.4642515\ttotal: 49.8s\tremaining: 10.9s\n",
      "820:\tlearn: 0.4640002\ttotal: 49.9s\tremaining: 10.9s\n",
      "821:\tlearn: 0.4639102\ttotal: 49.9s\tremaining: 10.8s\n",
      "822:\tlearn: 0.4637426\ttotal: 50s\tremaining: 10.8s\n",
      "823:\tlearn: 0.4636206\ttotal: 50.1s\tremaining: 10.7s\n",
      "824:\tlearn: 0.4634612\ttotal: 50.1s\tremaining: 10.6s\n",
      "825:\tlearn: 0.4633823\ttotal: 50.2s\tremaining: 10.6s\n",
      "826:\tlearn: 0.4632203\ttotal: 50.2s\tremaining: 10.5s\n",
      "827:\tlearn: 0.4631052\ttotal: 50.3s\tremaining: 10.5s\n",
      "828:\tlearn: 0.4629843\ttotal: 50.4s\tremaining: 10.4s\n",
      "829:\tlearn: 0.4629282\ttotal: 50.4s\tremaining: 10.3s\n",
      "830:\tlearn: 0.4628174\ttotal: 50.5s\tremaining: 10.3s\n",
      "831:\tlearn: 0.4627389\ttotal: 50.6s\tremaining: 10.2s\n",
      "832:\tlearn: 0.4626253\ttotal: 50.6s\tremaining: 10.1s\n",
      "833:\tlearn: 0.4624778\ttotal: 50.7s\tremaining: 10.1s\n",
      "834:\tlearn: 0.4623611\ttotal: 50.7s\tremaining: 10s\n",
      "835:\tlearn: 0.4622587\ttotal: 50.8s\tremaining: 9.96s\n",
      "836:\tlearn: 0.4621283\ttotal: 50.8s\tremaining: 9.9s\n",
      "837:\tlearn: 0.4620480\ttotal: 50.9s\tremaining: 9.84s\n",
      "838:\tlearn: 0.4619732\ttotal: 51s\tremaining: 9.78s\n",
      "839:\tlearn: 0.4618726\ttotal: 51s\tremaining: 9.72s\n",
      "840:\tlearn: 0.4617861\ttotal: 51.1s\tremaining: 9.65s\n",
      "841:\tlearn: 0.4616892\ttotal: 51.1s\tremaining: 9.59s\n",
      "842:\tlearn: 0.4614973\ttotal: 51.2s\tremaining: 9.53s\n",
      "843:\tlearn: 0.4613817\ttotal: 51.2s\tremaining: 9.47s\n",
      "844:\tlearn: 0.4612457\ttotal: 51.3s\tremaining: 9.41s\n",
      "845:\tlearn: 0.4611542\ttotal: 51.4s\tremaining: 9.35s\n",
      "846:\tlearn: 0.4610933\ttotal: 51.4s\tremaining: 9.29s\n",
      "847:\tlearn: 0.4609523\ttotal: 51.5s\tremaining: 9.22s\n",
      "848:\tlearn: 0.4608601\ttotal: 51.5s\tremaining: 9.16s\n",
      "849:\tlearn: 0.4607932\ttotal: 51.6s\tremaining: 9.1s\n",
      "850:\tlearn: 0.4606720\ttotal: 51.6s\tremaining: 9.04s\n",
      "851:\tlearn: 0.4605367\ttotal: 51.7s\tremaining: 8.98s\n",
      "852:\tlearn: 0.4602733\ttotal: 51.8s\tremaining: 8.92s\n",
      "853:\tlearn: 0.4601289\ttotal: 51.8s\tremaining: 8.86s\n",
      "854:\tlearn: 0.4600161\ttotal: 51.9s\tremaining: 8.79s\n",
      "855:\tlearn: 0.4599116\ttotal: 51.9s\tremaining: 8.73s\n",
      "856:\tlearn: 0.4598401\ttotal: 52s\tremaining: 8.67s\n",
      "857:\tlearn: 0.4596709\ttotal: 52s\tremaining: 8.61s\n",
      "858:\tlearn: 0.4595721\ttotal: 52.1s\tremaining: 8.55s\n",
      "859:\tlearn: 0.4592918\ttotal: 52.1s\tremaining: 8.49s\n",
      "860:\tlearn: 0.4591119\ttotal: 52.2s\tremaining: 8.43s\n",
      "861:\tlearn: 0.4589778\ttotal: 52.2s\tremaining: 8.36s\n",
      "862:\tlearn: 0.4587817\ttotal: 52.3s\tremaining: 8.3s\n",
      "863:\tlearn: 0.4586543\ttotal: 52.4s\tremaining: 8.24s\n",
      "864:\tlearn: 0.4585143\ttotal: 52.4s\tremaining: 8.18s\n",
      "865:\tlearn: 0.4583958\ttotal: 52.5s\tremaining: 8.12s\n",
      "866:\tlearn: 0.4580630\ttotal: 52.5s\tremaining: 8.06s\n",
      "867:\tlearn: 0.4580161\ttotal: 52.6s\tremaining: 8s\n",
      "868:\tlearn: 0.4579285\ttotal: 52.6s\tremaining: 7.93s\n",
      "869:\tlearn: 0.4578103\ttotal: 52.7s\tremaining: 7.87s\n",
      "870:\tlearn: 0.4575499\ttotal: 52.8s\tremaining: 7.81s\n",
      "871:\tlearn: 0.4574457\ttotal: 52.8s\tremaining: 7.75s\n",
      "872:\tlearn: 0.4573922\ttotal: 52.9s\tremaining: 7.69s\n",
      "873:\tlearn: 0.4572999\ttotal: 53s\tremaining: 7.63s\n",
      "874:\tlearn: 0.4572091\ttotal: 53s\tremaining: 7.58s\n",
      "875:\tlearn: 0.4570868\ttotal: 53.1s\tremaining: 7.51s\n",
      "876:\tlearn: 0.4570036\ttotal: 53.1s\tremaining: 7.45s\n",
      "877:\tlearn: 0.4568739\ttotal: 53.2s\tremaining: 7.39s\n",
      "878:\tlearn: 0.4567207\ttotal: 53.3s\tremaining: 7.33s\n",
      "879:\tlearn: 0.4565462\ttotal: 53.3s\tremaining: 7.27s\n",
      "880:\tlearn: 0.4564778\ttotal: 53.4s\tremaining: 7.21s\n",
      "881:\tlearn: 0.4563189\ttotal: 53.5s\tremaining: 7.15s\n",
      "882:\tlearn: 0.4560854\ttotal: 53.5s\tremaining: 7.09s\n",
      "883:\tlearn: 0.4559832\ttotal: 53.6s\tremaining: 7.03s\n",
      "884:\tlearn: 0.4557696\ttotal: 53.6s\tremaining: 6.97s\n",
      "885:\tlearn: 0.4555937\ttotal: 53.7s\tremaining: 6.91s\n",
      "886:\tlearn: 0.4555031\ttotal: 53.8s\tremaining: 6.85s\n",
      "887:\tlearn: 0.4554351\ttotal: 53.8s\tremaining: 6.79s\n",
      "888:\tlearn: 0.4553359\ttotal: 53.9s\tremaining: 6.73s\n",
      "889:\tlearn: 0.4552693\ttotal: 53.9s\tremaining: 6.66s\n",
      "890:\tlearn: 0.4547055\ttotal: 54s\tremaining: 6.6s\n",
      "891:\tlearn: 0.4546280\ttotal: 54s\tremaining: 6.54s\n",
      "892:\tlearn: 0.4545536\ttotal: 54.1s\tremaining: 6.48s\n",
      "893:\tlearn: 0.4544998\ttotal: 54.1s\tremaining: 6.42s\n",
      "894:\tlearn: 0.4544331\ttotal: 54.2s\tremaining: 6.36s\n",
      "895:\tlearn: 0.4543922\ttotal: 54.3s\tremaining: 6.3s\n",
      "896:\tlearn: 0.4542057\ttotal: 54.3s\tremaining: 6.24s\n",
      "897:\tlearn: 0.4540283\ttotal: 54.4s\tremaining: 6.18s\n",
      "898:\tlearn: 0.4539059\ttotal: 54.4s\tremaining: 6.12s\n",
      "899:\tlearn: 0.4538144\ttotal: 54.5s\tremaining: 6.06s\n",
      "900:\tlearn: 0.4537177\ttotal: 54.6s\tremaining: 6s\n",
      "901:\tlearn: 0.4536370\ttotal: 54.6s\tremaining: 5.93s\n",
      "902:\tlearn: 0.4535351\ttotal: 54.7s\tremaining: 5.87s\n",
      "903:\tlearn: 0.4532582\ttotal: 54.7s\tremaining: 5.81s\n",
      "904:\tlearn: 0.4531468\ttotal: 54.8s\tremaining: 5.75s\n",
      "905:\tlearn: 0.4530322\ttotal: 54.8s\tremaining: 5.69s\n",
      "906:\tlearn: 0.4528661\ttotal: 54.9s\tremaining: 5.63s\n",
      "907:\tlearn: 0.4527865\ttotal: 55s\tremaining: 5.57s\n",
      "908:\tlearn: 0.4527016\ttotal: 55s\tremaining: 5.51s\n",
      "909:\tlearn: 0.4526018\ttotal: 55.1s\tremaining: 5.45s\n",
      "910:\tlearn: 0.4525008\ttotal: 55.1s\tremaining: 5.38s\n",
      "911:\tlearn: 0.4523674\ttotal: 55.2s\tremaining: 5.32s\n",
      "912:\tlearn: 0.4522243\ttotal: 55.2s\tremaining: 5.26s\n",
      "913:\tlearn: 0.4521614\ttotal: 55.3s\tremaining: 5.2s\n",
      "914:\tlearn: 0.4520763\ttotal: 55.4s\tremaining: 5.14s\n",
      "915:\tlearn: 0.4519978\ttotal: 55.4s\tremaining: 5.08s\n",
      "916:\tlearn: 0.4519329\ttotal: 55.5s\tremaining: 5.02s\n",
      "917:\tlearn: 0.4518244\ttotal: 55.5s\tremaining: 4.96s\n",
      "918:\tlearn: 0.4515185\ttotal: 55.6s\tremaining: 4.9s\n",
      "919:\tlearn: 0.4513498\ttotal: 55.6s\tremaining: 4.84s\n",
      "920:\tlearn: 0.4512608\ttotal: 55.7s\tremaining: 4.78s\n",
      "921:\tlearn: 0.4511823\ttotal: 55.8s\tremaining: 4.72s\n",
      "922:\tlearn: 0.4510600\ttotal: 55.8s\tremaining: 4.66s\n",
      "923:\tlearn: 0.4509943\ttotal: 55.9s\tremaining: 4.6s\n",
      "924:\tlearn: 0.4509192\ttotal: 55.9s\tremaining: 4.54s\n",
      "925:\tlearn: 0.4507067\ttotal: 56s\tremaining: 4.47s\n",
      "926:\tlearn: 0.4506477\ttotal: 56.1s\tremaining: 4.41s\n",
      "927:\tlearn: 0.4505806\ttotal: 56.1s\tremaining: 4.35s\n",
      "928:\tlearn: 0.4504664\ttotal: 56.2s\tremaining: 4.29s\n",
      "929:\tlearn: 0.4503972\ttotal: 56.2s\tremaining: 4.23s\n",
      "930:\tlearn: 0.4503345\ttotal: 56.3s\tremaining: 4.17s\n",
      "931:\tlearn: 0.4502287\ttotal: 56.4s\tremaining: 4.11s\n",
      "932:\tlearn: 0.4501234\ttotal: 56.4s\tremaining: 4.05s\n",
      "933:\tlearn: 0.4500455\ttotal: 56.5s\tremaining: 3.99s\n",
      "934:\tlearn: 0.4499348\ttotal: 56.5s\tremaining: 3.93s\n",
      "935:\tlearn: 0.4498781\ttotal: 56.6s\tremaining: 3.87s\n",
      "936:\tlearn: 0.4497671\ttotal: 56.7s\tremaining: 3.81s\n",
      "937:\tlearn: 0.4496700\ttotal: 56.7s\tremaining: 3.75s\n",
      "938:\tlearn: 0.4494301\ttotal: 56.8s\tremaining: 3.69s\n",
      "939:\tlearn: 0.4492980\ttotal: 56.8s\tremaining: 3.63s\n",
      "940:\tlearn: 0.4492514\ttotal: 56.9s\tremaining: 3.57s\n",
      "941:\tlearn: 0.4491677\ttotal: 56.9s\tremaining: 3.51s\n",
      "942:\tlearn: 0.4490777\ttotal: 57s\tremaining: 3.44s\n",
      "943:\tlearn: 0.4490127\ttotal: 57.1s\tremaining: 3.38s\n",
      "944:\tlearn: 0.4489168\ttotal: 57.1s\tremaining: 3.32s\n",
      "945:\tlearn: 0.4488672\ttotal: 57.2s\tremaining: 3.26s\n",
      "946:\tlearn: 0.4487542\ttotal: 57.2s\tremaining: 3.2s\n",
      "947:\tlearn: 0.4486927\ttotal: 57.3s\tremaining: 3.14s\n",
      "948:\tlearn: 0.4486247\ttotal: 57.3s\tremaining: 3.08s\n",
      "949:\tlearn: 0.4485105\ttotal: 57.4s\tremaining: 3.02s\n",
      "950:\tlearn: 0.4484695\ttotal: 57.5s\tremaining: 2.96s\n",
      "951:\tlearn: 0.4483988\ttotal: 57.5s\tremaining: 2.9s\n",
      "952:\tlearn: 0.4479969\ttotal: 57.6s\tremaining: 2.84s\n",
      "953:\tlearn: 0.4478501\ttotal: 57.6s\tremaining: 2.78s\n",
      "954:\tlearn: 0.4477921\ttotal: 57.7s\tremaining: 2.72s\n",
      "955:\tlearn: 0.4476764\ttotal: 57.8s\tremaining: 2.66s\n",
      "956:\tlearn: 0.4475589\ttotal: 57.8s\tremaining: 2.6s\n"
     ]
    },
    {
     "name": "stdout",
     "output_type": "stream",
     "text": [
      "957:\tlearn: 0.4473798\ttotal: 57.9s\tremaining: 2.54s\n",
      "958:\tlearn: 0.4471187\ttotal: 58s\tremaining: 2.48s\n",
      "959:\tlearn: 0.4470729\ttotal: 58s\tremaining: 2.42s\n",
      "960:\tlearn: 0.4469737\ttotal: 58.1s\tremaining: 2.36s\n",
      "961:\tlearn: 0.4467159\ttotal: 58.2s\tremaining: 2.3s\n",
      "962:\tlearn: 0.4466350\ttotal: 58.2s\tremaining: 2.24s\n",
      "963:\tlearn: 0.4465536\ttotal: 58.3s\tremaining: 2.18s\n",
      "964:\tlearn: 0.4464103\ttotal: 58.4s\tremaining: 2.12s\n",
      "965:\tlearn: 0.4463658\ttotal: 58.4s\tremaining: 2.06s\n",
      "966:\tlearn: 0.4462768\ttotal: 58.5s\tremaining: 2s\n",
      "967:\tlearn: 0.4461486\ttotal: 58.5s\tremaining: 1.93s\n",
      "968:\tlearn: 0.4459690\ttotal: 58.6s\tremaining: 1.87s\n",
      "969:\tlearn: 0.4458726\ttotal: 58.7s\tremaining: 1.81s\n",
      "970:\tlearn: 0.4456561\ttotal: 58.7s\tremaining: 1.75s\n",
      "971:\tlearn: 0.4455362\ttotal: 58.8s\tremaining: 1.69s\n",
      "972:\tlearn: 0.4453899\ttotal: 58.8s\tremaining: 1.63s\n",
      "973:\tlearn: 0.4453157\ttotal: 58.9s\tremaining: 1.57s\n",
      "974:\tlearn: 0.4452452\ttotal: 58.9s\tremaining: 1.51s\n",
      "975:\tlearn: 0.4451516\ttotal: 59s\tremaining: 1.45s\n",
      "976:\tlearn: 0.4450365\ttotal: 59.1s\tremaining: 1.39s\n",
      "977:\tlearn: 0.4449446\ttotal: 59.1s\tremaining: 1.33s\n",
      "978:\tlearn: 0.4448332\ttotal: 59.2s\tremaining: 1.27s\n",
      "979:\tlearn: 0.4446052\ttotal: 59.2s\tremaining: 1.21s\n",
      "980:\tlearn: 0.4445377\ttotal: 59.3s\tremaining: 1.15s\n",
      "981:\tlearn: 0.4444684\ttotal: 59.4s\tremaining: 1.09s\n",
      "982:\tlearn: 0.4442469\ttotal: 59.4s\tremaining: 1.03s\n",
      "983:\tlearn: 0.4441929\ttotal: 59.5s\tremaining: 967ms\n",
      "984:\tlearn: 0.4440047\ttotal: 59.6s\tremaining: 907ms\n",
      "985:\tlearn: 0.4438818\ttotal: 59.6s\tremaining: 847ms\n",
      "986:\tlearn: 0.4438194\ttotal: 59.7s\tremaining: 786ms\n",
      "987:\tlearn: 0.4435034\ttotal: 59.7s\tremaining: 726ms\n",
      "988:\tlearn: 0.4434531\ttotal: 59.8s\tremaining: 665ms\n",
      "989:\tlearn: 0.4433962\ttotal: 59.9s\tremaining: 605ms\n",
      "990:\tlearn: 0.4431674\ttotal: 59.9s\tremaining: 544ms\n",
      "991:\tlearn: 0.4429364\ttotal: 60s\tremaining: 484ms\n",
      "992:\tlearn: 0.4428563\ttotal: 1m\tremaining: 423ms\n",
      "993:\tlearn: 0.4427776\ttotal: 1m\tremaining: 363ms\n",
      "994:\tlearn: 0.4426391\ttotal: 1m\tremaining: 302ms\n",
      "995:\tlearn: 0.4425700\ttotal: 1m\tremaining: 242ms\n",
      "996:\tlearn: 0.4424859\ttotal: 1m\tremaining: 181ms\n",
      "997:\tlearn: 0.4423282\ttotal: 1m\tremaining: 121ms\n",
      "998:\tlearn: 0.4422022\ttotal: 1m\tremaining: 60.5ms\n",
      "999:\tlearn: 0.4421408\ttotal: 1m\tremaining: 0us\n"
     ]
    }
   ],
   "source": [
    "models = {\n",
    "    'lr': LogisticRegression(),\n",
    "    'rf': RandomForestClassifier(n_jobs=-1),\n",
    "    'knc': KNeighborsClassifier(n_jobs=-1),\n",
    "    'svc': SVC(),\n",
    "    'xgb': XGBClassifier(n_jobs=-1),\n",
    "    'cat': CatBoostClassifier(),\n",
    "    'extra': ExtraTreesClassifier(n_jobs=-1),\n",
    "}\n",
    "\n",
    "trained_models = {}\n",
    "\n",
    "for name, algo in models.items():\n",
    "    model = algo.fit(X_train, y_train)\n",
    "    trained_models[name] = model"
   ]
  },
  {
   "cell_type": "code",
   "execution_count": 485,
   "metadata": {},
   "outputs": [
    {
     "name": "stdout",
     "output_type": "stream",
     "text": [
      "lr 85.47\n",
      "rf 99.92\n",
      "knc 77.53\n",
      "svc 96.18\n",
      "xgb 91.9\n",
      "cat 84.24\n",
      "extra 99.92\n"
     ]
    }
   ],
   "source": [
    "for name, model in trained_models.items():\n",
    "    print(name, round(100 * accuracy_score(y_train, model.predict(X_train)), 2))"
   ]
  },
  {
   "cell_type": "code",
   "execution_count": 486,
   "metadata": {},
   "outputs": [
    {
     "name": "stdout",
     "output_type": "stream",
     "text": [
      "lr 71.75\n",
      "rf 71.65\n",
      "knc 65.88\n",
      "svc 70.72\n",
      "xgb 75.88\n",
      "cat 73.81\n",
      "extra 73.09\n"
     ]
    }
   ],
   "source": [
    "for name, model in trained_models.items():\n",
    "    print(name, round(100 * accuracy_score(y_test, model.predict(X_test)), 2))"
   ]
  },
  {
   "cell_type": "code",
   "execution_count": 487,
   "metadata": {},
   "outputs": [
    {
     "name": "stdout",
     "output_type": "stream",
     "text": [
      "lr\n",
      "              precision    recall  f1-score   support\n",
      "\n",
      "           0       0.72      0.95      0.82       576\n",
      "           1       0.71      0.39      0.50       273\n",
      "           2       0.67      0.34      0.45       121\n",
      "\n",
      "    accuracy                           0.72       970\n",
      "   macro avg       0.70      0.56      0.59       970\n",
      "weighted avg       0.71      0.72      0.69       970\n",
      "\n"
     ]
    },
    {
     "data": {
      "image/png": "[encoded data removed]",
      "text/plain": [
       "<Figure size 432x288 with 2 Axes>"
      ]
     },
     "metadata": {
      "needs_background": "light"
     },
     "output_type": "display_data"
    },
    {
     "name": "stdout",
     "output_type": "stream",
     "text": [
      "rf\n",
      "              precision    recall  f1-score   support\n",
      "\n",
      "           0       0.72      0.95      0.82       576\n",
      "           1       0.68      0.39      0.50       273\n",
      "           2       0.74      0.36      0.48       121\n",
      "\n",
      "    accuracy                           0.72       970\n",
      "   macro avg       0.72      0.56      0.60       970\n",
      "weighted avg       0.71      0.72      0.69       970\n",
      "\n"
     ]
    },
    {
     "data": {
      "image/png": "[encoded data removed]",
      "text/plain": [
       "<Figure size 432x288 with 2 Axes>"
      ]
     },
     "metadata": {
      "needs_background": "light"
     },
     "output_type": "display_data"
    },
    {
     "name": "stdout",
     "output_type": "stream",
     "text": [
      "knc\n",
      "              precision    recall  f1-score   support\n",
      "\n",
      "           0       0.69      0.94      0.79       576\n",
      "           1       0.55      0.28      0.37       273\n",
      "           2       0.47      0.18      0.26       121\n",
      "\n",
      "    accuracy                           0.66       970\n",
      "   macro avg       0.57      0.47      0.48       970\n",
      "weighted avg       0.62      0.66      0.61       970\n",
      "\n"
     ]
    },
    {
     "data": {
      "image/png": "[encoded data removed]",
      "text/plain": [
       "<Figure size 432x288 with 2 Axes>"
      ]
     },
     "metadata": {
      "needs_background": "light"
     },
     "output_type": "display_data"
    },
    {
     "name": "stdout",
     "output_type": "stream",
     "text": [
      "svc\n",
      "              precision    recall  f1-score   support\n",
      "\n",
      "           0       0.70      0.97      0.82       576\n",
      "           1       0.74      0.32      0.45       273\n",
      "           2       0.69      0.31      0.43       121\n",
      "\n",
      "    accuracy                           0.71       970\n",
      "   macro avg       0.71      0.54      0.56       970\n",
      "weighted avg       0.71      0.71      0.66       970\n",
      "\n"
     ]
    },
    {
     "data": {
      "image/png": "[encoded data removed]",
      "text/plain": [
       "<Figure size 432x288 with 2 Axes>"
      ]
     },
     "metadata": {
      "needs_background": "light"
     },
     "output_type": "display_data"
    },
    {
     "name": "stdout",
     "output_type": "stream",
     "text": [
      "xgb\n",
      "              precision    recall  f1-score   support\n",
      "\n",
      "           0       0.78      0.92      0.85       576\n",
      "           1       0.72      0.54      0.62       273\n",
      "           2       0.68      0.47      0.56       121\n",
      "\n",
      "    accuracy                           0.76       970\n",
      "   macro avg       0.73      0.65      0.67       970\n",
      "weighted avg       0.75      0.76      0.75       970\n",
      "\n"
     ]
    },
    {
     "data": {
      "image/png": "[encoded data removed]",
      "text/plain": [
       "<Figure size 432x288 with 2 Axes>"
      ]
     },
     "metadata": {
      "needs_background": "light"
     },
     "output_type": "display_data"
    },
    {
     "name": "stdout",
     "output_type": "stream",
     "text": [
      "cat\n",
      "              precision    recall  f1-score   support\n",
      "\n",
      "           0       0.75      0.93      0.83       576\n",
      "           1       0.73      0.47      0.57       273\n",
      "           2       0.68      0.45      0.54       121\n",
      "\n",
      "    accuracy                           0.74       970\n",
      "   macro avg       0.72      0.61      0.65       970\n",
      "weighted avg       0.73      0.74      0.72       970\n",
      "\n"
     ]
    },
    {
     "data": {
      "image/png": "[encoded data removed]",
      "text/plain": [
       "<Figure size 432x288 with 2 Axes>"
      ]
     },
     "metadata": {
      "needs_background": "light"
     },
     "output_type": "display_data"
    },
    {
     "name": "stdout",
     "output_type": "stream",
     "text": [
      "extra\n",
      "              precision    recall  f1-score   support\n",
      "\n",
      "           0       0.74      0.94      0.83       576\n",
      "           1       0.69      0.45      0.55       273\n",
      "           2       0.73      0.36      0.48       121\n",
      "\n",
      "    accuracy                           0.73       970\n",
      "   macro avg       0.72      0.58      0.62       970\n",
      "weighted avg       0.73      0.73      0.71       970\n",
      "\n"
     ]
    },
    {
     "data": {
      "image/png": "[encoded data removed]",
      "text/plain": [
       "<Figure size 432x288 with 2 Axes>"
      ]
     },
     "metadata": {
      "needs_background": "light"
     },
     "output_type": "display_data"
    }
   ],
   "source": [
    "for name, model in trained_models.items():\n",
    "    print(name)\n",
    "    print(classification_report(y_test, model.predict(X_test)))\n",
    "    plot_confusion_matrix(model, X_test, y_test)\n",
    "    plt.show()\n",
    "    plt.show()"
   ]
  },
  {
   "cell_type": "markdown",
   "metadata": {},
   "source": [
    "There is almost no difference whether we use stemming or lemmatization and all models are overfitting again. Lets now move to the RNNs and see if they can solve the problem."
   ]
  },
  {
   "cell_type": "markdown",
   "metadata": {},
   "source": [
    "## RNN"
   ]
  },
  {
   "cell_type": "markdown",
   "metadata": {},
   "source": [
    "Here we are going to build a simple RNN model with an embedding layer. To do this, first we have to vectorize each review. It can be done with a *TextVectorization* layer which creates a vocabulary from a text corpus and encode every review as a list of indices for each word in the vocabulary. The length of each sequence is the same and we can specify it manually. Then every shorter sequence is just padded with zeros which can be masked during training. We have to also specify the size of the vocabulary. "
   ]
  },
  {
   "cell_type": "code",
   "execution_count": 64,
   "metadata": {},
   "outputs": [],
   "source": [
    "text_prep_pipeline_stemmer = Pipeline([\n",
    "    ('regex', apply_regex_tf),\n",
    "    ('stopwords', stopwords_remover_tf),\n",
    "    ('stemming', stemming_process_tf),\n",
    "])"
   ]
  },
  {
   "cell_type": "code",
   "execution_count": 65,
   "metadata": {},
   "outputs": [],
   "source": [
    "X_prep = text_prep_pipeline_stemmer.fit_transform(X)"
   ]
  },
  {
   "cell_type": "code",
   "execution_count": 67,
   "metadata": {},
   "outputs": [],
   "source": [
    "pickle.dump(text_prep_pipeline_stemmer, open('prep_pipe.pkl', 'wb'))"
   ]
  },
  {
   "cell_type": "code",
   "execution_count": 853,
   "metadata": {},
   "outputs": [],
   "source": [
    "max_vocabulary_size = 1000\n",
    "max_len = 100\n",
    "\n",
    "text_vectorization = keras.layers.experimental.preprocessing.TextVectorization(max_tokens=max_vocabulary_size,\n",
    "                                       output_mode='int', output_sequence_length=max_len)\n",
    "text_vectorization.adapt(X_prep)"
   ]
  },
  {
   "cell_type": "code",
   "execution_count": 854,
   "metadata": {},
   "outputs": [],
   "source": [
    "model = tf.keras.models.Sequential()\n",
    "model.add(tf.keras.Input(shape=(1,), dtype=tf.string))\n",
    "model.add(text_vectorization)"
   ]
  },
  {
   "cell_type": "code",
   "execution_count": 855,
   "metadata": {},
   "outputs": [],
   "source": [
    "X_prep = [[comment] for comment in X_prep]"
   ]
  },
  {
   "cell_type": "code",
   "execution_count": 856,
   "metadata": {},
   "outputs": [],
   "source": [
    "X_prep_vect = model.predict(X_prep)"
   ]
  },
  {
   "cell_type": "code",
   "execution_count": 857,
   "metadata": {},
   "outputs": [
    {
     "data": {
      "text/plain": [
       "(4846, 100)"
      ]
     },
     "execution_count": 857,
     "metadata": {},
     "output_type": "execute_result"
    }
   ],
   "source": [
    "X_prep_vect.shape"
   ]
  },
  {
   "cell_type": "code",
   "execution_count": 858,
   "metadata": {},
   "outputs": [
    {
     "data": {
      "text/plain": [
       "array([ 72,   1,   4,  86, 407,  22, 118,   1,   4, 446,   0,   0,   0,\n",
       "         0,   0,   0,   0,   0,   0,   0,   0,   0,   0,   0,   0,   0,\n",
       "         0,   0,   0,   0,   0,   0,   0,   0,   0,   0,   0,   0,   0,\n",
       "         0,   0,   0,   0,   0,   0,   0,   0,   0,   0,   0,   0,   0,\n",
       "         0,   0,   0,   0,   0,   0,   0,   0,   0,   0,   0,   0,   0,\n",
       "         0,   0,   0,   0,   0,   0,   0,   0,   0,   0,   0,   0,   0,\n",
       "         0,   0,   0,   0,   0,   0,   0,   0,   0,   0,   0,   0,   0,\n",
       "         0,   0,   0,   0,   0,   0,   0,   0,   0], dtype=int64)"
      ]
     },
     "execution_count": 858,
     "metadata": {},
     "output_type": "execute_result"
    }
   ],
   "source": [
    "X_prep_vect[0]"
   ]
  },
  {
   "cell_type": "code",
   "execution_count": 837,
   "metadata": {},
   "outputs": [
    {
     "name": "stdout",
     "output_type": "stream",
     "text": [
      "INFO:tensorflow:Assets written to: vectorizer\\assets\n"
     ]
    }
   ],
   "source": [
    "model.save('vectorizer', save_format='tf')"
   ]
  },
  {
   "cell_type": "code",
   "execution_count": 733,
   "metadata": {},
   "outputs": [],
   "source": [
    "X_train, X_test, y_train, y_test = train_test_split(X_prep_vect, y, stratify=y, test_size=0.2, random_state=200)"
   ]
  },
  {
   "cell_type": "markdown",
   "metadata": {},
   "source": [
    "To speed up training we can also create a tensorflow dataset from encoded features and labels."
   ]
  },
  {
   "cell_type": "code",
   "execution_count": 734,
   "metadata": {},
   "outputs": [],
   "source": [
    "train_dataset = tf.data.Dataset.from_tensor_slices((X_train, y_train)).shuffle(len(X_train)).batch(32).prefetch(1)\n",
    "valid_dataset = tf.data.Dataset.from_tensor_slices((X_test, y_test)).batch(32).prefetch(1)"
   ]
  },
  {
   "cell_type": "code",
   "execution_count": 768,
   "metadata": {},
   "outputs": [],
   "source": [
    "checkpoint_cb = keras.callbacks.ModelCheckpoint('sentiment_model.h5', save_best_only=True)\n",
    "early_stopping = keras.callbacks.EarlyStopping(patience=5, restore_best_weights=True)\n",
    "\n",
    "embed_size = 20\n",
    "model = keras.models.Sequential([  \n",
    "    keras.layers.Embedding(max_vocabulary_size, embed_size, mask_zero=True),\n",
    "    keras.layers.Bidirectional(keras.layers.LSTM(32)),\n",
    "    keras.layers.Dense(3, activation='softmax')\n",
    "])\n",
    "model.compile(loss='sparse_categorical_crossentropy', optimizer='adam', metrics=['accuracy'])"
   ]
  },
  {
   "cell_type": "code",
   "execution_count": 769,
   "metadata": {},
   "outputs": [
    {
     "name": "stdout",
     "output_type": "stream",
     "text": [
      "Model: \"sequential_89\"\n",
      "_________________________________________________________________\n",
      "Layer (type)                 Output Shape              Param #   \n",
      "=================================================================\n",
      "embedding_62 (Embedding)     (None, None, 20)          20000     \n",
      "_________________________________________________________________\n",
      "bidirectional_16 (Bidirectio (None, 64)                13568     \n",
      "_________________________________________________________________\n",
      "dense_62 (Dense)             (None, 3)                 195       \n",
      "=================================================================\n",
      "Total params: 33,763\n",
      "Trainable params: 33,763\n",
      "Non-trainable params: 0\n",
      "_________________________________________________________________\n"
     ]
    }
   ],
   "source": [
    "model.summary()"
   ]
  },
  {
   "cell_type": "code",
   "execution_count": 770,
   "metadata": {},
   "outputs": [
    {
     "name": "stdout",
     "output_type": "stream",
     "text": [
      "Epoch 1/20\n",
      "122/122 [==============================] - 12s 45ms/step - loss: 0.9759 - accuracy: 0.5900 - val_loss: 0.7829 - val_accuracy: 0.6515\n",
      "Epoch 2/20\n",
      "122/122 [==============================] - 4s 30ms/step - loss: 0.7420 - accuracy: 0.6717 - val_loss: 0.7193 - val_accuracy: 0.6856\n",
      "Epoch 3/20\n",
      "122/122 [==============================] - 3s 28ms/step - loss: 0.5975 - accuracy: 0.7414 - val_loss: 0.6771 - val_accuracy: 0.7093\n",
      "Epoch 4/20\n",
      "122/122 [==============================] - 3s 28ms/step - loss: 0.4985 - accuracy: 0.8118 - val_loss: 0.6572 - val_accuracy: 0.7361\n",
      "Epoch 5/20\n",
      "122/122 [==============================] - 3s 27ms/step - loss: 0.4272 - accuracy: 0.8411 - val_loss: 0.6835 - val_accuracy: 0.7443\n",
      "Epoch 6/20\n",
      "122/122 [==============================] - 3s 27ms/step - loss: 0.3634 - accuracy: 0.8628 - val_loss: 0.6823 - val_accuracy: 0.7485\n",
      "Epoch 7/20\n",
      "122/122 [==============================] - 3s 28ms/step - loss: 0.3324 - accuracy: 0.8823 - val_loss: 0.7222 - val_accuracy: 0.7423\n",
      "Epoch 8/20\n",
      "122/122 [==============================] - 3s 28ms/step - loss: 0.3255 - accuracy: 0.8791 - val_loss: 0.7973 - val_accuracy: 0.7309\n",
      "Epoch 9/20\n",
      "122/122 [==============================] - 3s 28ms/step - loss: 0.2762 - accuracy: 0.8943 - val_loss: 0.8839 - val_accuracy: 0.7278\n"
     ]
    }
   ],
   "source": [
    "history = model.fit(train_dataset, epochs=20, validation_data=valid_dataset, callbacks=[checkpoint_cb, early_stopping])"
   ]
  },
  {
   "cell_type": "code",
   "execution_count": 771,
   "metadata": {},
   "outputs": [
    {
     "data": {
      "text/plain": [
       "<matplotlib.axes._subplots.AxesSubplot at 0x21d6180ba60>"
      ]
     },
     "execution_count": 771,
     "metadata": {},
     "output_type": "execute_result"
    },
    {
     "data": {
      "image/png": "[encoded data removed]",
      "text/plain": [
       "<Figure size 432x288 with 1 Axes>"
      ]
     },
     "metadata": {
      "needs_background": "light"
     },
     "output_type": "display_data"
    }
   ],
   "source": [
    "pd.DataFrame(history.history).plot()"
   ]
  },
  {
   "cell_type": "code",
   "execution_count": 772,
   "metadata": {},
   "outputs": [
    {
     "name": "stdout",
     "output_type": "stream",
     "text": [
      "              precision    recall  f1-score   support\n",
      "\n",
      "           0       0.80      0.85      0.83       576\n",
      "           1       0.63      0.59      0.61       273\n",
      "           2       0.60      0.54      0.57       121\n",
      "\n",
      "    accuracy                           0.74       970\n",
      "   macro avg       0.68      0.66      0.67       970\n",
      "weighted avg       0.73      0.74      0.73       970\n",
      "\n"
     ]
    },
    {
     "data": {
      "text/plain": [
       "Text(24.0, 0.5, 'True')"
      ]
     },
     "execution_count": 772,
     "metadata": {},
     "output_type": "execute_result"
    },
    {
     "data": {
      "image/png": "[encoded data removed]",
      "text/plain": [
       "<Figure size 360x360 with 2 Axes>"
      ]
     },
     "metadata": {
      "needs_background": "light"
     },
     "output_type": "display_data"
    }
   ],
   "source": [
    "model = keras.models.load_model('sentiment_model.h5')\n",
    "\n",
    "print(classification_report(y_test, np.argmax(model.predict(X_test), axis=-1)))\n",
    "fig, ax = plt.subplots(figsize=(5, 5))\n",
    "sns.heatmap(confusion_matrix(y_test, np.argmax(model.predict(X_test), axis=-1)), annot=True, fmt='g', ax=ax)\n",
    "plt.xlabel('Predicted')\n",
    "plt.ylabel('True')"
   ]
  },
  {
   "cell_type": "code",
   "execution_count": 773,
   "metadata": {},
   "outputs": [
    {
     "name": "stdout",
     "output_type": "stream",
     "text": [
      "              precision    recall  f1-score   support\n",
      "\n",
      "           0       0.90      0.91      0.90      2303\n",
      "           1       0.78      0.79      0.79      1090\n",
      "           2       0.80      0.73      0.76       483\n",
      "\n",
      "    accuracy                           0.85      3876\n",
      "   macro avg       0.83      0.81      0.82      3876\n",
      "weighted avg       0.85      0.85      0.85      3876\n",
      "\n"
     ]
    },
    {
     "data": {
      "text/plain": [
       "Text(24.0, 0.5, 'True')"
      ]
     },
     "execution_count": 773,
     "metadata": {},
     "output_type": "execute_result"
    },
    {
     "data": {
      "image/png": "[encoded data removed]",
      "text/plain": [
       "<Figure size 360x360 with 2 Axes>"
      ]
     },
     "metadata": {
      "needs_background": "light"
     },
     "output_type": "display_data"
    }
   ],
   "source": [
    "print(classification_report(y_train, np.argmax(model.predict(X_train), axis=-1)))\n",
    "fig, ax = plt.subplots(figsize=(5, 5))\n",
    "sns.heatmap(confusion_matrix(y_train, np.argmax(model.predict(X_train), axis=-1)), annot=True, fmt='g', ax=ax)\n",
    "plt.xlabel('Predicted')\n",
    "plt.ylabel('True')"
   ]
  },
  {
   "cell_type": "markdown",
   "metadata": {},
   "source": [
    "Here we can see the same problem as before. Our model is highly overfitting. For couple of steps the validation loss is decreasing but then it starts to increase. We use a early stopping and a model checkpoint callbacks to save the best model. We can either have a model which will perform well on the majority class and poor on the other or it will perform similar on all of them but still not really good. The model which was just trained is the overall best model in terms of validation loss where the minority classes have more correct predictions then we got with the previous models. The overfitting here is not that severe -> roughly *81%* accuracy on the train set and *74%* on the validation set. Now we can also try to train the other model for longer and compare predictions."
   ]
  },
  {
   "cell_type": "code",
   "execution_count": 774,
   "metadata": {},
   "outputs": [],
   "source": [
    "embed_size = 20\n",
    "model = keras.models.Sequential([  \n",
    "    keras.layers.Embedding(max_vocabulary_size, embed_size, mask_zero=True),\n",
    "    keras.layers.LSTM(32),\n",
    "    keras.layers.Dense(3, activation='softmax')\n",
    "])\n",
    "model.compile(loss='sparse_categorical_crossentropy', optimizer='adam', metrics=['accuracy'])"
   ]
  },
  {
   "cell_type": "code",
   "execution_count": 775,
   "metadata": {},
   "outputs": [
    {
     "name": "stdout",
     "output_type": "stream",
     "text": [
      "Model: \"sequential_90\"\n",
      "_________________________________________________________________\n",
      "Layer (type)                 Output Shape              Param #   \n",
      "=================================================================\n",
      "embedding_63 (Embedding)     (None, None, 20)          20000     \n",
      "_________________________________________________________________\n",
      "lstm_82 (LSTM)               (None, 32)                6784      \n",
      "_________________________________________________________________\n",
      "dense_63 (Dense)             (None, 3)                 99        \n",
      "=================================================================\n",
      "Total params: 26,883\n",
      "Trainable params: 26,883\n",
      "Non-trainable params: 0\n",
      "_________________________________________________________________\n"
     ]
    }
   ],
   "source": [
    "model.summary()"
   ]
  },
  {
   "cell_type": "code",
   "execution_count": 776,
   "metadata": {},
   "outputs": [
    {
     "name": "stdout",
     "output_type": "stream",
     "text": [
      "Epoch 1/50\n",
      "122/122 [==============================] - 8s 39ms/step - loss: 0.9898 - accuracy: 0.5900 - val_loss: 0.8044 - val_accuracy: 0.6402\n",
      "Epoch 2/50\n",
      "122/122 [==============================] - 3s 28ms/step - loss: 0.7688 - accuracy: 0.6595 - val_loss: 0.7550 - val_accuracy: 0.6680\n",
      "Epoch 3/50\n",
      "122/122 [==============================] - 3s 29ms/step - loss: 0.6364 - accuracy: 0.7276 - val_loss: 0.7120 - val_accuracy: 0.6948\n",
      "Epoch 4/50\n",
      "122/122 [==============================] - 4s 29ms/step - loss: 0.5725 - accuracy: 0.7545 - val_loss: 0.6967 - val_accuracy: 0.7072\n",
      "Epoch 5/50\n",
      "122/122 [==============================] - 4s 29ms/step - loss: 0.4720 - accuracy: 0.8183 - val_loss: 0.7067 - val_accuracy: 0.7289\n",
      "Epoch 6/50\n",
      "122/122 [==============================] - 4s 29ms/step - loss: 0.4125 - accuracy: 0.8541 - val_loss: 0.6859 - val_accuracy: 0.7351\n",
      "Epoch 7/50\n",
      "122/122 [==============================] - 4s 29ms/step - loss: 0.3674 - accuracy: 0.8667 - val_loss: 0.6922 - val_accuracy: 0.7247\n",
      "Epoch 8/50\n",
      "122/122 [==============================] - 3s 28ms/step - loss: 0.3533 - accuracy: 0.8692 - val_loss: 0.7249 - val_accuracy: 0.7186\n",
      "Epoch 9/50\n",
      "122/122 [==============================] - 3s 28ms/step - loss: 0.3251 - accuracy: 0.8877 - val_loss: 0.8003 - val_accuracy: 0.7237\n",
      "Epoch 10/50\n",
      "122/122 [==============================] - 3s 28ms/step - loss: 0.3157 - accuracy: 0.8849 - val_loss: 0.8238 - val_accuracy: 0.7175\n",
      "Epoch 11/50\n",
      "122/122 [==============================] - 3s 29ms/step - loss: 0.2632 - accuracy: 0.9177 - val_loss: 0.8410 - val_accuracy: 0.7237\n",
      "Epoch 12/50\n",
      "122/122 [==============================] - 3s 29ms/step - loss: 0.2402 - accuracy: 0.9187 - val_loss: 0.9205 - val_accuracy: 0.7062\n",
      "Epoch 13/50\n",
      "122/122 [==============================] - 3s 28ms/step - loss: 0.2512 - accuracy: 0.9154 - val_loss: 0.9471 - val_accuracy: 0.7186\n",
      "Epoch 14/50\n",
      "122/122 [==============================] - 4s 30ms/step - loss: 0.2249 - accuracy: 0.9223 - val_loss: 1.0331 - val_accuracy: 0.7093\n",
      "Epoch 15/50\n",
      "122/122 [==============================] - 4s 33ms/step - loss: 0.2031 - accuracy: 0.9354 - val_loss: 1.0163 - val_accuracy: 0.7041\n",
      "Epoch 16/50\n",
      "122/122 [==============================] - 4s 36ms/step - loss: 0.2059 - accuracy: 0.9293 - val_loss: 1.0210 - val_accuracy: 0.7124\n",
      "Epoch 17/50\n",
      "122/122 [==============================] - 5s 41ms/step - loss: 0.1660 - accuracy: 0.9455 - val_loss: 1.0885 - val_accuracy: 0.7041\n",
      "Epoch 18/50\n",
      "122/122 [==============================] - 4s 36ms/step - loss: 0.1522 - accuracy: 0.9552 - val_loss: 1.1260 - val_accuracy: 0.7082\n",
      "Epoch 19/50\n",
      "122/122 [==============================] - 5s 42ms/step - loss: 0.1588 - accuracy: 0.9510 - val_loss: 1.2017 - val_accuracy: 0.6959\n",
      "Epoch 20/50\n",
      "122/122 [==============================] - 6s 46ms/step - loss: 0.1357 - accuracy: 0.9633 - val_loss: 1.2886 - val_accuracy: 0.7021\n",
      "Epoch 21/50\n",
      "122/122 [==============================] - 5s 41ms/step - loss: 0.1630 - accuracy: 0.9532 - val_loss: 1.3194 - val_accuracy: 0.6948\n",
      "Epoch 22/50\n",
      "122/122 [==============================] - 4s 35ms/step - loss: 0.1196 - accuracy: 0.9626 - val_loss: 1.3429 - val_accuracy: 0.6866\n",
      "Epoch 23/50\n",
      "122/122 [==============================] - 4s 35ms/step - loss: 0.1231 - accuracy: 0.9639 - val_loss: 1.3681 - val_accuracy: 0.6948\n",
      "Epoch 24/50\n",
      "122/122 [==============================] - 4s 31ms/step - loss: 0.1195 - accuracy: 0.9657 - val_loss: 1.4938 - val_accuracy: 0.6814\n",
      "Epoch 25/50\n",
      "122/122 [==============================] - 4s 29ms/step - loss: 0.1133 - accuracy: 0.9705 - val_loss: 1.5173 - val_accuracy: 0.6866\n",
      "Epoch 26/50\n",
      "122/122 [==============================] - 4s 31ms/step - loss: 0.0918 - accuracy: 0.9719 - val_loss: 1.4909 - val_accuracy: 0.6753\n",
      "Epoch 27/50\n",
      "122/122 [==============================] - 5s 43ms/step - loss: 0.1013 - accuracy: 0.9670 - val_loss: 1.6235 - val_accuracy: 0.6887\n",
      "Epoch 28/50\n",
      "122/122 [==============================] - 4s 34ms/step - loss: 0.0868 - accuracy: 0.9761 - val_loss: 1.5920 - val_accuracy: 0.6876\n",
      "Epoch 29/50\n",
      "122/122 [==============================] - 5s 38ms/step - loss: 0.0771 - accuracy: 0.9848 - val_loss: 1.6123 - val_accuracy: 0.6732\n",
      "Epoch 30/50\n",
      "122/122 [==============================] - 4s 33ms/step - loss: 0.1239 - accuracy: 0.9584 - val_loss: 1.5887 - val_accuracy: 0.6804\n",
      "Epoch 31/50\n",
      "122/122 [==============================] - 4s 32ms/step - loss: 0.1016 - accuracy: 0.9746 - val_loss: 1.6475 - val_accuracy: 0.6814\n",
      "Epoch 32/50\n",
      "122/122 [==============================] - 4s 33ms/step - loss: 0.0710 - accuracy: 0.9825 - val_loss: 1.8174 - val_accuracy: 0.6814\n",
      "Epoch 33/50\n",
      "122/122 [==============================] - 4s 35ms/step - loss: 0.0630 - accuracy: 0.9846 - val_loss: 1.8614 - val_accuracy: 0.6897\n",
      "Epoch 34/50\n",
      "122/122 [==============================] - 4s 35ms/step - loss: 0.0552 - accuracy: 0.9876 - val_loss: 1.8386 - val_accuracy: 0.6866\n",
      "Epoch 35/50\n",
      "122/122 [==============================] - 4s 32ms/step - loss: 0.0562 - accuracy: 0.9867 - val_loss: 2.0616 - val_accuracy: 0.6784\n",
      "Epoch 36/50\n",
      "122/122 [==============================] - 4s 31ms/step - loss: 0.0687 - accuracy: 0.9839 - val_loss: 1.9679 - val_accuracy: 0.6804\n",
      "Epoch 37/50\n",
      "122/122 [==============================] - 4s 31ms/step - loss: 0.0516 - accuracy: 0.9888 - val_loss: 2.0739 - val_accuracy: 0.6763\n",
      "Epoch 38/50\n",
      "122/122 [==============================] - 4s 31ms/step - loss: 0.0607 - accuracy: 0.9846 - val_loss: 1.9956 - val_accuracy: 0.6794\n",
      "Epoch 39/50\n",
      "122/122 [==============================] - 4s 31ms/step - loss: 0.1144 - accuracy: 0.9702 - val_loss: 1.8048 - val_accuracy: 0.6918\n",
      "Epoch 40/50\n",
      "122/122 [==============================] - 4s 32ms/step - loss: 0.0633 - accuracy: 0.9839 - val_loss: 2.0555 - val_accuracy: 0.6670\n",
      "Epoch 41/50\n",
      "122/122 [==============================] - 4s 32ms/step - loss: 0.0484 - accuracy: 0.9889 - val_loss: 1.9335 - val_accuracy: 0.6784\n",
      "Epoch 42/50\n",
      "122/122 [==============================] - 6s 53ms/step - loss: 0.0508 - accuracy: 0.9887 - val_loss: 2.0753 - val_accuracy: 0.6680\n",
      "Epoch 43/50\n",
      "122/122 [==============================] - 6s 49ms/step - loss: 0.0390 - accuracy: 0.9943 - val_loss: 2.1253 - val_accuracy: 0.6856\n",
      "Epoch 44/50\n",
      "122/122 [==============================] - 6s 50ms/step - loss: 0.0508 - accuracy: 0.9874 - val_loss: 2.1981 - val_accuracy: 0.6680\n",
      "Epoch 45/50\n",
      "122/122 [==============================] - 4s 31ms/step - loss: 0.0320 - accuracy: 0.9937 - val_loss: 2.2065 - val_accuracy: 0.6784\n",
      "Epoch 46/50\n",
      "122/122 [==============================] - 4s 30ms/step - loss: 0.0382 - accuracy: 0.9901 - val_loss: 2.1931 - val_accuracy: 0.6722\n",
      "Epoch 47/50\n",
      "122/122 [==============================] - 4s 31ms/step - loss: 0.0293 - accuracy: 0.9934 - val_loss: 2.2444 - val_accuracy: 0.6835\n",
      "Epoch 48/50\n",
      "122/122 [==============================] - 4s 31ms/step - loss: 0.0278 - accuracy: 0.9958 - val_loss: 2.2853 - val_accuracy: 0.6845\n",
      "Epoch 49/50\n",
      "122/122 [==============================] - 5s 38ms/step - loss: 0.0213 - accuracy: 0.9960 - val_loss: 2.3590 - val_accuracy: 0.6784\n",
      "Epoch 50/50\n",
      "122/122 [==============================] - 4s 30ms/step - loss: 0.0233 - accuracy: 0.9952 - val_loss: 2.4207 - val_accuracy: 0.6784\n"
     ]
    }
   ],
   "source": [
    "history = model.fit(train_dataset, epochs=50, validation_data=valid_dataset)"
   ]
  },
  {
   "cell_type": "code",
   "execution_count": 777,
   "metadata": {},
   "outputs": [
    {
     "data": {
      "text/plain": [
       "<matplotlib.axes._subplots.AxesSubplot at 0x21d46e23130>"
      ]
     },
     "execution_count": 777,
     "metadata": {},
     "output_type": "execute_result"
    },
    {
     "data": {
      "image/png": "[encoded data removed]",
      "text/plain": [
       "<Figure size 432x288 with 1 Axes>"
      ]
     },
     "metadata": {
      "needs_background": "light"
     },
     "output_type": "display_data"
    }
   ],
   "source": [
    "pd.DataFrame(history.history).plot()"
   ]
  },
  {
   "cell_type": "code",
   "execution_count": 778,
   "metadata": {},
   "outputs": [
    {
     "name": "stdout",
     "output_type": "stream",
     "text": [
      "              precision    recall  f1-score   support\n",
      "\n",
      "           0       0.77      0.78      0.78       576\n",
      "           1       0.56      0.55      0.55       273\n",
      "           2       0.49      0.47      0.48       121\n",
      "\n",
      "    accuracy                           0.68       970\n",
      "   macro avg       0.61      0.60      0.60       970\n",
      "weighted avg       0.68      0.68      0.68       970\n",
      "\n"
     ]
    },
    {
     "data": {
      "text/plain": [
       "Text(24.0, 0.5, 'True')"
      ]
     },
     "execution_count": 778,
     "metadata": {},
     "output_type": "execute_result"
    },
    {
     "data": {
      "image/png": "[encoded data removed]",
      "text/plain": [
       "<Figure size 360x360 with 2 Axes>"
      ]
     },
     "metadata": {
      "needs_background": "light"
     },
     "output_type": "display_data"
    }
   ],
   "source": [
    "print(classification_report(y_test, np.argmax(model.predict(X_test), axis=-1)))\n",
    "fig, ax = plt.subplots(figsize=(5, 5))\n",
    "sns.heatmap(confusion_matrix(y_test, np.argmax(model.predict(X_test), axis=-1)), annot=True, fmt='g', ax=ax)\n",
    "plt.xlabel('Predicted')\n",
    "plt.ylabel('True')"
   ]
  },
  {
   "cell_type": "code",
   "execution_count": 779,
   "metadata": {},
   "outputs": [
    {
     "name": "stdout",
     "output_type": "stream",
     "text": [
      "              precision    recall  f1-score   support\n",
      "\n",
      "           0       1.00      1.00      1.00      2303\n",
      "           1       1.00      1.00      1.00      1090\n",
      "           2       1.00      0.99      0.99       483\n",
      "\n",
      "    accuracy                           1.00      3876\n",
      "   macro avg       1.00      0.99      1.00      3876\n",
      "weighted avg       1.00      1.00      1.00      3876\n",
      "\n"
     ]
    },
    {
     "data": {
      "text/plain": [
       "Text(24.0, 0.5, 'True')"
      ]
     },
     "execution_count": 779,
     "metadata": {},
     "output_type": "execute_result"
    },
    {
     "data": {
      "image/png": "[encoded data removed]",
      "text/plain": [
       "<Figure size 360x360 with 2 Axes>"
      ]
     },
     "metadata": {
      "needs_background": "light"
     },
     "output_type": "display_data"
    }
   ],
   "source": [
    "print(classification_report(y_train, np.argmax(model.predict(X_train), axis=-1)))\n",
    "fig, ax = plt.subplots(figsize=(5, 5))\n",
    "sns.heatmap(confusion_matrix(y_train, np.argmax(model.predict(X_train), axis=-1)), annot=True, fmt='g', ax=ax)\n",
    "plt.xlabel('Predicted')\n",
    "plt.ylabel('True')"
   ]
  },
  {
   "cell_type": "markdown",
   "metadata": {},
   "source": [
    "We could see that training for longer results in complete overfitting and we get exactly the same problem. Therefore we choose the previous RNN model as the best one and we gonna use it to build a simple app which will predict the class based on the review or comment written by the user. Before we do this lets also check here how we can make predictions on a single sentence."
   ]
  },
  {
   "cell_type": "code",
   "execution_count": 901,
   "metadata": {},
   "outputs": [],
   "source": [
    "sample = 'We could recently see an increase in the revenue of the X company from 20 millions USD to 50 millions USD.' \n",
    "sample_1 = 'Recently there was no changes in stock prices and they remained stable for a long period of time on the level of 50 million USD.'\n",
    "sample_2  = 'Stock prices are decreasing by 20 dollars every day and it is not a good sign for them!'"
   ]
  },
  {
   "cell_type": "code",
   "execution_count": 888,
   "metadata": {},
   "outputs": [],
   "source": [
    "model = keras.models.load_model('sentiment_model.h5')"
   ]
  },
  {
   "cell_type": "code",
   "execution_count": 889,
   "metadata": {},
   "outputs": [
    {
     "name": "stdout",
     "output_type": "stream",
     "text": [
      "WARNING:tensorflow:6 out of the last 6 calls to <function recreate_function.<locals>.restored_function_body at 0x0000021D666B24C0> triggered tf.function retracing. Tracing is expensive and the excessive number of tracings could be due to (1) creating @tf.function repeatedly in a loop, (2) passing tensors with different shapes, (3) passing Python objects instead of tensors. For (1), please define your @tf.function outside of the loop. For (2), @tf.function has experimental_relax_shapes=True option that relaxes argument shapes that can avoid unnecessary retracing. For (3), please refer to https://www.tensorflow.org/guide/function#controlling_retracing and https://www.tensorflow.org/api_docs/python/tf/function for  more details.\n",
      "WARNING:tensorflow:No training configuration found in save file, so the model was *not* compiled. Compile it manually.\n"
     ]
    }
   ],
   "source": [
    "vectorizer_model = keras.models.load_model('vectorizer')\n",
    "vectorizer = vectorizer_model.layers[0]"
   ]
  },
  {
   "cell_type": "code",
   "execution_count": 890,
   "metadata": {},
   "outputs": [],
   "source": [
    "prep_pipe = pickle.load(open('prep_pipe.pkl', 'rb'))"
   ]
  },
  {
   "cell_type": "code",
   "execution_count": 911,
   "metadata": {},
   "outputs": [],
   "source": [
    "classes_map_inverse = {0: 'neutral', 1: 'positive', 2: 'negative'}"
   ]
  },
  {
   "cell_type": "code",
   "execution_count": 912,
   "metadata": {},
   "outputs": [
    {
     "name": "stdout",
     "output_type": "stream",
     "text": [
      "positive\n",
      "neutral\n",
      "negative\n"
     ]
    }
   ],
   "source": [
    "for i in [sample, sample_1, sample_2]:\n",
    "    sample_prep = prep_pipe.transform([i])\n",
    "    sample_prep = vectorizer(sample_prep)\n",
    "    yhat = np.argmax(model.predict(sample_prep), axis=-1)[0]\n",
    "    print(classes_map_inverse[yhat])"
   ]
  }
 ],
 "metadata": {
  "kernelspec": {
   "display_name": "Python 3",
   "language": "python",
   "name": "python3"
  },
  "language_info": {
   "codemirror_mode": {
    "name": "ipython",
    "version": 3
   },
   "file_extension": ".py",
   "mimetype": "text/x-python",
   "name": "python",
   "nbconvert_exporter": "python",
   "pygments_lexer": "ipython3",
   "version": "3.8.5"
  }
 },
 "nbformat": 4,
 "nbformat_minor": 4
}
