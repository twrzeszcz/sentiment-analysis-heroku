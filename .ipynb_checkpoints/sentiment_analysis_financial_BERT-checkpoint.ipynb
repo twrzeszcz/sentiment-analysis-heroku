{
 "cells": [
  {
   "cell_type": "markdown",
   "metadata": {},
   "source": [
    "## Sentiment analysis with BERT model"
   ]
  },
  {
   "cell_type": "markdown",
   "metadata": {},
   "source": [
    "In the previous notebook we have used the standard ML models and a simple RNN model to predict sentiment. This notebook shows how to use a pretrained model from the *transformers* package to fine-tune it on the task we have to solve. Due to the size of the model it cannot be used on the *Heroku* for predictions and the app is deployed with the RNN model build in the other notebook. We gonna use both *BERT* and *DistilBERT* models and compare their pefromance. Both models are uploaded on the *Github* repo for this project."
   ]
  },
  {
   "cell_type": "code",
   "execution_count": 28,
   "metadata": {
    "executionInfo": {
     "elapsed": 265,
     "status": "ok",
     "timestamp": 1622143898379,
     "user": {
      "displayName": "Tymoteusz Wrzeszcz",
      "photoUrl": "",
      "userId": "09011824138768270989"
     },
     "user_tz": -120
    },
    "id": "WMvRKhfLhl4V"
   },
   "outputs": [],
   "source": [
    "import tensorflow as tf\n",
    "from tensorflow import keras\n",
    "import pandas as pd\n",
    "from transformers import DistilBertTokenizerFast, BertTokenizerFast, TFDistilBertForSequenceClassification, TFBertForSequenceClassification, TFTrainer, TFTrainingArguments\n",
    "from sklearn.model_selection import train_test_split\n",
    "import numpy as np\n",
    "from sklearn.metrics import classification_report, accuracy_score, confusion_matrix\n",
    "import matplotlib.pyplot as plt\n",
    "import seaborn as sns\n",
    "import pickle"
   ]
  },
  {
   "cell_type": "markdown",
   "metadata": {},
   "source": [
    "I have tried training the model with no preprocessing and also with applying the pipeline we have used before. It turned out that with completely no preprocessing model could achieve better performance in terms of validation accuracy and loss."
   ]
  },
  {
   "cell_type": "code",
   "execution_count": 29,
   "metadata": {
    "executionInfo": {
     "elapsed": 176,
     "status": "ok",
     "timestamp": 1622144135315,
     "user": {
      "displayName": "Tymoteusz Wrzeszcz",
      "photoUrl": "",
      "userId": "09011824138768270989"
     },
     "user_tz": -120
    },
    "id": "hovKzRdPhl4X"
   },
   "outputs": [],
   "source": [
    "df = pd.read_csv('all-data.csv', engine='python')"
   ]
  },
  {
   "cell_type": "code",
   "execution_count": 30,
   "metadata": {
    "executionInfo": {
     "elapsed": 2,
     "status": "ok",
     "timestamp": 1622144135867,
     "user": {
      "displayName": "Tymoteusz Wrzeszcz",
      "photoUrl": "",
      "userId": "09011824138768270989"
     },
     "user_tz": -120
    },
    "id": "A8zukRoehl4X"
   },
   "outputs": [],
   "source": [
    "classes_map = {'neutral': 0, 'positive': 1, 'negative': 2}\n",
    "df['sentiment'] = df['sentiment'].map(classes_map)\n",
    "X = df['review'].copy()\n",
    "y = df['sentiment'].copy()"
   ]
  },
  {
   "cell_type": "code",
   "execution_count": 31,
   "metadata": {
    "executionInfo": {
     "elapsed": 180,
     "status": "ok",
     "timestamp": 1622144139163,
     "user": {
      "displayName": "Tymoteusz Wrzeszcz",
      "photoUrl": "",
      "userId": "09011824138768270989"
     },
     "user_tz": -120
    },
    "id": "WF6UgEAYhl4Y"
   },
   "outputs": [],
   "source": [
    "X_train, X_test, y_train, y_test = train_test_split(X.tolist(), y, test_size=0.2, stratify=y, random_state=200)"
   ]
  },
  {
   "cell_type": "markdown",
   "metadata": {
    "id": "j4vEkGbaI7nL"
   },
   "source": [
    "## DistilBERT"
   ]
  },
  {
   "cell_type": "markdown",
   "metadata": {},
   "source": [
    "Firstly we are going to use a smaller version of the *BERT* model which is much faster and preserves more than 95% performance of the bigger version. Before we can start training, our data has to be tokenized as before. This is done here using a build in tokenizer for a specified model."
   ]
  },
  {
   "cell_type": "code",
   "execution_count": 57,
   "metadata": {
    "executionInfo": {
     "elapsed": 444,
     "status": "ok",
     "timestamp": 1622144142202,
     "user": {
      "displayName": "Tymoteusz Wrzeszcz",
      "photoUrl": "",
      "userId": "09011824138768270989"
     },
     "user_tz": -120
    },
    "id": "eIVyaVoRhl4Y"
   },
   "outputs": [],
   "source": [
    "tokenizer = DistilBertTokenizerFast.from_pretrained('distilbert-base-uncased')"
   ]
  },
  {
   "cell_type": "code",
   "execution_count": 22,
   "metadata": {
    "executionInfo": {
     "elapsed": 239,
     "status": "ok",
     "timestamp": 1622144143270,
     "user": {
      "displayName": "Tymoteusz Wrzeszcz",
      "photoUrl": "",
      "userId": "09011824138768270989"
     },
     "user_tz": -120
    },
    "id": "jSgeSDD5hl4Y"
   },
   "outputs": [],
   "source": [
    "train_encodings = tokenizer(X_train, truncation=True, padding=True)\n",
    "val_encodings = tokenizer(X_test, truncation=True, padding=True)"
   ]
  },
  {
   "cell_type": "code",
   "execution_count": 23,
   "metadata": {
    "executionInfo": {
     "elapsed": 3112,
     "status": "ok",
     "timestamp": 1622142841131,
     "user": {
      "displayName": "Tymoteusz Wrzeszcz",
      "photoUrl": "",
      "userId": "09011824138768270989"
     },
     "user_tz": -120
    },
    "id": "iO2Cy4M9hl4Y"
   },
   "outputs": [],
   "source": [
    "train_dataset = tf.data.Dataset.from_tensor_slices((dict(train_encodings), y_train))\n",
    "valid_dataset = tf.data.Dataset.from_tensor_slices((dict(val_encodings), y_test))"
   ]
  },
  {
   "cell_type": "markdown",
   "metadata": {},
   "source": [
    "Training can be done using either a standard keras flow or with a build in *TFTrainer*. Then the model can be also easily evaluated. Below is the code for training with a TFTrainer. I have used the keras approach."
   ]
  },
  {
   "cell_type": "code",
   "execution_count": 24,
   "metadata": {
    "colab": {
     "base_uri": "https://localhost:8080/"
    },
    "executionInfo": {
     "elapsed": 653,
     "status": "ok",
     "timestamp": 1622142936081,
     "user": {
      "displayName": "Tymoteusz Wrzeszcz",
      "photoUrl": "",
      "userId": "09011824138768270989"
     },
     "user_tz": -120
    },
    "id": "dXMsqrI2hl4Z",
    "outputId": "030f74a9-c6ec-4489-b777-6f6f02d97ae6"
   },
   "outputs": [],
   "source": [
    "training_args = TFTrainingArguments(\n",
    "    output_dir='./distilbert_financial_trainer',\n",
    "    num_train_epochs=10,\n",
    "    per_device_train_batch_size=32,\n",
    "    per_device_eval_batch_size=32,\n",
    "    warmup_steps=500,\n",
    "    weight_decay=0.1,\n",
    ")\n",
    "\n",
    "with training_args.strategy.scope():\n",
    "    model = TFDistilBertForSequenceClassification.from_pretrained('distilbert-base-uncased', num_labels=3)\n",
    "\n",
    "trainer = TFTrainer(\n",
    "    model=model,\n",
    "    args=training_args,\n",
    "    train_dataset=train_dataset,\n",
    "    eval_dataset=valid_dataset\n",
    ")"
   ]
  },
  {
   "cell_type": "code",
   "execution_count": 25,
   "metadata": {
    "colab": {
     "base_uri": "https://localhost:8080/"
    },
    "executionInfo": {
     "elapsed": 614763,
     "status": "ok",
     "timestamp": 1622143553423,
     "user": {
      "displayName": "Tymoteusz Wrzeszcz",
      "photoUrl": "",
      "userId": "09011824138768270989"
     },
     "user_tz": -120
    },
    "id": "ksgH9iLchl4Z",
    "outputId": "fd987791-bd8b-4fe4-8500-c09538f0af59"
   },
   "outputs": [],
   "source": [
    "trainer.train()"
   ]
  },
  {
   "cell_type": "code",
   "execution_count": 26,
   "metadata": {
    "colab": {
     "base_uri": "https://localhost:8080/"
    },
    "executionInfo": {
     "elapsed": 16257,
     "status": "ok",
     "timestamp": 1622143569675,
     "user": {
      "displayName": "Tymoteusz Wrzeszcz",
      "photoUrl": "",
      "userId": "09011824138768270989"
     },
     "user_tz": -120
    },
    "id": "rD-i2QyVlFUT",
    "outputId": "0c44429f-c034-4862-f9d4-2c228e0bbe36"
   },
   "outputs": [],
   "source": [
    "trainer.evaluate()"
   ]
  },
  {
   "cell_type": "markdown",
   "metadata": {},
   "source": [
    "To train the model with keras we just have to download it and specify number of classes/labels we have. Then we also define an early stopping callback as before. In the previous notebook we could see that the model was strongly overfitting the training set and was not doing so good on the validation data. Here this effect is less severe but there is still some overtiffting. I have trained 2 models, one which stops training when the validation loss is not decreasing anymore and the other one which runs for 30 epochs so that the training accuracy is 100%. All training was done on the Google Colab so here I will just load the models and evaluate them."
   ]
  },
  {
   "cell_type": "code",
   "execution_count": 29,
   "metadata": {
    "executionInfo": {
     "elapsed": 3522,
     "status": "ok",
     "timestamp": 1622144153406,
     "user": {
      "displayName": "Tymoteusz Wrzeszcz",
      "photoUrl": "",
      "userId": "09011824138768270989"
     },
     "user_tz": -120
    },
    "id": "B3_9WA_Ehl4Z"
   },
   "outputs": [],
   "source": [
    "train_dataset = tf.data.Dataset.from_tensor_slices((dict(train_encodings), y_train)).shuffle(len(X_train)).batch(32).prefetch(1)\n",
    "valid_dataset = tf.data.Dataset.from_tensor_slices((dict(val_encodings), y_test)).batch(32).prefetch(1)"
   ]
  },
  {
   "cell_type": "code",
   "execution_count": 28,
   "metadata": {
    "colab": {
     "base_uri": "https://localhost:8080/"
    },
    "executionInfo": {
     "elapsed": 290,
     "status": "ok",
     "timestamp": 1622144153694,
     "user": {
      "displayName": "Tymoteusz Wrzeszcz",
      "photoUrl": "",
      "userId": "09011824138768270989"
     },
     "user_tz": -120
    },
    "id": "lbkuxBdvxS86",
    "outputId": "48e1339d-0426-48a2-d459-c1c54d44162c"
   },
   "outputs": [],
   "source": [
    "model = TFDistilBertForSequenceClassification.from_pretrained('distilbert-base-uncased', num_labels=3)"
   ]
  },
  {
   "cell_type": "code",
   "execution_count": 31,
   "metadata": {
    "colab": {
     "base_uri": "https://localhost:8080/"
    },
    "executionInfo": {
     "elapsed": 82011,
     "status": "ok",
     "timestamp": 1622146274400,
     "user": {
      "displayName": "Tymoteusz Wrzeszcz",
      "photoUrl": "",
      "userId": "09011824138768270989"
     },
     "user_tz": -120
    },
    "id": "XA8dnpj9hl4a",
    "outputId": "aec66b25-f4fc-4c02-d7e7-4316cf0a68e2"
   },
   "outputs": [],
   "source": [
    "early_stopping = keras.callbacks.EarlyStopping(patience=5, restore_best_weights=True)\n",
    "\n",
    "optimizer = keras.optimizers.Adam(learning_rate=3e-5)\n",
    "loss = keras.losses.SparseCategoricalCrossentropy(from_logits=True)\n",
    "model.compile(optimizer=optimizer, loss=loss, metrics=['accuracy'])\n",
    "model.fit(train_dataset, epochs=30, validation_data=valid_dataset, callbacks=[early_stopping])"
   ]
  },
  {
   "cell_type": "code",
   "execution_count": 27,
   "metadata": {
    "executionInfo": {
     "elapsed": 1528,
     "status": "ok",
     "timestamp": 1622141420593,
     "user": {
      "displayName": "Tymoteusz Wrzeszcz",
      "photoUrl": "",
      "userId": "09011824138768270989"
     },
     "user_tz": -120
    },
    "id": "JIoH7KNMhl4a"
   },
   "outputs": [],
   "source": [
    "model.save_pretrained('/distilbert_financial')"
   ]
  },
  {
   "cell_type": "markdown",
   "metadata": {},
   "source": [
    "## Evaluation"
   ]
  },
  {
   "cell_type": "markdown",
   "metadata": {},
   "source": [
    "Evaluation is done only on the test set because the train set is too big to fit in the memory for the inference. During training the accuracy of the model with early stopping on the train set was roughly 95.5% and of the model trained for 30 epochs it was 100%. "
   ]
  },
  {
   "cell_type": "markdown",
   "metadata": {},
   "source": [
    "### Model with early stopping"
   ]
  },
  {
   "cell_type": "code",
   "execution_count": 58,
   "metadata": {},
   "outputs": [
    {
     "name": "stderr",
     "output_type": "stream",
     "text": [
      "Some layers from the model checkpoint at distilbert_financial were not used when initializing TFDistilBertForSequenceClassification: ['dropout_19']\n",
      "- This IS expected if you are initializing TFDistilBertForSequenceClassification from the checkpoint of a model trained on another task or with another architecture (e.g. initializing a BertForSequenceClassification model from a BertForPreTraining model).\n",
      "- This IS NOT expected if you are initializing TFDistilBertForSequenceClassification from the checkpoint of a model that you expect to be exactly identical (initializing a BertForSequenceClassification model from a BertForSequenceClassification model).\n",
      "Some layers of TFDistilBertForSequenceClassification were not initialized from the model checkpoint at distilbert_financial and are newly initialized: ['dropout_155']\n",
      "You should probably TRAIN this model on a down-stream task to be able to use it for predictions and inference.\n"
     ]
    }
   ],
   "source": [
    "model_early_stop = TFDistilBertForSequenceClassification.from_pretrained('distilbert_financial')"
   ]
  },
  {
   "cell_type": "markdown",
   "metadata": {},
   "source": [
    "#### Test set"
   ]
  },
  {
   "cell_type": "code",
   "execution_count": 9,
   "metadata": {
    "executionInfo": {
     "elapsed": 3549,
     "status": "ok",
     "timestamp": 1622146716489,
     "user": {
      "displayName": "Tymoteusz Wrzeszcz",
      "photoUrl": "",
      "userId": "09011824138768270989"
     },
     "user_tz": -120
    },
    "id": "zz8AYa_I3EWs"
   },
   "outputs": [],
   "source": [
    "yhat = np.argmax(model_early_stop(tokenizer(X_test, return_tensors=\"tf\", truncation=True, padding=True)).logits, axis=1)"
   ]
  },
  {
   "cell_type": "code",
   "execution_count": 10,
   "metadata": {
    "colab": {
     "base_uri": "https://localhost:8080/",
     "height": 521
    },
    "executionInfo": {
     "elapsed": 586,
     "status": "ok",
     "timestamp": 1622146725404,
     "user": {
      "displayName": "Tymoteusz Wrzeszcz",
      "photoUrl": "",
      "userId": "09011824138768270989"
     },
     "user_tz": -120
    },
    "id": "dKfpQEx63Ane",
    "outputId": "9e72c142-51d5-4c57-bc34-59eddd7272ad"
   },
   "outputs": [
    {
     "name": "stdout",
     "output_type": "stream",
     "text": [
      "              precision    recall  f1-score   support\n",
      "\n",
      "           0       0.91      0.88      0.90       576\n",
      "           1       0.80      0.82      0.81       273\n",
      "           2       0.79      0.86      0.83       121\n",
      "\n",
      "    accuracy                           0.86       970\n",
      "   macro avg       0.84      0.86      0.84       970\n",
      "weighted avg       0.86      0.86      0.86       970\n",
      "\n"
     ]
    },
    {
     "data": {
      "image/png": "[encoded data removed]",
      "text/plain": [
       "<Figure size 360x360 with 2 Axes>"
      ]
     },
     "metadata": {
      "needs_background": "light"
     },
     "output_type": "display_data"
    },
    {
     "name": "stdout",
     "output_type": "stream",
     "text": [
      "Accuracy: 86.29\n"
     ]
    }
   ],
   "source": [
    "print(classification_report(y_test, yhat))\n",
    "fig, ax = plt.subplots(figsize=(5, 5))\n",
    "sns.heatmap(confusion_matrix(y_test, yhat), annot=True, fmt='g', ax=ax)\n",
    "plt.xlabel('Predicted')\n",
    "plt.ylabel('True')\n",
    "plt.show()\n",
    "print('Accuracy:', np.round(100 * accuracy_score(y_test, yhat), 2))"
   ]
  },
  {
   "cell_type": "markdown",
   "metadata": {},
   "source": [
    "### Model trained for 30 epochs"
   ]
  },
  {
   "cell_type": "code",
   "execution_count": 11,
   "metadata": {},
   "outputs": [
    {
     "name": "stderr",
     "output_type": "stream",
     "text": [
      "Some layers from the model checkpoint at distilbert_financial_full were not used when initializing TFDistilBertForSequenceClassification: ['dropout_97']\n",
      "- This IS expected if you are initializing TFDistilBertForSequenceClassification from the checkpoint of a model trained on another task or with another architecture (e.g. initializing a BertForSequenceClassification model from a BertForPreTraining model).\n",
      "- This IS NOT expected if you are initializing TFDistilBertForSequenceClassification from the checkpoint of a model that you expect to be exactly identical (initializing a BertForSequenceClassification model from a BertForSequenceClassification model).\n",
      "Some layers of TFDistilBertForSequenceClassification were not initialized from the model checkpoint at distilbert_financial_full and are newly initialized: ['dropout_59']\n",
      "You should probably TRAIN this model on a down-stream task to be able to use it for predictions and inference.\n"
     ]
    }
   ],
   "source": [
    "model_full = TFDistilBertForSequenceClassification.from_pretrained('distilbert_financial_full')"
   ]
  },
  {
   "cell_type": "markdown",
   "metadata": {},
   "source": [
    "#### Test set"
   ]
  },
  {
   "cell_type": "code",
   "execution_count": 12,
   "metadata": {},
   "outputs": [],
   "source": [
    "yhat = np.argmax(model_full(tokenizer(X_test, return_tensors=\"tf\", truncation=True, padding=True)).logits, axis=1)"
   ]
  },
  {
   "cell_type": "code",
   "execution_count": 13,
   "metadata": {},
   "outputs": [
    {
     "name": "stdout",
     "output_type": "stream",
     "text": [
      "              precision    recall  f1-score   support\n",
      "\n",
      "           0       0.90      0.88      0.89       576\n",
      "           1       0.78      0.84      0.81       273\n",
      "           2       0.81      0.79      0.80       121\n",
      "\n",
      "    accuracy                           0.85       970\n",
      "   macro avg       0.83      0.83      0.83       970\n",
      "weighted avg       0.86      0.85      0.86       970\n",
      "\n"
     ]
    },
    {
     "data": {
      "image/png": "[encoded data removed]",
      "text/plain": [
       "<Figure size 360x360 with 2 Axes>"
      ]
     },
     "metadata": {
      "needs_background": "light"
     },
     "output_type": "display_data"
    },
    {
     "name": "stdout",
     "output_type": "stream",
     "text": [
      "Accuracy: 85.46\n"
     ]
    }
   ],
   "source": [
    "print(classification_report(y_test, yhat))\n",
    "fig, ax = plt.subplots(figsize=(5, 5))\n",
    "sns.heatmap(confusion_matrix(y_test, yhat), annot=True, fmt='g', ax=ax)\n",
    "plt.xlabel('Predicted')\n",
    "plt.ylabel('True')\n",
    "plt.show()\n",
    "print('Accuracy:', np.round(100 * accuracy_score(y_test, yhat), 2))"
   ]
  },
  {
   "cell_type": "markdown",
   "metadata": {},
   "source": [
    "### Comparison with the RNN model"
   ]
  },
  {
   "cell_type": "code",
   "execution_count": 16,
   "metadata": {},
   "outputs": [
    {
     "name": "stdout",
     "output_type": "stream",
     "text": [
      "WARNING:tensorflow:No training configuration found in save file, so the model was *not* compiled. Compile it manually.\n"
     ]
    }
   ],
   "source": [
    "model_rnn = keras.models.load_model('sentiment_model.h5')\n",
    "vectorizer_model = keras.models.load_model('vectorizer')\n",
    "vectorizer = vectorizer_model.layers[0]\n",
    "prep_pipe = pickle.load(open('prep_pipe.pkl', 'rb'))"
   ]
  },
  {
   "cell_type": "code",
   "execution_count": 19,
   "metadata": {},
   "outputs": [],
   "source": [
    "X_test_prep = vectorizer(prep_pipe.transform(X_test))\n",
    "yhat_rnn = np.argmax(model_rnn.predict(X_test_prep), axis=-1)"
   ]
  },
  {
   "cell_type": "code",
   "execution_count": 22,
   "metadata": {},
   "outputs": [],
   "source": [
    "yhat_distilbert = np.argmax(model_early_stop(tokenizer(X_test, return_tensors=\"tf\", truncation=True, padding=True)).logits, axis=1)"
   ]
  },
  {
   "cell_type": "code",
   "execution_count": 24,
   "metadata": {},
   "outputs": [
    {
     "name": "stdout",
     "output_type": "stream",
     "text": [
      "RNN\n",
      "              precision    recall  f1-score   support\n",
      "\n",
      "           0       0.80      0.85      0.83       576\n",
      "           1       0.63      0.59      0.61       273\n",
      "           2       0.60      0.54      0.57       121\n",
      "\n",
      "    accuracy                           0.74       970\n",
      "   macro avg       0.68      0.66      0.67       970\n",
      "weighted avg       0.73      0.74      0.73       970\n",
      "\n",
      "Accuracy: 73.61\n",
      "DistilBERT\n",
      "              precision    recall  f1-score   support\n",
      "\n",
      "           0       0.91      0.88      0.90       576\n",
      "           1       0.80      0.82      0.81       273\n",
      "           2       0.79      0.86      0.83       121\n",
      "\n",
      "    accuracy                           0.86       970\n",
      "   macro avg       0.84      0.86      0.84       970\n",
      "weighted avg       0.86      0.86      0.86       970\n",
      "\n",
      "Accuracy: 86.29\n"
     ]
    }
   ],
   "source": [
    "print('RNN')\n",
    "print(classification_report(y_test, yhat_rnn))\n",
    "print('Accuracy:', np.round(100 * accuracy_score(y_test, yhat_rnn), 2))\n",
    "print('DistilBERT')\n",
    "print(classification_report(y_test, yhat_distilbert))\n",
    "print('Accuracy:', np.round(100 * accuracy_score(y_test, yhat_distilbert), 2))"
   ]
  },
  {
   "cell_type": "markdown",
   "metadata": {},
   "source": [
    "Above I have compared models which have achieved the lowest validation loss. DistilBERT model performs much better then the previously trained RNN especially on the minority classes so *negative* and *positive* comments. There is also roughly 13% increase in the accuracy."
   ]
  },
  {
   "cell_type": "code",
   "execution_count": 26,
   "metadata": {
    "executionInfo": {
     "elapsed": 191,
     "status": "ok",
     "timestamp": 1622132446307,
     "user": {
      "displayName": "Tymoteusz Wrzeszcz",
      "photoUrl": "",
      "userId": "09011824138768270989"
     },
     "user_tz": -120
    },
    "id": "WyzoYDsQmjEc"
   },
   "outputs": [],
   "source": [
    "sample = 'We could recently see an increase in the revenue of the X company from 20 millions USD to 50 millions USD.' \n",
    "sample_prep = tokenizer(sample, return_tensors=\"tf\")"
   ]
  },
  {
   "cell_type": "code",
   "execution_count": 27,
   "metadata": {
    "executionInfo": {
     "elapsed": 217,
     "status": "ok",
     "timestamp": 1622140458284,
     "user": {
      "displayName": "Tymoteusz Wrzeszcz",
      "photoUrl": "",
      "userId": "09011824138768270989"
     },
     "user_tz": -120
    },
    "id": "dwI9lSeun7Lc"
   },
   "outputs": [
    {
     "name": "stdout",
     "output_type": "stream",
     "text": [
      "positive\n"
     ]
    }
   ],
   "source": [
    "classes_map_inverse = {0: 'neutral', 1: 'positive', 2: 'negative'}\n",
    "yhat = np.argmax(model_early_stop(sample_prep).logits)\n",
    "print(classes_map_inverse[yhat])"
   ]
  },
  {
   "cell_type": "markdown",
   "metadata": {
    "id": "o7XQD8DaI2Xt"
   },
   "source": [
    "## BERT "
   ]
  },
  {
   "cell_type": "markdown",
   "metadata": {},
   "source": [
    "Steps for training using a pretrained *BERT* model are the same as for the *DistilBERT*. We just have to load a different tokenizer and use a different function to load a model. This model was only trained with an early stopping."
   ]
  },
  {
   "cell_type": "raw",
   "metadata": {
    "executionInfo": {
     "elapsed": 192,
     "status": "ok",
     "timestamp": 1622142750627,
     "user": {
      "displayName": "Tymoteusz Wrzeszcz",
      "photoUrl": "",
      "userId": "09011824138768270989"
     },
     "user_tz": -120
    },
    "id": "EcjRu401I3ew"
   },
   "source": [
    "tokenizer = BertTokenizerFast.from_pretrained('bert-base-uncased')"
   ]
  },
  {
   "cell_type": "code",
   "execution_count": 33,
   "metadata": {
    "executionInfo": {
     "elapsed": 481,
     "status": "ok",
     "timestamp": 1622141595277,
     "user": {
      "displayName": "Tymoteusz Wrzeszcz",
      "photoUrl": "",
      "userId": "09011824138768270989"
     },
     "user_tz": -120
    },
    "id": "kc9otxxDJrZ_"
   },
   "outputs": [],
   "source": [
    "train_encodings = tokenizer(X_train, truncation=True, padding=True)\n",
    "val_encodings = tokenizer(X_test, truncation=True, padding=True)"
   ]
  },
  {
   "cell_type": "code",
   "execution_count": 34,
   "metadata": {
    "executionInfo": {
     "elapsed": 5229,
     "status": "ok",
     "timestamp": 1622141603725,
     "user": {
      "displayName": "Tymoteusz Wrzeszcz",
      "photoUrl": "",
      "userId": "09011824138768270989"
     },
     "user_tz": -120
    },
    "id": "f3ip59T2Jr2t"
   },
   "outputs": [],
   "source": [
    "train_dataset = tf.data.Dataset.from_tensor_slices((dict(train_encodings), y_train)).shuffle(len(X_train)).batch(32).prefetch(1)\n",
    "valid_dataset = tf.data.Dataset.from_tensor_slices((dict(val_encodings), y_test)).batch(32).prefetch(1)"
   ]
  },
  {
   "cell_type": "code",
   "execution_count": 36,
   "metadata": {
    "colab": {
     "base_uri": "https://localhost:8080/",
     "height": 183,
     "referenced_widgets": [
      "a53e998b9cd443d8ac89c01a263bae96",
      "495d52b62859491cb9dd3c2c371f2203",
      "3822eeaed6ce463a91685b1f85f7bc17",
      "72cb8787582f472da31ce7542d6330b7",
      "38b26a15271a4cfd84d7f782d83a50b4",
      "fd848e59e9274e0795ec7ace902f7bfa",
      "250216a4e9a84af19f2559b55e0d3c38",
      "fbd734e162474353a301c6fa6a0a0420",
      "dc6d3bcf63f44bb99c479d1216d39f41",
      "b5c08f4c2fd9422cb8b6b61bdc79f7b5",
      "90627613310c40c5bbe593146cdcb3ba",
      "4a20cd0c197d4728b414c1d3a163bb44",
      "763a2634c9924f94aa68304b40a1ba8c",
      "f7e31d6a36c24f0eb64360ecd10703a4",
      "214867e2496743519d3f78326610c9ec",
      "9aa44638291243c6a528707589a3ff5e"
     ]
    },
    "executionInfo": {
     "elapsed": 12710,
     "status": "ok",
     "timestamp": 1622141663808,
     "user": {
      "displayName": "Tymoteusz Wrzeszcz",
      "photoUrl": "",
      "userId": "09011824138768270989"
     },
     "user_tz": -120
    },
    "id": "rpjpKRgWJ267",
    "outputId": "c048f462-42ae-4a32-e3a0-1542bd1b646a"
   },
   "outputs": [],
   "source": [
    "model = TFBertForSequenceClassification.from_pretrained('bert-base-uncased', num_labels=3)"
   ]
  },
  {
   "cell_type": "code",
   "execution_count": 38,
   "metadata": {
    "colab": {
     "base_uri": "https://localhost:8080/"
    },
    "executionInfo": {
     "elapsed": 29766,
     "status": "ok",
     "timestamp": 1622142539602,
     "user": {
      "displayName": "Tymoteusz Wrzeszcz",
      "photoUrl": "",
      "userId": "09011824138768270989"
     },
     "user_tz": -120
    },
    "id": "v6meRS5rJ3Lh",
    "outputId": "909a296f-0499-4d67-ec22-a5a5d00f9353"
   },
   "outputs": [],
   "source": [
    "early_stopping = keras.callbacks.EarlyStopping(patience=5, restore_best_weights=True)\n",
    "\n",
    "optimizer = keras.optimizers.Adam(learning_rate=3e-5)\n",
    "loss = keras.losses.SparseCategoricalCrossentropy(from_logits=True)\n",
    "model.compile(optimizer=optimizer, loss=loss, metrics=['accuracy'])\n",
    "model.fit(train_dataset, epochs=30, validation_data=valid_dataset, callbacks=[early_stopping])"
   ]
  },
  {
   "cell_type": "code",
   "execution_count": null,
   "metadata": {},
   "outputs": [],
   "source": [
    "model.save_pretrained('/bert_financial')"
   ]
  },
  {
   "cell_type": "code",
   "execution_count": 39,
   "metadata": {
    "colab": {
     "base_uri": "https://localhost:8080/"
    },
    "executionInfo": {
     "elapsed": 6364,
     "status": "ok",
     "timestamp": 1622142762299,
     "user": {
      "displayName": "Tymoteusz Wrzeszcz",
      "photoUrl": "",
      "userId": "09011824138768270989"
     },
     "user_tz": -120
    },
    "id": "k4jWdcG_PMni",
    "outputId": "d3a4b8be-bf7f-4014-a967-0e6957d4457b"
   },
   "outputs": [
    {
     "name": "stderr",
     "output_type": "stream",
     "text": [
      "Some layers from the model checkpoint at bert_financial were not used when initializing TFBertForSequenceClassification: ['dropout_37']\n",
      "- This IS expected if you are initializing TFBertForSequenceClassification from the checkpoint of a model trained on another task or with another architecture (e.g. initializing a BertForSequenceClassification model from a BertForPreTraining model).\n",
      "- This IS NOT expected if you are initializing TFBertForSequenceClassification from the checkpoint of a model that you expect to be exactly identical (initializing a BertForSequenceClassification model from a BertForSequenceClassification model).\n",
      "All the layers of TFBertForSequenceClassification were initialized from the model checkpoint at bert_financial.\n",
      "If your task is similar to the task the model of the checkpoint was trained on, you can already use TFBertForSequenceClassification for predictions without further training.\n"
     ]
    }
   ],
   "source": [
    "model_BERT = TFBertForSequenceClassification.from_pretrained('bert_financial')"
   ]
  },
  {
   "cell_type": "markdown",
   "metadata": {},
   "source": [
    "#### Test set"
   ]
  },
  {
   "cell_type": "code",
   "execution_count": 40,
   "metadata": {
    "executionInfo": {
     "elapsed": 6701,
     "status": "ok",
     "timestamp": 1622142790461,
     "user": {
      "displayName": "Tymoteusz Wrzeszcz",
      "photoUrl": "",
      "userId": "09011824138768270989"
     },
     "user_tz": -120
    },
    "id": "W8eA1XIBPN1A"
   },
   "outputs": [],
   "source": [
    "yhat = np.argmax(model_BERT(tokenizer(X_test, return_tensors=\"tf\", truncation=True, padding=True)).logits, axis=1)"
   ]
  },
  {
   "cell_type": "code",
   "execution_count": 41,
   "metadata": {
    "colab": {
     "base_uri": "https://localhost:8080/",
     "height": 521
    },
    "executionInfo": {
     "elapsed": 456,
     "status": "ok",
     "timestamp": 1622142794753,
     "user": {
      "displayName": "Tymoteusz Wrzeszcz",
      "photoUrl": "",
      "userId": "09011824138768270989"
     },
     "user_tz": -120
    },
    "id": "q-WjiCNtPZTE",
    "outputId": "d90ef8a3-7a0a-4b3c-a0d1-1a79bc22b180"
   },
   "outputs": [
    {
     "name": "stdout",
     "output_type": "stream",
     "text": [
      "              precision    recall  f1-score   support\n",
      "\n",
      "           0       0.91      0.90      0.91       576\n",
      "           1       0.84      0.81      0.82       273\n",
      "           2       0.79      0.88      0.83       121\n",
      "\n",
      "    accuracy                           0.87       970\n",
      "   macro avg       0.85      0.86      0.85       970\n",
      "weighted avg       0.87      0.87      0.87       970\n",
      "\n"
     ]
    },
    {
     "data": {
      "image/png": "[encoded data removed]",
      "text/plain": [
       "<Figure size 360x360 with 2 Axes>"
      ]
     },
     "metadata": {
      "needs_background": "light"
     },
     "output_type": "display_data"
    },
    {
     "name": "stdout",
     "output_type": "stream",
     "text": [
      "Accuracy: 87.32\n"
     ]
    }
   ],
   "source": [
    "print(classification_report(y_test, yhat))\n",
    "fig, ax = plt.subplots(figsize=(5, 5))\n",
    "sns.heatmap(confusion_matrix(y_test, yhat), annot=True, fmt='g', ax=ax)\n",
    "plt.xlabel('Predicted')\n",
    "plt.ylabel('True')\n",
    "plt.show()\n",
    "print('Accuracy:', np.round(100 * accuracy_score(y_test, yhat), 2))"
   ]
  },
  {
   "cell_type": "markdown",
   "metadata": {},
   "source": [
    "### BERT and DistilBERT comparison"
   ]
  },
  {
   "cell_type": "code",
   "execution_count": 42,
   "metadata": {},
   "outputs": [],
   "source": [
    "yhat_distilbert = np.argmax(model_early_stop(tokenizer(X_test, return_tensors=\"tf\", truncation=True, padding=True)).logits, axis=1)"
   ]
  },
  {
   "cell_type": "code",
   "execution_count": 43,
   "metadata": {},
   "outputs": [],
   "source": [
    "yhat_bert = np.argmax(model_BERT(tokenizer(X_test, return_tensors=\"tf\", truncation=True, padding=True)).logits, axis=1)"
   ]
  },
  {
   "cell_type": "code",
   "execution_count": 45,
   "metadata": {},
   "outputs": [
    {
     "name": "stdout",
     "output_type": "stream",
     "text": [
      "DistilBERT\n",
      "              precision    recall  f1-score   support\n",
      "\n",
      "           0       0.91      0.88      0.90       576\n",
      "           1       0.80      0.82      0.81       273\n",
      "           2       0.79      0.86      0.83       121\n",
      "\n",
      "    accuracy                           0.86       970\n",
      "   macro avg       0.84      0.86      0.84       970\n",
      "weighted avg       0.86      0.86      0.86       970\n",
      "\n",
      "Accuracy: 86.29\n",
      "BERT\n",
      "              precision    recall  f1-score   support\n",
      "\n",
      "           0       0.91      0.90      0.91       576\n",
      "           1       0.84      0.81      0.82       273\n",
      "           2       0.79      0.88      0.83       121\n",
      "\n",
      "    accuracy                           0.87       970\n",
      "   macro avg       0.85      0.86      0.85       970\n",
      "weighted avg       0.87      0.87      0.87       970\n",
      "\n",
      "Accuracy: 87.32\n"
     ]
    }
   ],
   "source": [
    "print('DistilBERT')\n",
    "print(classification_report(y_test, yhat_distilbert))\n",
    "print('Accuracy:', np.round(100 * accuracy_score(y_test, yhat_distilbert), 2))\n",
    "print('BERT')\n",
    "print(classification_report(y_test, yhat_bert))\n",
    "print('Accuracy:', np.round(100 * accuracy_score(y_test, yhat_bert), 2))"
   ]
  },
  {
   "cell_type": "markdown",
   "metadata": {},
   "source": [
    "*BERT* model peforms just a little bit better than the *DistilBERT*. However it takes 60% more space and training a single epoch is almost 3 times slower than with the *DistilBERT*. The accuracy of the *BERT* model on the train set during training was roughly 91% so less than with the *DistilBERT* model."
   ]
  }
 ],
 "metadata": {
  "accelerator": "GPU",
  "colab": {
   "collapsed_sections": [],
   "name": "sentiment_analysis_financial_pretrained.ipynb",
   "provenance": []
  },
  "kernelspec": {
   "display_name": "Python 3",
   "language": "python",
   "name": "python3"
  },
  "language_info": {
   "codemirror_mode": {
    "name": "ipython",
    "version": 3
   },
   "file_extension": ".py",
   "mimetype": "text/x-python",
   "name": "python",
   "nbconvert_exporter": "python",
   "pygments_lexer": "ipython3",
   "version": "3.8.5"
  },
  "widgets": {
   "application/vnd.jupyter.widget-state+json": {
    "214867e2496743519d3f78326610c9ec": {
     "model_module": "@jupyter-widgets/controls",
     "model_name": "DescriptionStyleModel",
     "state": {
      "_model_module": "@jupyter-widgets/controls",
      "_model_module_version": "1.5.0",
      "_model_name": "DescriptionStyleModel",
      "_view_count": null,
      "_view_module": "@jupyter-widgets/base",
      "_view_module_version": "1.2.0",
      "_view_name": "StyleView",
      "description_width": ""
     }
    },
    "250216a4e9a84af19f2559b55e0d3c38": {
     "model_module": "@jupyter-widgets/controls",
     "model_name": "DescriptionStyleModel",
     "state": {
      "_model_module": "@jupyter-widgets/controls",
      "_model_module_version": "1.5.0",
      "_model_name": "DescriptionStyleModel",
      "_view_count": null,
      "_view_module": "@jupyter-widgets/base",
      "_view_module_version": "1.2.0",
      "_view_name": "StyleView",
      "description_width": ""
     }
    },
    "3822eeaed6ce463a91685b1f85f7bc17": {
     "model_module": "@jupyter-widgets/controls",
     "model_name": "FloatProgressModel",
     "state": {
      "_dom_classes": [],
      "_model_module": "@jupyter-widgets/controls",
      "_model_module_version": "1.5.0",
      "_model_name": "FloatProgressModel",
      "_view_count": null,
      "_view_module": "@jupyter-widgets/controls",
      "_view_module_version": "1.5.0",
      "_view_name": "ProgressView",
      "bar_style": "success",
      "description": "Downloading: 100%",
      "description_tooltip": null,
      "layout": "IPY_MODEL_fd848e59e9274e0795ec7ace902f7bfa",
      "max": 570,
      "min": 0,
      "orientation": "horizontal",
      "style": "IPY_MODEL_38b26a15271a4cfd84d7f782d83a50b4",
      "value": 570
     }
    },
    "38b26a15271a4cfd84d7f782d83a50b4": {
     "model_module": "@jupyter-widgets/controls",
     "model_name": "ProgressStyleModel",
     "state": {
      "_model_module": "@jupyter-widgets/controls",
      "_model_module_version": "1.5.0",
      "_model_name": "ProgressStyleModel",
      "_view_count": null,
      "_view_module": "@jupyter-widgets/base",
      "_view_module_version": "1.2.0",
      "_view_name": "StyleView",
      "bar_color": null,
      "description_width": "initial"
     }
    },
    "495d52b62859491cb9dd3c2c371f2203": {
     "model_module": "@jupyter-widgets/base",
     "model_name": "LayoutModel",
     "state": {
      "_model_module": "@jupyter-widgets/base",
      "_model_module_version": "1.2.0",
      "_model_name": "LayoutModel",
      "_view_count": null,
      "_view_module": "@jupyter-widgets/base",
      "_view_module_version": "1.2.0",
      "_view_name": "LayoutView",
      "align_content": null,
      "align_items": null,
      "align_self": null,
      "border": null,
      "bottom": null,
      "display": null,
      "flex": null,
      "flex_flow": null,
      "grid_area": null,
      "grid_auto_columns": null,
      "grid_auto_flow": null,
      "grid_auto_rows": null,
      "grid_column": null,
      "grid_gap": null,
      "grid_row": null,
      "grid_template_areas": null,
      "grid_template_columns": null,
      "grid_template_rows": null,
      "height": null,
      "justify_content": null,
      "justify_items": null,
      "left": null,
      "margin": null,
      "max_height": null,
      "max_width": null,
      "min_height": null,
      "min_width": null,
      "object_fit": null,
      "object_position": null,
      "order": null,
      "overflow": null,
      "overflow_x": null,
      "overflow_y": null,
      "padding": null,
      "right": null,
      "top": null,
      "visibility": null,
      "width": null
     }
    },
    "4a20cd0c197d4728b414c1d3a163bb44": {
     "model_module": "@jupyter-widgets/controls",
     "model_name": "HTMLModel",
     "state": {
      "_dom_classes": [],
      "_model_module": "@jupyter-widgets/controls",
      "_model_module_version": "1.5.0",
      "_model_name": "HTMLModel",
      "_view_count": null,
      "_view_module": "@jupyter-widgets/controls",
      "_view_module_version": "1.5.0",
      "_view_name": "HTMLView",
      "description": "",
      "description_tooltip": null,
      "layout": "IPY_MODEL_9aa44638291243c6a528707589a3ff5e",
      "placeholder": "​",
      "style": "IPY_MODEL_214867e2496743519d3f78326610c9ec",
      "value": " 536M/536M [00:11&lt;00:00, 48.2MB/s]"
     }
    },
    "72cb8787582f472da31ce7542d6330b7": {
     "model_module": "@jupyter-widgets/controls",
     "model_name": "HTMLModel",
     "state": {
      "_dom_classes": [],
      "_model_module": "@jupyter-widgets/controls",
      "_model_module_version": "1.5.0",
      "_model_name": "HTMLModel",
      "_view_count": null,
      "_view_module": "@jupyter-widgets/controls",
      "_view_module_version": "1.5.0",
      "_view_name": "HTMLView",
      "description": "",
      "description_tooltip": null,
      "layout": "IPY_MODEL_fbd734e162474353a301c6fa6a0a0420",
      "placeholder": "​",
      "style": "IPY_MODEL_250216a4e9a84af19f2559b55e0d3c38",
      "value": " 570/570 [00:00&lt;00:00, 1.31kB/s]"
     }
    },
    "763a2634c9924f94aa68304b40a1ba8c": {
     "model_module": "@jupyter-widgets/controls",
     "model_name": "ProgressStyleModel",
     "state": {
      "_model_module": "@jupyter-widgets/controls",
      "_model_module_version": "1.5.0",
      "_model_name": "ProgressStyleModel",
      "_view_count": null,
      "_view_module": "@jupyter-widgets/base",
      "_view_module_version": "1.2.0",
      "_view_name": "StyleView",
      "bar_color": null,
      "description_width": "initial"
     }
    },
    "90627613310c40c5bbe593146cdcb3ba": {
     "model_module": "@jupyter-widgets/controls",
     "model_name": "FloatProgressModel",
     "state": {
      "_dom_classes": [],
      "_model_module": "@jupyter-widgets/controls",
      "_model_module_version": "1.5.0",
      "_model_name": "FloatProgressModel",
      "_view_count": null,
      "_view_module": "@jupyter-widgets/controls",
      "_view_module_version": "1.5.0",
      "_view_name": "ProgressView",
      "bar_style": "success",
      "description": "Downloading: 100%",
      "description_tooltip": null,
      "layout": "IPY_MODEL_f7e31d6a36c24f0eb64360ecd10703a4",
      "max": 536063208,
      "min": 0,
      "orientation": "horizontal",
      "style": "IPY_MODEL_763a2634c9924f94aa68304b40a1ba8c",
      "value": 536063208
     }
    },
    "9aa44638291243c6a528707589a3ff5e": {
     "model_module": "@jupyter-widgets/base",
     "model_name": "LayoutModel",
     "state": {
      "_model_module": "@jupyter-widgets/base",
      "_model_module_version": "1.2.0",
      "_model_name": "LayoutModel",
      "_view_count": null,
      "_view_module": "@jupyter-widgets/base",
      "_view_module_version": "1.2.0",
      "_view_name": "LayoutView",
      "align_content": null,
      "align_items": null,
      "align_self": null,
      "border": null,
      "bottom": null,
      "display": null,
      "flex": null,
      "flex_flow": null,
      "grid_area": null,
      "grid_auto_columns": null,
      "grid_auto_flow": null,
      "grid_auto_rows": null,
      "grid_column": null,
      "grid_gap": null,
      "grid_row": null,
      "grid_template_areas": null,
      "grid_template_columns": null,
      "grid_template_rows": null,
      "height": null,
      "justify_content": null,
      "justify_items": null,
      "left": null,
      "margin": null,
      "max_height": null,
      "max_width": null,
      "min_height": null,
      "min_width": null,
      "object_fit": null,
      "object_position": null,
      "order": null,
      "overflow": null,
      "overflow_x": null,
      "overflow_y": null,
      "padding": null,
      "right": null,
      "top": null,
      "visibility": null,
      "width": null
     }
    },
    "a53e998b9cd443d8ac89c01a263bae96": {
     "model_module": "@jupyter-widgets/controls",
     "model_name": "HBoxModel",
     "state": {
      "_dom_classes": [],
      "_model_module": "@jupyter-widgets/controls",
      "_model_module_version": "1.5.0",
      "_model_name": "HBoxModel",
      "_view_count": null,
      "_view_module": "@jupyter-widgets/controls",
      "_view_module_version": "1.5.0",
      "_view_name": "HBoxView",
      "box_style": "",
      "children": [
       "IPY_MODEL_3822eeaed6ce463a91685b1f85f7bc17",
       "IPY_MODEL_72cb8787582f472da31ce7542d6330b7"
      ],
      "layout": "IPY_MODEL_495d52b62859491cb9dd3c2c371f2203"
     }
    },
    "b5c08f4c2fd9422cb8b6b61bdc79f7b5": {
     "model_module": "@jupyter-widgets/base",
     "model_name": "LayoutModel",
     "state": {
      "_model_module": "@jupyter-widgets/base",
      "_model_module_version": "1.2.0",
      "_model_name": "LayoutModel",
      "_view_count": null,
      "_view_module": "@jupyter-widgets/base",
      "_view_module_version": "1.2.0",
      "_view_name": "LayoutView",
      "align_content": null,
      "align_items": null,
      "align_self": null,
      "border": null,
      "bottom": null,
      "display": null,
      "flex": null,
      "flex_flow": null,
      "grid_area": null,
      "grid_auto_columns": null,
      "grid_auto_flow": null,
      "grid_auto_rows": null,
      "grid_column": null,
      "grid_gap": null,
      "grid_row": null,
      "grid_template_areas": null,
      "grid_template_columns": null,
      "grid_template_rows": null,
      "height": null,
      "justify_content": null,
      "justify_items": null,
      "left": null,
      "margin": null,
      "max_height": null,
      "max_width": null,
      "min_height": null,
      "min_width": null,
      "object_fit": null,
      "object_position": null,
      "order": null,
      "overflow": null,
      "overflow_x": null,
      "overflow_y": null,
      "padding": null,
      "right": null,
      "top": null,
      "visibility": null,
      "width": null
     }
    },
    "dc6d3bcf63f44bb99c479d1216d39f41": {
     "model_module": "@jupyter-widgets/controls",
     "model_name": "HBoxModel",
     "state": {
      "_dom_classes": [],
      "_model_module": "@jupyter-widgets/controls",
      "_model_module_version": "1.5.0",
      "_model_name": "HBoxModel",
      "_view_count": null,
      "_view_module": "@jupyter-widgets/controls",
      "_view_module_version": "1.5.0",
      "_view_name": "HBoxView",
      "box_style": "",
      "children": [
       "IPY_MODEL_90627613310c40c5bbe593146cdcb3ba",
       "IPY_MODEL_4a20cd0c197d4728b414c1d3a163bb44"
      ],
      "layout": "IPY_MODEL_b5c08f4c2fd9422cb8b6b61bdc79f7b5"
     }
    },
    "f7e31d6a36c24f0eb64360ecd10703a4": {
     "model_module": "@jupyter-widgets/base",
     "model_name": "LayoutModel",
     "state": {
      "_model_module": "@jupyter-widgets/base",
      "_model_module_version": "1.2.0",
      "_model_name": "LayoutModel",
      "_view_count": null,
      "_view_module": "@jupyter-widgets/base",
      "_view_module_version": "1.2.0",
      "_view_name": "LayoutView",
      "align_content": null,
      "align_items": null,
      "align_self": null,
      "border": null,
      "bottom": null,
      "display": null,
      "flex": null,
      "flex_flow": null,
      "grid_area": null,
      "grid_auto_columns": null,
      "grid_auto_flow": null,
      "grid_auto_rows": null,
      "grid_column": null,
      "grid_gap": null,
      "grid_row": null,
      "grid_template_areas": null,
      "grid_template_columns": null,
      "grid_template_rows": null,
      "height": null,
      "justify_content": null,
      "justify_items": null,
      "left": null,
      "margin": null,
      "max_height": null,
      "max_width": null,
      "min_height": null,
      "min_width": null,
      "object_fit": null,
      "object_position": null,
      "order": null,
      "overflow": null,
      "overflow_x": null,
      "overflow_y": null,
      "padding": null,
      "right": null,
      "top": null,
      "visibility": null,
      "width": null
     }
    },
    "fbd734e162474353a301c6fa6a0a0420": {
     "model_module": "@jupyter-widgets/base",
     "model_name": "LayoutModel",
     "state": {
      "_model_module": "@jupyter-widgets/base",
      "_model_module_version": "1.2.0",
      "_model_name": "LayoutModel",
      "_view_count": null,
      "_view_module": "@jupyter-widgets/base",
      "_view_module_version": "1.2.0",
      "_view_name": "LayoutView",
      "align_content": null,
      "align_items": null,
      "align_self": null,
      "border": null,
      "bottom": null,
      "display": null,
      "flex": null,
      "flex_flow": null,
      "grid_area": null,
      "grid_auto_columns": null,
      "grid_auto_flow": null,
      "grid_auto_rows": null,
      "grid_column": null,
      "grid_gap": null,
      "grid_row": null,
      "grid_template_areas": null,
      "grid_template_columns": null,
      "grid_template_rows": null,
      "height": null,
      "justify_content": null,
      "justify_items": null,
      "left": null,
      "margin": null,
      "max_height": null,
      "max_width": null,
      "min_height": null,
      "min_width": null,
      "object_fit": null,
      "object_position": null,
      "order": null,
      "overflow": null,
      "overflow_x": null,
      "overflow_y": null,
      "padding": null,
      "right": null,
      "top": null,
      "visibility": null,
      "width": null
     }
    },
    "fd848e59e9274e0795ec7ace902f7bfa": {
     "model_module": "@jupyter-widgets/base",
     "model_name": "LayoutModel",
     "state": {
      "_model_module": "@jupyter-widgets/base",
      "_model_module_version": "1.2.0",
      "_model_name": "LayoutModel",
      "_view_count": null,
      "_view_module": "@jupyter-widgets/base",
      "_view_module_version": "1.2.0",
      "_view_name": "LayoutView",
      "align_content": null,
      "align_items": null,
      "align_self": null,
      "border": null,
      "bottom": null,
      "display": null,
      "flex": null,
      "flex_flow": null,
      "grid_area": null,
      "grid_auto_columns": null,
      "grid_auto_flow": null,
      "grid_auto_rows": null,
      "grid_column": null,
      "grid_gap": null,
      "grid_row": null,
      "grid_template_areas": null,
      "grid_template_columns": null,
      "grid_template_rows": null,
      "height": null,
      "justify_content": null,
      "justify_items": null,
      "left": null,
      "margin": null,
      "max_height": null,
      "max_width": null,
      "min_height": null,
      "min_width": null,
      "object_fit": null,
      "object_position": null,
      "order": null,
      "overflow": null,
      "overflow_x": null,
      "overflow_y": null,
      "padding": null,
      "right": null,
      "top": null,
      "visibility": null,
      "width": null
     }
    }
   }
  }
 },
 "nbformat": 4,
 "nbformat_minor": 1
}
